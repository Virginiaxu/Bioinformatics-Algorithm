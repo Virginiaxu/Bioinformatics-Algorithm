{
 "cells": [
  {
   "cell_type": "code",
   "execution_count": 29,
   "metadata": {
    "collapsed": true
   },
   "outputs": [],
   "source": [
    "def MinimalChanges(money, Coins):\n",
    "    ChangeArray=[0]\n",
    "    for i in range(1, money+1):\n",
    "        minamount = money\n",
    "        for coin in Coins:\n",
    "            if i >= coin:\n",
    "                amount = 1 + ChangeArray[i-coin]\n",
    "                if amount < minamount:\n",
    "                    minamount = amount\n",
    "        ChangeArray.append(minamount)\n",
    "    return ChangeArray[-1]\n",
    "        "
   ]
  },
  {
   "cell_type": "code",
   "execution_count": 25,
   "metadata": {
    "collapsed": true
   },
   "outputs": [],
   "source": [
    "m=40\n",
    "cs={1,5,10,20,25,50}"
   ]
  },
  {
   "cell_type": "code",
   "execution_count": 27,
   "metadata": {
    "collapsed": true
   },
   "outputs": [],
   "source": [
    "money=8074\n",
    "coins={24,13,12,7,5,3,1}"
   ]
  },
  {
   "cell_type": "code",
   "execution_count": 32,
   "metadata": {},
   "outputs": [
    {
     "data": {
      "text/plain": [
       "1012"
      ]
     },
     "execution_count": 32,
     "metadata": {},
     "output_type": "execute_result"
    }
   ],
   "source": [
    "MinimalChanges(money, coins)"
   ]
  },
  {
   "cell_type": "code",
   "execution_count": 31,
   "metadata": {
    "collapsed": true
   },
   "outputs": [],
   "source": [
    "money=17183\n",
    "coins=1,3,5,6,10,17"
   ]
  },
  {
   "cell_type": "code",
   "execution_count": 129,
   "metadata": {},
   "outputs": [],
   "source": [
    "def ManhanttanTourist(n,m,Down, Right):\n",
    "    S=[]\n",
    "    for i in range(0, n+1):\n",
    "        a=[]\n",
    "        for j in range(0, m+1):\n",
    "            a.append(0)\n",
    "        S.append(a)\n",
    "    for i in range(1,n+1):\n",
    "        S[i][0] = S[i-1][0]+ Down[i-1][0]\n",
    "    for i in range(1,m+1):\n",
    "        S[0][i] = S[0][i-1] + Right[0][i-1]\n",
    "    for i in range(1,n+1):\n",
    "        for j in range(1, m+1):\n",
    "            S[i][j] = max(S[i][j-1]+Right[i][j-1], S[i-1][j]+Down[i-1][j])\n",
    "    return S[-1][-1]\n",
    "        \n",
    "    "
   ]
  },
  {
   "cell_type": "code",
   "execution_count": 83,
   "metadata": {
    "collapsed": true
   },
   "outputs": [],
   "source": [
    "n=4 \n",
    "m=4\n",
    "Down=[[1,0,2,4,3],\n",
    "[4,6, 5, 2, 1],\n",
    "[4,4, 5, 2, 1],\n",
    "[5, 6, 8, 5, 3]]\n",
    "\n",
    "Right=[[3, 2, 4, 0],\n",
    "[3, 2, 4, 2],\n",
    "[0, 7, 3, 3],\n",
    "[3, 3, 0, 2],\n",
    "[1, 3, 2, 2]]\n"
   ]
  },
  {
   "cell_type": "code",
   "execution_count": 80,
   "metadata": {},
   "outputs": [
    {
     "ename": "IndexError",
     "evalue": "list index out of range",
     "output_type": "error",
     "traceback": [
      "\u001b[1;31m---------------------------------------------------------------------------\u001b[0m",
      "\u001b[1;31mIndexError\u001b[0m                                Traceback (most recent call last)",
      "\u001b[1;32m<ipython-input-80-de4df1d6c459>\u001b[0m in \u001b[0;36m<module>\u001b[1;34m()\u001b[0m\n\u001b[1;32m----> 1\u001b[1;33m \u001b[0mDown\u001b[0m\u001b[1;33m[\u001b[0m\u001b[1;36m4\u001b[0m\u001b[1;33m]\u001b[0m\u001b[1;33m[\u001b[0m\u001b[1;36m1\u001b[0m\u001b[1;33m]\u001b[0m\u001b[1;33m\u001b[0m\u001b[0m\n\u001b[0m",
      "\u001b[1;31mIndexError\u001b[0m: list index out of range"
     ]
    }
   ],
   "source": [
    "Down[4][1]"
   ]
  },
  {
   "cell_type": "code",
   "execution_count": 86,
   "metadata": {},
   "outputs": [
    {
     "name": "stdout",
     "output_type": "stream",
     "text": [
      "[[0, 0, 0, 0, 0], [0, 0, 0, 0, 0], [0, 0, 0, 0, 0], [0, 0, 0, 0, 0], [0, 0, 0, 0, 0]]\n",
      "1\n",
      "2\n",
      "3\n",
      "4\n"
     ]
    },
    {
     "data": {
      "text/plain": [
       "34"
      ]
     },
     "execution_count": 86,
     "metadata": {},
     "output_type": "execute_result"
    }
   ],
   "source": [
    "ManhanttanTourist(n,m,Down, Right)"
   ]
  },
  {
   "cell_type": "code",
   "execution_count": 130,
   "metadata": {},
   "outputs": [
    {
     "data": {
      "text/plain": [
       "56"
      ]
     },
     "execution_count": 130,
     "metadata": {},
     "output_type": "execute_result"
    }
   ],
   "source": [
    "with open(\"./Desktop/test_34.txt\", \"r\") as file:\n",
    "    count = 0\n",
    "    Down = []\n",
    "    Right = []\n",
    "    isDown = True\n",
    "    for line in file:\n",
    "        count = count + 1\n",
    "        if count == 1:\n",
    "            nm = line.rstrip('\\n')\n",
    "            n = int(nm.split(' ')[0])\n",
    "            m= int(nm.split(\" \")[1])\n",
    "        else:\n",
    "            row = line.rstrip(\"\\n\")\n",
    "            if row == \"-\":\n",
    "                isDown = False\n",
    "            else:\n",
    "                if isDown:\n",
    "                    nums = list(map(int, row.split(\" \")))\n",
    "                    Down.append(nums)\n",
    "                else:\n",
    "                    nums = list(map(int, row.split(\" \")))\n",
    "                    Right.append(nums)\n",
    "                    \n",
    "\n",
    "ManhanttanTourist(n,m,Down, Right)\n",
    "                \n",
    "        \n",
    "            \n",
    "            \n",
    "            "
   ]
  },
  {
   "cell_type": "code",
   "execution_count": 124,
   "metadata": {},
   "outputs": [],
   "source": [
    "a = \"a b c d e\"\n",
    "b = a.split(\" \")\n"
   ]
  },
  {
   "cell_type": "code",
   "execution_count": 111,
   "metadata": {},
   "outputs": [
    {
     "data": {
      "text/plain": [
       "['a', 'b', 'c', 'd', 'e']"
      ]
     },
     "execution_count": 111,
     "metadata": {},
     "output_type": "execute_result"
    }
   ],
   "source": [
    "b"
   ]
  },
  {
   "cell_type": "code",
   "execution_count": 227,
   "metadata": {},
   "outputs": [],
   "source": [
    "def LCSBacktrack(v,w):\n",
    "    n = len(v)\n",
    "    m = len(w)\n",
    "    S=[]\n",
    "    Backtrack = []\n",
    "    for i in range(0, n+1):\n",
    "        a=[]\n",
    "        for j in range(0, m+1):\n",
    "            a.append(0)\n",
    "        S.append(a)\n",
    "        Backtrack.append(a[:])\n",
    "    for i in range(1, n+1):\n",
    "        for j in range(1, m+1):\n",
    "            if v[i-1] == w[j-1]:\n",
    "                S[i][j]= max(S[i-1][j], S[i][j-1], S[i-1][j-1]+1)\n",
    "            else:\n",
    "                 S[i][j]= max(S[i-1][j], S[i][j-1])  \n",
    "            if S[i][j] == S[i-1][j]:\n",
    "                Backtrack[i][j] = 1\n",
    "            elif S[i][j] == S[i][j-1]:\n",
    "                Backtrack[i][j] = 2\n",
    "            elif v[i-1] == w[j-1] and S[i][j]==S[i-1][j-1]+1:\n",
    "                Backtrack[i][j] = 3\n",
    "    return Backtrack\n",
    "                "
   ]
  },
  {
   "cell_type": "code",
   "execution_count": 207,
   "metadata": {},
   "outputs": [],
   "source": [
    "v=\"AACCTTGG\"\n",
    "w=\"ACACTGTGA\""
   ]
  },
  {
   "cell_type": "code",
   "execution_count": 228,
   "metadata": {},
   "outputs": [
    {
     "name": "stdout",
     "output_type": "stream",
     "text": [
      "[[0, 0, 0, 0, 0, 0, 0, 0, 0, 0], [0, 3, 2, 2, 2, 2, 2, 2, 2, 2], [0, 1, 1, 3, 2, 2, 2, 2, 2, 2], [0, 1, 3, 1, 3, 2, 2, 2, 2, 2], [0, 1, 1, 1, 1, 1, 1, 1, 1, 1], [0, 1, 1, 1, 1, 3, 2, 2, 2, 2], [0, 1, 1, 1, 1, 1, 1, 3, 2, 2], [0, 1, 1, 1, 1, 1, 3, 1, 3, 2], [0, 1, 1, 1, 1, 1, 1, 1, 1, 1]]\n"
     ]
    }
   ],
   "source": [
    "Backtrack=LCSBacktrack(v,w)\n",
    "print(Backtrack)"
   ]
  },
  {
   "cell_type": "code",
   "execution_count": 236,
   "metadata": {},
   "outputs": [],
   "source": [
    "\n",
    "def OutputLCS(Backtrack, v, i, j):\n",
    "    if i == 0 or j == 0:\n",
    "        return\n",
    "    if Backtrack[i][j] == 1:\n",
    "        OutputLCS(Backtrack, v, i-1, j)\n",
    "    elif Backtrack[i][j] ==2:\n",
    "        OutputLCS(Backtrack, v, i, j-1)\n",
    "    else:\n",
    "        OutputLCS(Backtrack, v, i-1 ,j-1)\n",
    "        print(v[i-1], end=\"\")\n",
    "    \n",
    "    "
   ]
  },
  {
   "cell_type": "code",
   "execution_count": 191,
   "metadata": {},
   "outputs": [
    {
     "data": {
      "text/plain": [
       "'b'"
      ]
     },
     "execution_count": 191,
     "metadata": {},
     "output_type": "execute_result"
    }
   ],
   "source": [
    "a=\"\"\n",
    "a=a+\"b\"\n",
    "a"
   ]
  },
  {
   "cell_type": "code",
   "execution_count": 230,
   "metadata": {},
   "outputs": [
    {
     "name": "stdout",
     "output_type": "stream",
     "text": [
      "ACCTGG"
     ]
    }
   ],
   "source": [
    "OutputLCS(Backtrack, v, 8, 9)"
   ]
  },
  {
   "cell_type": "code",
   "execution_count": 240,
   "metadata": {},
   "outputs": [],
   "source": [
    "with open(\"./Desktop/test_38.txt\", \"r\") as file:\n",
    "    count = 0\n",
    "    for line in file:\n",
    "        count = count + 1\n",
    "        if count == 1:\n",
    "            v= line.rstrip(\"\\n\")\n",
    "        if count == 2:\n",
    "            w = line.rstrip(\"\\n\")\n",
    "            \n",
    "        \n",
    "    "
   ]
  },
  {
   "cell_type": "code",
   "execution_count": 241,
   "metadata": {},
   "outputs": [
    {
     "data": {
      "text/plain": [
       "'TAGCAAGCATATATAAACGCGTGCAGCTATGGCTCGTATGACACGTGCTAAGGAGATTGGCCACAACACAACGCCAATGGGGGTCATGTGTGAGCAGCTCGTAACAAGCTTCCGGAAATAGAGGCCTTACTAATCACGCCGCACTCCAGCTAGCTAAATGCCCTTCGATGGTCCTACCGGGCCAGGCGTCTTGAGCGGGCTACTTAGGTGTCAGCACCAGTAGGATAGCGCACTACATCTGAAGCCAGTGGACCGTCCTCACCAAGTACGTCGAAACTTAGCTAGAGCTAGGCAAAAAATAGATGAACCGGAGCTCATCTGCAAACTCCGTTGACTTGAGCACTCTCCCCTCAACAAGTAATCTGCTGTCAGCAGCTACTATTCGATGCCCAGAGCGGCGAACGAAAGGATAATTATACTGTGTATGTCTCCATAGGGGTCCCCGCTGGACTGTATCAGGATGAGAAATGGTGCACGTCCCTGCCACTGCCAATGACAGCTGGAACTTAGGGATCAAGAATACTGGTTTGTCAATCTCAAACCGAAGATATAGTCTTGTGTGCTTTGGCGGCGAGGCTCGAGGCGAGGTAGCACCAGCCGCCGCGCCTAAATCGTAGCTCAATAATATAGGCGGTACAATTTGGAATATACTCCGATTCGCTGGACTTTGTAGCTAGGCTGAATTATATTGCCACAGGACGTTAGGACAGATTACGTAGTTGGAGGTCGGACATATTCGAGTCAAAAAAGAGTGCCCGCTCTGAGGTAGGTTTTACGCGCCTCGTCTAAACTGCGACAGCGAAGACTGACGGCTCG'"
      ]
     },
     "execution_count": 241,
     "metadata": {},
     "output_type": "execute_result"
    }
   ],
   "source": [
    "v\n"
   ]
  },
  {
   "cell_type": "code",
   "execution_count": 198,
   "metadata": {},
   "outputs": [
    {
     "data": {
      "text/plain": [
       "822"
      ]
     },
     "execution_count": 198,
     "metadata": {},
     "output_type": "execute_result"
    }
   ],
   "source": [
    "len(v)"
   ]
  },
  {
   "cell_type": "code",
   "execution_count": 242,
   "metadata": {},
   "outputs": [
    {
     "data": {
      "text/plain": [
       "'ACAGTTGTCATCGCAGGGGCCACGATAATACCTTAAACAGGTGTGTTCCTAAACCTTTAACCTAATGGAGTTGCCTAGCGCCAAACGACCTAGTCAGTTTGGTTTTATTTGCGACAGTGGCGTGTTTGACACATTGTACAGTCTCTCCTGGTGTTCCCGGTCCTGTATGCGTAGATCACATAAACCCATGAACAGGCAATATACATAATTAGCTCAACATGGATGGGCCAAATACCCGATCCTTGACAGCAGTGATAGAAGGCTGCCTTGTATGTTCTGTTGGAAATCGTGGCCAACTCTAAGGATTCCCTCCGTTCCGGCGTGGGTTTACGAACTCCCGCTAATGGCAAAGACAAAACCGGGGTCCTTGTTAACTATTCATCTTTTACCCGGGGCAAAGAATTAAACCTATTTTTGCCACATGCCAGCCATCATGTGGAAGGACTCAAGATGGGTCACTTGGGAGGCGTCTGTCTGAATACATGAAACATGTTGATTTGAAAGAGCTTGCTTGTCGTGCCTAGTGAGTGGCGCACTGCGCGGGTCCCCAAATGTGACTCTAGATGGGTGTGTTCAGGATTCAATTATGGCCGTCTAAACCAACCAGAGTGGAGCTTAAGGATAACCTCGCGACAGGTCCCAGCTAGCGTGTTCCTGCAGACAGTAAAAACCGGCTTGCCCGACTCAAAATGTAAACACACTACTAAGACTCTGTTACGCCCCGATTATACTGTACAAACATTGCGCAATATTAGGGCGATATTCCTTCGCCATTCACGTTCATCGAATTTGACTCATCGGCCGC'"
      ]
     },
     "execution_count": 242,
     "metadata": {},
     "output_type": "execute_result"
    }
   ],
   "source": [
    "w"
   ]
  },
  {
   "cell_type": "code",
   "execution_count": 243,
   "metadata": {},
   "outputs": [
    {
     "data": {
      "text/plain": [
       "805"
      ]
     },
     "execution_count": 243,
     "metadata": {},
     "output_type": "execute_result"
    }
   ],
   "source": [
    "len(w)"
   ]
  },
  {
   "cell_type": "code",
   "execution_count": 244,
   "metadata": {},
   "outputs": [],
   "source": [
    "Backtrack=LCSBacktrack(v,w)"
   ]
  },
  {
   "cell_type": "code",
   "execution_count": 245,
   "metadata": {},
   "outputs": [
    {
     "name": "stdout",
     "output_type": "stream",
     "text": [
      "TAGCAGCATATATAAACGGTGGTTCCTAAACTCTAAGGAGTTGCCACCCAACGCCAATGGGGCATGTGTGACACTGTACAGCTTCCGGTGTTCCCGGTCCTGTATGCTGATCCTACCCATGACGGCTACTATTAGCACATGGATGGCATACATCTGAAGCAGTGATAAAGCTGCTTGTAGCTGGAAATGTGAACCGGATTCCCTCCGTTGCTTAGACTCCCCTAACAAGAACCGTCCGTACTATTCATCCCGGGGCAAAGAATTAACTTTTTTCCATGCCCCCTGTGAAGGATAGATGGTCACTTGACTCTGCTGAATAATGAAACTGTTGATTAAAGAGTTGCTTGTGTGCTTTGGCGCACTCGCGGGTCCCAGGCCTAATGTGTCAATAATATGGCGTACAATTTGGATAACTCCGATCGCTGGTTTGAGCAGTAAAATTGCCCGACTTGACAATACTAGTTGAGCGAATATTACAAAATGCGCTTAGGGGTTTTCGCCTTCACTCACGAAGACTACGGCCG"
     ]
    }
   ],
   "source": [
    "OutputLCS(Backtrack, v, len(v), len(w))"
   ]
  },
  {
   "cell_type": "code",
   "execution_count": null,
   "metadata": {
    "collapsed": true
   },
   "outputs": [],
   "source": [
    " t = source\n",
    "    dict_results[source] = 0\n",
    "    Visited.add(t)\n",
    "    while len(Visited) < len(Nodes):\n",
    "        nodes = dict_graph[t]\n",
    "        next_nodes = []\n",
    "        for node in nodes:\n",
    "            In[node] -= 1\n",
    "        Unvisited = Nodes - Visited\n",
    "        next_node = -1\n",
    "        for node in Unvisited:\n",
    "            if In[node] == 0:\n",
    "                next_node = node\n",
    "        \n",
    "                \n",
    "        \n",
    "        dict_results[max_node] = dict_results[t] + max_weight\n",
    "        t = max_node\n",
    "        longest_path += str(t)+\"->\"\n",
    "    print(dict_results[sink])\n",
    "    print(longest_path[:-2])"
   ]
  },
  {
   "cell_type": "code",
   "execution_count": null,
   "metadata": {
    "collapsed": true
   },
   "outputs": [],
   "source": [
    "t = source\n",
    "\n",
    "    \n",
    "    \n",
    "    \n",
    "    \n",
    "    while t!= sink:\n",
    "        Unvisited = Nodes - Visited\n",
    "        next_node = -1\n",
    "        for node in Unvisited:\n",
    "            if In[node] == 0:\n",
    "                next_node = node\n",
    "                \n",
    "        parents = Parents[next_node]\n",
    "        max_value = -100\n",
    "        max_parent = -1\n",
    "        for parent in Parents[next_node]:\n",
    "            weight= dict_weights[str(parent)+\"->\"+str(next_node)]\n",
    "            value = dict_results[parent] +weight\n",
    "            if value > max_value:\n",
    "                max_value = value\n",
    "                max_parent = parent\n",
    "        dict_results[next_node] = value\n",
    "        before[next_node] = max_parent\n",
    "        t = next_node\n",
    "        Visited.add(t)\n",
    "        cnodes = dict_graph[t]\n",
    "        for cnode in cnodes:\n",
    "            In[cnode] -= 1\n",
    "    w = sink\n",
    "    traceback = [w]\n",
    "    while w != source:\n",
    "        w = before[w]\n",
    "        traceback = [w]+traceback\n",
    "    for node in traceback:\n",
    "        longest_path += str(node)+\"->\"\n",
    "    return dict_results[sink], longest_path[:-2]"
   ]
  },
  {
   "cell_type": "code",
   "execution_count": 1019,
   "metadata": {},
   "outputs": [],
   "source": [
    "def DAGLongestPath(source, sink, graph):\n",
    "    Nodes = set()\n",
    "    dict_graph={}\n",
    "    dict_weights={}\n",
    "    Parents = {}\n",
    "    In = {}\n",
    "    dict_results = {}\n",
    "    longest_path = \"\"\n",
    "    before= {}\n",
    "    for path in graph:\n",
    "        snode = int(path.split(\"->\")[0])\n",
    "        enode = int(path.split(\"->\")[1].split(\":\")[0])\n",
    "        Nodes.add(snode)\n",
    "        Nodes.add(enode)\n",
    "        edge = path.split(\":\")[0]\n",
    "        dict_weights[edge] = int(path.split(\":\")[1])\n",
    "        if snode in dict_graph.keys():\n",
    "            dict_graph[snode].append(enode)\n",
    "        else:\n",
    "            dict_graph[snode] = [enode]\n",
    "        if enode in In.keys():\n",
    "            In[enode] += 1\n",
    "            Parents[enode].append(snode)\n",
    "        else:\n",
    "            In[enode] = 1\n",
    "            Parents[enode]=[snode]\n",
    "    for node in Nodes:\n",
    "        if not node in In.keys():\n",
    "            In[node] = 0\n",
    "        if not node in dict_graph.keys():\n",
    "            dict_graph[node] = []\n",
    "        if not node in Parents.keys():\n",
    "            Parents[node] = []\n",
    "    Stack = []\n",
    "    Reachable = set()\n",
    "    Stack.append(source)\n",
    "    while len(Stack) != 0:\n",
    "        v = Stack[-1]\n",
    "        Stack = Stack[0:-1]\n",
    "        if v not in Reachable:\n",
    "            Reachable.add(v)\n",
    "            for w in dict_graph[v]:\n",
    "                Stack.append(w)\n",
    "    Unreachable = Nodes-Reachable\n",
    "    for node in Reachable:\n",
    "        rparents = Parents[node]\n",
    "        for rparent in rparents:\n",
    "            if rparent in Unreachable:\n",
    "                In[node] -= 1\n",
    "    t= source\n",
    "    Visited = set()\n",
    "    Visited.add(t)\n",
    "    dict_results[source] = 0\n",
    "    while t!=sink:\n",
    "        for node in dict_graph[t]:\n",
    "            In[node] -= 1\n",
    "        Unvisited = Reachable - Visited\n",
    "        next_node = -1\n",
    "        for node in Unvisited:\n",
    "            if In[node] == 0:\n",
    "                next_node = node\n",
    "        parents = Parents[next_node]\n",
    "        max_value = -100\n",
    "        max_parent = -1\n",
    "        for parent in parents:\n",
    "            if parent in dict_results.keys():\n",
    "               \n",
    "                weight= dict_weights[str(parent)+\"->\"+str(next_node)]\n",
    "           \n",
    "                value = dict_results[parent] +weight\n",
    "                if value > max_value:\n",
    "                    max_value = value\n",
    "                    max_parent = parent\n",
    "        dict_results[next_node] = max_value\n",
    "        before[next_node] = max_parent\n",
    "        t = next_node\n",
    "        Visited.add(t)\n",
    "    print(before)\n",
    "    print(dict_results)\n",
    "    w = sink\n",
    "    traceback = [w]\n",
    "    while w != source:\n",
    "        w = before[w]\n",
    "        traceback = [w]+traceback\n",
    "    for node in traceback:\n",
    "        longest_path += str(node)+\"->\"\n",
    "    return dict_results[sink], longest_path[:-2]\n",
    "    \n",
    "    \n",
    "        \n",
    "                \n",
    "        "
   ]
  },
  {
   "cell_type": "code",
   "execution_count": 850,
   "metadata": {
    "collapsed": true
   },
   "outputs": [],
   "source": [
    "graph=[\"0->1:7\",\"0->2:4\",\"2->3:2\",\"1->4:1\",\"3->4:3\"]"
   ]
  },
  {
   "cell_type": "code",
   "execution_count": 1006,
   "metadata": {},
   "outputs": [
    {
     "name": "stdout",
     "output_type": "stream",
     "text": [
      "yes\n"
     ]
    },
    {
     "ename": "TypeError",
     "evalue": "unsupported operand type(s) for +: 'NoneType' and 'int'",
     "output_type": "error",
     "traceback": [
      "\u001b[1;31m---------------------------------------------------------------------------\u001b[0m",
      "\u001b[1;31mTypeError\u001b[0m                                 Traceback (most recent call last)",
      "\u001b[1;32m<ipython-input-1006-589f0ed0af01>\u001b[0m in \u001b[0;36m<module>\u001b[1;34m()\u001b[0m\n\u001b[0;32m      4\u001b[0m \u001b[1;32mif\u001b[0m \u001b[0mdict_a\u001b[0m\u001b[1;33m.\u001b[0m\u001b[0mget\u001b[0m\u001b[1;33m(\u001b[0m\u001b[1;36m0\u001b[0m\u001b[1;33m)\u001b[0m\u001b[1;33m:\u001b[0m\u001b[1;33m\u001b[0m\u001b[0m\n\u001b[0;32m      5\u001b[0m     \u001b[0mprint\u001b[0m\u001b[1;33m(\u001b[0m\u001b[1;34m\"avav\"\u001b[0m\u001b[1;33m)\u001b[0m\u001b[1;33m\u001b[0m\u001b[0m\n\u001b[1;32m----> 6\u001b[1;33m \u001b[1;32mif\u001b[0m \u001b[1;32mnot\u001b[0m \u001b[1;33m(\u001b[0m\u001b[0mdict_a\u001b[0m\u001b[1;33m.\u001b[0m\u001b[0mget\u001b[0m\u001b[1;33m(\u001b[0m\u001b[1;36m3\u001b[0m\u001b[1;33m)\u001b[0m\u001b[1;33m+\u001b[0m\u001b[1;36m1\u001b[0m\u001b[1;33m)\u001b[0m\u001b[1;33m:\u001b[0m\u001b[1;33m\u001b[0m\u001b[0m\n\u001b[0m\u001b[0;32m      7\u001b[0m     \u001b[0mprint\u001b[0m\u001b[1;33m(\u001b[0m\u001b[1;34m\"avce\"\u001b[0m\u001b[1;33m)\u001b[0m\u001b[1;33m\u001b[0m\u001b[0m\n\u001b[0;32m      8\u001b[0m \u001b[1;32mfor\u001b[0m \u001b[0mkey\u001b[0m \u001b[1;32min\u001b[0m \u001b[0mdict_a\u001b[0m\u001b[1;33m:\u001b[0m\u001b[1;33m\u001b[0m\u001b[0m\n",
      "\u001b[1;31mTypeError\u001b[0m: unsupported operand type(s) for +: 'NoneType' and 'int'"
     ]
    }
   ],
   "source": [
    "dict_a = {0:0, 2: 3}\n",
    "if dict_a.get(2):\n",
    "    print(\"yes\")\n",
    "if dict_a.get(0):\n",
    "    print(\"avav\")\n",
    "if not (dict_a.get(3)+1):\n",
    "    print(\"avce\")\n",
    "for key in dict_a:\n",
    "    print(key)"
   ]
  },
  {
   "cell_type": "code",
   "execution_count": 913,
   "metadata": {},
   "outputs": [],
   "source": [
    "a=[]\n",
    "for node in a:\n",
    "    print(node)"
   ]
  },
  {
   "cell_type": "code",
   "execution_count": 1021,
   "metadata": {
    "collapsed": true
   },
   "outputs": [],
   "source": [
    "with open(\"./Desktop/test_39.txt\", \"r\") as file:\n",
    "    count = 0\n",
    "    graph = []\n",
    "    for line in file:\n",
    "        count += 1\n",
    "        if count == 1:\n",
    "            source = int(line.rstrip(\"\\n\"))\n",
    "        elif count == 2:\n",
    "            sink = int(line.rstrip(\"\\n\"))\n",
    "        else:\n",
    "            graph.append(line.rstrip(\"\\n\"))"
   ]
  },
  {
   "cell_type": "code",
   "execution_count": 1022,
   "metadata": {},
   "outputs": [
    {
     "data": {
      "text/plain": [
       "1"
      ]
     },
     "execution_count": 1022,
     "metadata": {},
     "output_type": "execute_result"
    }
   ],
   "source": [
    "source"
   ]
  },
  {
   "cell_type": "code",
   "execution_count": 1023,
   "metadata": {},
   "outputs": [
    {
     "name": "stdout",
     "output_type": "stream",
     "text": [
      "{26: 1, 6: 1, 8: 6, 17: 8, 9: 8, 10: 9, 14: 10, 21: 14}\n",
      "{1: 0, 26: 1, 6: 6, 8: 27, 17: 62, 9: 64, 10: 64, 14: 64, 21: 98}\n"
     ]
    },
    {
     "data": {
      "text/plain": [
       "(98, '1->6->8->9->10->14->21')"
      ]
     },
     "execution_count": 1023,
     "metadata": {},
     "output_type": "execute_result"
    }
   ],
   "source": [
    "DAGLongestPath(source, sink,graph)"
   ]
  },
  {
   "cell_type": "code",
   "execution_count": 1013,
   "metadata": {},
   "outputs": [
    {
     "name": "stdout",
     "output_type": "stream",
     "text": [
      "[[4, 0, -2, -1, -2, 0, -2, -1, -1, -1, -1, -2, -1, -1, -1, 1, 0, 0, -3, -2], [0, 9, -3, -4, -2, -3, -3, -1, -3, -1, -1, -3, -3, -3, -3, -1, -1, -1, -2, -2], [-2, -3, 6, 2, -3, -1, -1, -3, -1, -4, -3, 1, -1, 0, -2, 0, -1, -3, -4, -3], [-1, -4, 2, 5, -3, -2, 0, -3, 1, -3, -2, 0, -1, 2, 0, 0, -1, -2, -3, -2], [-2, -2, -3, -3, 6, -3, -1, 0, -3, 0, 0, -3, -4, -3, -3, -2, -2, -1, 1, 3], [0, -3, -1, -2, -3, 6, -2, -4, -2, -4, -3, 0, -2, -2, -2, 0, -2, -3, -2, -3], [-2, -3, -1, 0, -1, -2, 8, -3, -1, -3, -2, 1, -2, 0, 0, -1, -2, -3, -2, 2], [-1, -1, -3, -3, 0, -4, -3, 4, -3, 2, 1, -3, -3, -3, -3, -2, -1, 3, -3, -1], [-1, -3, -1, 1, -3, -2, -1, -3, 5, -2, -1, 0, -1, 1, 2, 0, -1, -2, -3, -2], [-1, -1, -4, -3, 0, -4, -3, 2, -2, 4, 2, -3, -3, -2, -2, -2, -1, 1, -2, -1], [-1, -1, -3, -2, 0, -3, -2, 1, -1, 2, 5, -2, -2, 0, -1, -1, -1, 1, -1, -1], [-2, -3, 1, 0, -3, 0, 1, -3, 0, -3, -2, 6, -2, 0, 0, 1, 0, -3, -4, -2], [-1, -3, -1, -1, -4, -2, -2, -3, -1, -3, -2, -2, 7, -1, -2, -1, -1, -2, -4, -3], [-1, -3, 0, 2, -3, -2, 0, -3, 1, -2, 0, 0, -1, 5, 1, 0, -1, -2, -2, -1], [-1, -3, -2, 0, -3, -2, 0, -3, 2, -2, -1, 0, -2, 1, 5, -1, -1, -3, -3, -2], [1, -1, 0, 0, -2, 0, -1, -2, 0, -2, -1, 1, -1, 0, -1, 4, 1, -2, -3, -2], [0, -1, -1, -1, -2, -2, -2, -1, -1, -1, -1, 0, -1, -1, -1, 1, 5, 0, -2, -2], [0, -1, -3, -2, -1, -3, -3, 3, -2, 1, 1, -3, -2, -2, -3, -2, 0, 4, -3, -1], [-3, -2, -4, -3, 1, -2, -2, -3, -3, -2, -1, -4, -4, -2, -3, -3, -2, -3, 11, 2], [-2, -2, -3, -2, 3, -3, 2, -1, -2, -1, -1, -2, -3, -1, -2, -2, -2, -1, 2, 7]]\n"
     ]
    }
   ],
   "source": [
    "with open(\"./Desktop/blosum62.txt\", \"r\") as file:\n",
    "    BLOSUM62=[]\n",
    "    for line in file:\n",
    "        row = line.rstrip(\"\\n\")\n",
    "        array = []\n",
    "        for num in row.split(\" \"):\n",
    "            if num != \"\":\n",
    "                array.append(int(num))\n",
    "        BLOSUM62.append(array)\n",
    "    print(BLOSUM62)\n",
    "        "
   ]
  },
  {
   "cell_type": "code",
   "execution_count": 299,
   "metadata": {},
   "outputs": [],
   "source": [
    "with open(\"./Desktop/dict_blosum.txt\", \"r\") as file:\n",
    "    dict_blosum = {}\n",
    "    for line in file:\n",
    "        row = line.rstrip(\"\\n\")\n",
    "        array = row.split(\"  \")\n",
    "        index = 0\n",
    "        for aa in array:\n",
    "            dict_blosum[aa] = index\n",
    "            index += 1\n"
   ]
  },
  {
   "cell_type": "code",
   "execution_count": 617,
   "metadata": {},
   "outputs": [],
   "source": [
    "def GlobalAlignment(peptide_1, peptide_2, BLOSUM62, dict_blosum):\n",
    "    n = len(peptide_1)\n",
    "    m = len(peptide_2)\n",
    "    S=[]\n",
    "    Backtrack = []\n",
    "    for i in range(0, n+1):\n",
    "        a=[]\n",
    "        for j in range(0, m+1):\n",
    "            a.append(0)\n",
    "        S.append(a)\n",
    "        Backtrack.append(a[:])\n",
    "    for i in range(1, n+1):\n",
    "        S[i][0] = S[i-1][0] -5\n",
    "    for j in range(1, m+1):\n",
    "        S[0][j] = S[0][j-1] -5\n",
    "    for i in range(1, n+1):\n",
    "        for j in range(1, m+1):\n",
    "            aa_1 = dict_blosum[peptide_1[i-1]]\n",
    "            aa_2 = dict_blosum[peptide_2[j-1]]\n",
    "            score = BLOSUM62[aa_1][aa_2]\n",
    "            S[i][j]= max(S[i-1][j]-5, S[i][j-1]-5, S[i-1][j-1]+score)\n",
    "            \n",
    "            if S[i][j] == S[i-1][j]-5:\n",
    "                Backtrack[i][j] = 1\n",
    "            elif S[i][j] == S[i][j-1]-5:\n",
    "                Backtrack[i][j] = 2\n",
    "            elif S[i][j]==S[i-1][j-1]+score:\n",
    "                Backtrack[i][j] = 3\n",
    "    print(S[-1][-1])\n",
    "    return Backtrack\n",
    "    "
   ]
  },
  {
   "cell_type": "code",
   "execution_count": 618,
   "metadata": {
    "collapsed": true
   },
   "outputs": [],
   "source": [
    "def OutputGlobal(Backtrack, peptide_1, i, j):\n",
    "    if i == 0 or j == 0:\n",
    "        return \n",
    "    if Backtrack[i][j] == 1:\n",
    "        OutputGlobal(Backtrack, peptide_1, i-1, j)\n",
    "    elif Backtrack[i][j] ==2:\n",
    "        OutputGlobal(Backtrack, peptide_1, i, j-1)\n",
    "    else:\n",
    "        OutputGlobal(Backtrack, peptide_1, i-1 ,j-1)\n",
    "        #print(result)\n",
    "        alignment.append(i-1)\n",
    "        print(peptide_1[i-1], end=\"\")"
   ]
  },
  {
   "cell_type": "code",
   "execution_count": 620,
   "metadata": {},
   "outputs": [],
   "source": [
    "def OutputGlobalNoRecursion(Backtrack, peptide_1, peptide_2, i, j):\n",
    "    string_1 = \"\"\n",
    "    string_2 = \"\"\n",
    "    while i != 0 and j !=0:\n",
    "        if Backtrack[i][j] == 1:\n",
    "            string_1 = peptide_1[i-1]+ string_1\n",
    "            string_2 = \"-\" + string_2\n",
    "            i = i-1\n",
    "        elif Backtrack[i][j] == 2:\n",
    "            string_1 = \"-\"+ string_1\n",
    "            string_2 = peptide_2[j-1] + string_2\n",
    "            j = j-1\n",
    "        else:\n",
    "            string_1 = peptide_1[i-1]+ string_1\n",
    "            string_2 = peptide_2[j-1] + string_2\n",
    "            i = i-1\n",
    "            j = j-1\n",
    "    while i!= 0:\n",
    "        string_1 = peptide_1[i-1]+ string_1\n",
    "        string_2 = \"-\" + string_2\n",
    "        i = i-1\n",
    "    while j!= 0:\n",
    "        string_2 = peptide_2[j]+ string_2\n",
    "        string_1 = \"-\" + string_1\n",
    "        j = j-1    \n",
    "    print(string_1)\n",
    "    print(string_2)\n",
    "    return (string_1,string_2)"
   ]
  },
  {
   "cell_type": "code",
   "execution_count": 475,
   "metadata": {
    "collapsed": true
   },
   "outputs": [],
   "source": [
    "pep1 = \"PLEASANTLY\"\n",
    "pep2 = \"MEANLY\""
   ]
  },
  {
   "cell_type": "code",
   "execution_count": 472,
   "metadata": {},
   "outputs": [
    {
     "name": "stdout",
     "output_type": "stream",
     "text": [
      "8\n"
     ]
    }
   ],
   "source": [
    "backtrack=GlobalAlignment(pep1, pep2, BLOSUM62, dict_blosum)"
   ]
  },
  {
   "cell_type": "code",
   "execution_count": 496,
   "metadata": {},
   "outputs": [
    {
     "name": "stdout",
     "output_type": "stream",
     "text": [
      "PLEASANTLY\n",
      "-MEA--N-LY\n"
     ]
    },
    {
     "data": {
      "text/plain": [
       "('PLEASANTLY', '-MEA--N-LY')"
      ]
     },
     "execution_count": 496,
     "metadata": {},
     "output_type": "execute_result"
    }
   ],
   "source": [
    "OutputGlobalNoRecursion(backtrack, pep1, pep2, len(pep1), len(pep2))\n"
   ]
  },
  {
   "cell_type": "code",
   "execution_count": 464,
   "metadata": {
    "collapsed": true
   },
   "outputs": [],
   "source": [
    "def GenerateAlignment(peptide_1, peptide_2, comm_string):\n",
    "    result = []\n",
    "    for i in range(len(peptide_1)):\n",
    "        result.append(\"-\")\n",
    "    for i in range(len(alignment)):\n",
    "        index = alignment[i]\n",
    "        result[index] = peptide_2[i]\n",
    "    print(\"\".join(result))\n",
    "    return result\n",
    "            "
   ]
  },
  {
   "cell_type": "code",
   "execution_count": 465,
   "metadata": {},
   "outputs": [
    {
     "name": "stdout",
     "output_type": "stream",
     "text": [
      "-MEA--N-LY\n"
     ]
    },
    {
     "data": {
      "text/plain": [
       "['-', 'M', 'E', 'A', '-', '-', 'N', '-', 'L', 'Y']"
      ]
     },
     "execution_count": 465,
     "metadata": {},
     "output_type": "execute_result"
    }
   ],
   "source": [
    "GenerateAlignment(pep1, pep2, alignment)"
   ]
  },
  {
   "cell_type": "code",
   "execution_count": 507,
   "metadata": {},
   "outputs": [],
   "source": [
    "with open(\"./Desktop/test_40.txt\", \"r\") as file:\n",
    "    count = 0\n",
    "    for line in file:\n",
    "        count += 1\n",
    "        if count == 1:\n",
    "            pep1 = line.rstrip(\"\\n\")\n",
    "        if count == 2:\n",
    "            pep2 = line.rstrip(\"\\n\")\n",
    "            \n",
    "\n",
    "\n",
    "        \n",
    "    "
   ]
  },
  {
   "cell_type": "code",
   "execution_count": 508,
   "metadata": {},
   "outputs": [
    {
     "data": {
      "text/plain": [
       "'MRECYENVWWVEQNWFSISQPQRKMTFRNKDNDQVYMMIMHWTQDANPHGIKCRNLTHTCFQKQHVSDQFCVPRFHQFDTVLSHLPFQYAHEKQESFLNEKRHSKKTGHARICDWVCNFGDTYRNYISIREVIEGFCVKVMHWGKVHMWCIHGGLYTPPQRDRSGFWVVNNEWSQTLPLNWSVEVQHPCWGKHWFFNLYLDHGKEVITMAGMASHCQRMYCWNHPVLATIASPWSMWVINNHIGTYAWCASGEPVSKNPMHDCLCYNHPMSQHHPGNKIYTFYYIWGYMALNSERQWHALVGYHWDEQHMNKAMCIQTSMWSGFIWRYWPNGAHNKKTWLDAWVIYGDDHNKMNKTKMIHPGWEALPWFEAGYFNLCDWDRMDRMWHWWQCCFMKVYKTVKHMKENYLISHHMCLHLPQMHPVLLCCRYLFPYDSHQNVGMYFCYDWPRFSKKRKSTTTVCAQQHHYFRGMWDLADIYIKPHKKNVDHGMGQCAYGCQSYVWQLMFFPYQDEFPHWCLMPKQDMWMLTCQDGIHASWKTICNHSWFASVDSFATGHTIMIGWYVCQYCEVRDCTNWQMNSQNYTTCEPSASYMMGRHIFYMRRDKRHDNQYPWHRISDKSNYVKWNFKHYHNRHQPNSAKAYSESIWVCATAVHDHTWMKINARHIHTESRNINANNIADYVGDALWCFWGHYCWETRDYKYVAQEEGYGELAPPFKRWVTFFGTGSMNVYFRACVYNEHEHHQMDWYEIGSQQVHPNCIPKAHIECPPHRIDCSYGHIHQPRMPKNRECFHANSVWLCHHKPFIFTNVICHINDTTLLHGFFMVFFPKLDQVRTYTKSRFPYSRLLCRQQVAWTCECKCMAIKPENWASHPPGRDAKMRCIYHFDIEGSSCESLPYKVFEKLNYNYVQSNFLGQWCKTPAHAANKQPKMAIHSSISLLFHCHKDGFEAGYFECEMEFKIRRTTMWEELAMRGQAISLINSYLVFMMDDATYLIMICKVLWIEGCQYEWLYTFSRMGMTTKACEGPVRQDANMRFTAWSFNEPPTYMISCDDSMPLTKLFHFAGCEHMLPQFPDIKICFIYCETNMFDYAYSMQSISPGQLIRTVMAWEDLQLPLLNHCNSVHITKEYLMMPYHDTNIGRHRDIRNYRLYHWGACINCLGGWQNLGCGENGMSPHKQDITAMNSYNFLIEMIETWSQVEWRKTDEIHTGQDSCCGGPKPHIHLFWTPGVQWLIYANSTYPHRKDVYLRYCWPCDIHIAEEWSTGDWSKTMLYDWAPEGEQLMYQDKPDKCGEPHEWWVTEPKKPQHCRNKGIWCPSWHTPGEGPYGFTTNHGHRSHQKQMQWNIQSRFWPKACMAVMIMPYWGIHINLMASVHMALCEMCSCQEDTERIPNMLAQQEVGFYGEVSDEKPKCQYYNMKPHVCMDPRKLDGPWGYCNRLMTEVSFCTSYREAHYGIKECWTFGFGMKSPMITKVIPKENQTHLDHGNNRYTWWTITNEINIHMSGNDISRYESGWRPYTHWYLAMVSCRPVPTTCDVKNRHQIMEVAGYPQPALIEAQQLWLVPRCREQIAHDTHCVMLVWSLEYCTSFPCVATMIEGLWHMYFPSNPYHIPNFFQPLKCPLFFNGTLLEEPTIMSQMPFPFRTIMDMPSVFLHCYNSIKVHLWLNPHWYIFLWHCAWGLYRDQAPYCICNSVKCFRQHKDPFLRITWAFRIQPHKYGLQCPSHYDTQYSDPCYPTWFSMASWPVNLSQLMYGTSPCMQRCFCAPYVLQWGEKLKHWRLFMLAKRASHVIKWAFTIATKSIYEIKKMSTHSMMFQVNSNGGQAKWLDCVPWYLFCTQAVGCDSMSGEDLPWSNYHVQGCCVYQPYSQQVKCCWKMTAHIIGIQSQALVFPKARLHDWETQDPVYNCCRGGDLKSLPQHLPGPDIGGIDPGRMWKMEDVGEEWIWNCFFYIMENCNMRGPKGEFIGAYLQMCMEEQRCYHFRAVTFAFNPLYHPIFAMSVFLKFCKFDWGFWDVLVYSTFNIFNDTAPHVQFFAQESHSMMDYTVQQNKAWNMVVHWTWMHGGRKRHQIFMKPFLDFDFHMHSECEHGQAVPIPGAEQIWGCDDESGWCPICNTTWDKAHNFTRYYLCLHPAAQIPNNDKGLRTRMTNYYFWNAAFDAHWIPIYTGQPNMSCASTHTSCNQKMFKLWDLCASGMQDVRFRWQMLIGWANCSNKNYMCKWEACILIIDPQFNDGFMHMGHIHWEKKCWRNQIRLKQVKNWWESSICRYYYGHVNEQLQFVPEVVNYSIRVYMLLCELHKYMLECYHPGCPDCDLEMSLQVTLGQYWCPDSYHQNYECDMQKNLDYFRGGSVAIGSAYVHSEETMTHMPWCGLFHYKQPDTYRPHEPLSNSMFGRHHQIRETHQFNVEVASCHFHFSGCGCFVMVWMTHSFMPKKPRVPIKRHMHDYPYQLNITQSAELPKEFIVFPPPDMWSFWKKKRYADKEMVQIKHSHKCCFLGASTISIISNDTICCMNHKCICYTQGHAIHTVVLNCAVRGIQCIWETWLDTDIYHWHINDEDAGEHWFDYMHEAPERCKYGTSNHIIMKIFFHCMPVHFVWAICGSESLGQDLYDGKQAMLLLSCNDTHKFADNVIGDKVYPSFANNVTPIMMYANYEELDYCQPCAYDRWLMEIMWNFVFPVIYNFNAWHTECKLQIIRKEGRCIVYKMALLCRHWGRCGVDPIKHQTWSMYTIGAFSVQNVTYRARSWPCFSGHWEGACLHTRVSPARHAHRVSKNMESSNNNGMSYQFGMDIKGKCMATVCTTRMCHLRDTYRCDDNYCIPVLRQMRDFFKLFENNWTEDLEHQPSVSVVRDRQYTCLVCKPKEDPHCKTYDCWPSADHPDVCEMGHPRPPAEWHTLCFNYQEWTVMYFWVECDIFEWLLFIVSLRPECRMWFTPIMSMQSTSKGSFKKKIPRLAEFIEEIWHTSYQFRWATQQGCIHLQQAFHRCVYDLRKQYNTHYWRTWKSDSTDDKVYIKKITQYWSNWWAHWIDCICGSKCVTPIVIQHLSKGVVCCQLMYYEMYQSQNKGFPPLWPEHWVRDAYQIQCQYQKSLCFNRQDKAMGTKSDLGDANISPQSNLYWCRNGLHEMCLHGQAKAWVRDHSHTVRHCNIRFGQPNLCQKDTYKMQGYRYTRCMWVKQKACPIYTWWHSALIGPDDTAQVFLYGHANHMHTTEPELYSAREWSGWKVRSRPHYIHQLLIPVKFKSQAHRVHRGGCAYMFPLINIWKEKEFGWSAAWFVTRMYLDMYQQGWKLLTMRHIFPGQQSPHGKPCFWSYTIRDNYMMVQPNTPKYTPPNWDIFERVQIFQTLLFVSANWHTSYTTLWYPITLMTWYLCTKMLPMETSWHEPECDNEDQMFSKPVTGVGQRLGGVHYPGYNSKHDQNKAWGFEPQHVFNLCRLDECCAQRPAFHQIGCYPPEMFFFDSCNTPDDKFNITAGVCLLEPICCKIEVMPKYPERNCVFKEAHGDIVIPIRMWFLRPKDMLLNFHAYNAWNYWAQEFQRCSMNFRICSMQKWKEAEPKPCDMLEAEGNNDWSCHDEYACIMDRTAEEKNISCYWHAGSSSECAEVLWVAKVNYNSPFVMSRHKTGYTRGRDTCPIVPRCYLDQWYTRPTSRVQAFDDQIDADFITFQMCCEDTIGNIPEKSTNRPWGINSQKICCHGVSVAMYGHHMKVQADRDHMIDIIKEQIHCKAKMEEDRWPEIITACEHCHCGWCGGTMAAHGYARVWESSHDRFYTQEGYEQFAIKEHLYDSTNPSAANNEKVDQFSRNKMTYKVWWC'"
      ]
     },
     "execution_count": 508,
     "metadata": {},
     "output_type": "execute_result"
    }
   ],
   "source": [
    "pep1"
   ]
  },
  {
   "cell_type": "code",
   "execution_count": 509,
   "metadata": {},
   "outputs": [
    {
     "data": {
      "text/plain": [
       "'MRLYVKMSAYCYYDMGNVWWVEQNWFSISQPQRNFDNDQVYMMIMHWTQDAIPHGIKCRNLTHVSDQFCVPRKQREERHMFDWVMSHLPFQYAHEKQESFLNEKRFSEPKTRHARICGWMCNFGDQGTRNYISIHPFEVTMVDERFCVKVMNWIASNKWGKVHTCLHGRLYTFPQRDRSQFWVVNSQTWQQATSTEVQHPLFWPMNHDGSHWFFDLYLDHGMASSCQRMYCWNHPVLAVIWNRRNGTIFIGTYAWCVGGEPVWNWEWSPPQKNPAHDGLCYNHPMPKLMQYNRNMIILLYTFSGPWETMALNVERQGQHRHALVGYHWDEQHMNKAMCMWSTFIWRYWPRGAHNKKTWLDEWVIGDVTDHVKMNKTIAVPHCIPGWQALPWFEAGWKHKHPQCHDPDRMWHWWQCVYKTVKHMKENGGCRQAWIVLISHGAEMCLHLPQRAHPVLLCFPMDSHQNVGMYFCYDKRKSRDFYCFECLTTQLALQHMWDKAWIYTKPHKKNVVHGMGQDAYLPKYFRCQSYVWQLMFFPYQDEGPHWCLMYKQGSGMWTCQDGIHASWASVDSFATAHTIMFSGWYVPDNARVFQYCEVRGCTNWQMNSGIINYERAITFTCEPSAKKYHHACYMMIRHIFYMRRDKHCICLHHDNQYPWHRISDKSNYVKWNFHQFTMSHVPIVANSAKAYPYAMSYMWESIWVTWHNNIADYVGDALWTVFWGHYCESNMPLWKEFFASTRDYKYVFQEEGYGELAPPFKRWVKIMLHKFWNVNVYNEHQNDWYCRFAYIGSQHDWKSKHRVHPNCCNPPIECPPHYIDCSYGHIHQHDDFTYRMPKNRECFHAYSVWLCHQKPFIFTNVICHINRCFLLHGFFMVFFPKIDQVRTYTKAYHFQTTRHTYIEQPYIRCCFGHHCRNQVCWTCDCKCMAYKPENWASHPPAKMRCIYHFDIEAGQDRAFKHLPYKVFEHLMLNYNICQSNFHQMEHMQYKKMAIHSSFSLPFHCHKDGFMVHQGCEPFKIRRTTMWEQLAMREQAIDLINSYDDATYCIMICQVLWIEGCQYEWLYWFPRMGMTNKDHNMRLGISCVDSMPRTKLFSFCYDQTMMGCEHMLPQMLHHTPDIKICFIYCNTKQRKMDYQYSDGQLIRTWYLVIMVFIVCPGIEFQLPLGNHCNSGHITKEYLPCEQPYHDTNLGRHRDIRNYRLTHWGACICLGIITAKEWQNMSPHKQDITAMNSYNFLIEENHIETVVARLSQVKTDESPHDDEREHLFWTPGLIYAQEKFQKCDTGSHNMFECDIHIAEETSTDWAREGEQLMCNLFQDKPDSTNCWVTEPKKICDKHQHRNKPLSDWGIWCTSWYTPHERDCIQAHGHREHQKQTDQWNIQSRFWPKACNQIFISDMPYEGIHYQWCIPNLCEMSKVKHAHIHSCQEDTERIPHMLAQQEVGFNGEVSYEKPKYKCQYYNMKPHVCKFGWRYGGGHWGYCNRLMTDVSFFTSYREAYCIIKECWTFGFGMKSPMITDVICHLDHGNNRYTEHRDWWTITNEINIHMSDISRYESGWRGYGSHHEMVSVRPVPTTCDPCAEFKPSKNRHQIMEVAGYPQPALIETCWQQLWLVPEQVMELDCREQIWRAYPDYSKHDTHCVMWVWSLEYCTEFPCVATMIEGLWHMYNPSGGDFPYHIPNFCTLDFNGTLLEEPTPFGLEYPMLTPCKDMNDYAIMDMPSVFLHCYNSIKLHLWLFDWYDHWYIFSEPWHCAWGCYYQALQDQAPYCICNSVKCFRQHKDPFLEDEITWAFRQQFLYTIFIGIEVKYGLQCPSHYDTQYSDPCYPEWPVNLSQLMTQFEWHSPCMSQGEKLKHWRMFMLAKRASHCITKSIGIPVMAEIKKQSTHSHNHESCKVMFQVNSNGGQAKMLDCVPWYFLMMTQAVGCDSMSGEDLPWSNDHVIGCCVYQPYSVMVKCCVKETYAFFMYHIIGIQRAFKFMFPLARLHDPETQDTVYNCCLCEPHMGLDLKSLRQHGNIACEGIDPGRQFICETNWKMEDVMAERKQCTEWTWECSPLMENCNMRGPKGEFIHEYWGAALLMCMEEQGCVRVVFRAVTFAFNPLYRSAPIFAMSVFHAKIFKFCKFDWAFIDNYETYFWDVLVYSTFNIFQIFAQESHSNMQYCTRYDYAWNMVVHWTWMHGGRKRYQIQTTCPNKFYIFHVRRSICHSKCEHGQAVPIPESHTFFWWYAEQIWGCDDESGWCPICNFTWSQVMVIYWRTPVNCTRYLHPAAKIPTNDKYYQLWNAAFDALWIPIYTGQPNMSCASTHTFKIWDLCRWQWLIGWACSNKNQGSNWRCWTRCKWEACILIIFPQFNTGMWLMGHINANQARLKQVKNWWCMNIAYNSTNMFYYYGHVPEQLQFYRVVKYSIRVYMLLEAHKYMLECYHPGCPDCDFYCHEMSLVMQAAWALYHMAIFMKTLGQYYCPESYHQNYEWDMQKNLDIGHAYVHSMEHMTKDSNQAKEIMPWCGLFPAYAIHWQMCCMDTYRRNYRSGTFGMYHQIVEEQENESCASCHFHFSGCICFVMSFCTSKPRVPWSFCPWRAFKRHMHDYPYQLNITQSAQLPKPPPEMLQYAVKASFWIRIVNEGKKRYAPIMWQIKHSCCFLGTISIISNDWEWKSFQMGIEQPCCMNKCIRYTQKPKNNCFYRIHTDMCGFWNCAVCMPVGGIIWEENKVWQYWLDTDIYHNFEDAGEHRCFDYYRCEPRFRALHEIERCKYGTSNHRPVHFVWAIETTNYKLDSESLGHDLYSMGRIFVKGKQWMLSCNVIDVSYGEDRINGRFHVPIMNLEELDYEEYIWECQDCAYVRWLMEIMVNFFFPCDENFNAWRKERHKPNMLWRCMALLCRHWGKIFRMIGWSMYTNGAFYVNNVTYRARSWPCFSLAHIAHLDWEGAKQAFRTECLHTRVMWVIPKHQCFIQCPRMESSHGTQGGSNISFHIKGTCMANAYLRDTYPCCDNMCIPVLRQMTIFLFLAMGPNNWTEDLEDQPSVSTVRDRQYTCLVCKPKQDPHCKVPTQIMAMEVTGMYQGYWDETLCFNYQEWTPMYFWVECDIFEILLFIVSLRPRCRMWFTPIFNVRSDEMQSTSKAIPRLIWHTSSQFRWATQQGCIHGQQAIDEERHTIEVCNQYNTHYWRTWKSDSRDCISCHEAIESWSPSNDKVLALCSHIIVKITQYWSNWWAHWERDKIITCICGCRCIVTNPIVNIWWIQHTYVTIWNCKSRGVVCCQLMNYEMYQSQNSGFPKLWPEHWNAYQIQCQYFDKSLCFGRQDKAMGKGDLGDANISPQSNDYWNRNGLHAKAWVRDISHYVRHCNPGLCQKDTYRMQGMWVKQHWDQLAHTAKIGALDGPDAEVANHMHTTEPHWWEMGKLYSAREWGGWKVRSRPHMCYFIAADHQLLIPVKFRPLSQAHRVHFGGCAYMFPLIVIWKEKEFGWSAAWFVTRICVAFYMDIKGTDHGTGPTRKLLTMRHIFCGQAVNDATCSSPHGKPCFWRHNGWWHQKYTQIYWRDVQPNTAKYTPPNWDIFERKQIFQTLLFVSANWLYTTFWFPITLMTWYLCTTTWVNSHPDMDVTSKHEPECDMMSCRKCIMTMDWALGGSQMCSHHDMLRHLHNKKRQHVFNLCQGLTWRPAFHQVGCYYPEMNFFDSCNTKDDKFNITAGVCLLEPICCKIEVMPKYPERNCVFKEAHGDIVIPIWMANRNTMNFLLPKAANPHTMLLNFHAYNAQIGWAQEFQRCSMNFRIEPLHAEGNNDWSHDEQACIMDLIRTAEEFQFIVYCFPSCGDRVRHDWHAGSWSECAEVLWVAKDNPNSPFRHKTGYTRGRDYCEIVNTIRCYLQMWSDFQDQIDADMIEHMVVCITFQSCCEDTIFCLNMRLVYRPPNENAATPINSQKICIHQSSNQAAMYIHHMVVRMIDIISEQHCKAMEQDRWPRVFDIPHEIITAPKLPEHCHNAIGWCGGRWDPRAAVWNPYARWLYPNAMPWTSFHDRFIDCNARTQHVCRNPDVMKANEMVHAIKEWLYHSEKVDQMSRNKMTYKVWWC'"
      ]
     },
     "execution_count": 509,
     "metadata": {},
     "output_type": "execute_result"
    }
   ],
   "source": [
    "pep2"
   ]
  },
  {
   "cell_type": "code",
   "execution_count": 510,
   "metadata": {},
   "outputs": [
    {
     "name": "stdout",
     "output_type": "stream",
     "text": [
      "9818\n"
     ]
    }
   ],
   "source": [
    "backtrack=GlobalAlignment(pep1, pep2, BLOSUM62, dict_blosum)"
   ]
  },
  {
   "cell_type": "code",
   "execution_count": 512,
   "metadata": {},
   "outputs": [
    {
     "name": "stdout",
     "output_type": "stream",
     "text": [
      "MR---E----CY-E--NVWWVEQNWFSISQPQRKMTFRNKDNDQVYMMIMHWTQDANPHGIKCRNLTHTCFQKQHVSDQFCVPRF-----HQFDTVLSHLPFQYAHEKQESFLNEKRHSK-KTGHARICDWVCNFGDT-YRNYISIR--EV--I-EGFCVKVMHW------GKVHMWCIHGGLYTPPQRDRSGFWVVNNE-WSQTLPLNWSVEVQHPC-W-----GKHWFFNLYLDHGKEVITMAGMASHCQRMYCWNHPVLATIASPWSMWVINNHIGTYAWCASGEPV-----S---KNPMHDCLCYNHPMSQ--HHPGNKI---YTFYYIWGYMALNSERQW-H--ALVGYHWDEQHMNKAMCIQTSMWSGFIWRYWPNGAHNKKTWLDAWVIYGD--DHNKMNKTKMI-H--PGWEALPWFEAGY-F-N-LCDWDRMDRMWHWWQCCFMKVYKTVKHMKEN------Y--LISH--HMCLHLPQM-HPVLLCCRYLFPYDSHQNVGMYFCYDWPRFSKKRKSTTTVCAQQHHYFRGMWDLADIYIKPHKKNVDHGMGQCAY-G----CQSYVWQLMFFPYQDEFPHWCLMPKQDMWMLTCQDGIHASWKTICNHSWFASVDSFATGHTIMI-GWYV---C---QYCEVRDCTNWQMNSQ--NY----T-TCEPSA-----S-YMMGRHIFYMRRDKR----H-DNQYPWHRISDKSNYVKWNFKHYHNRHQPNSAKAYSESIWVCATAVHDHTWMKINARHIHTESRNINANNIADYVGDALWC-FWGHYC------W-E----TRDYKYVAQEEGYGELAPPFKRWVTFF-GT-GSMNVY--FRACVYNEHEH--HQMDWYEIGSQQVHPNCIPKAHIECPPHRIDCSYGHIHQ-P----RMPKNRECFHANSVWLCHHKPFIFTNVICHINDTTLLHGFFMVFFPKLDQVRTYTKS------R--F---PYSRL-L---CRQQVAWTCECKCMAIKPENWASHPPGRDAKMRCIYHFDIE-GSS-C-ESLPYKVFEKL--NYNYVQSNFLGQWCKTPAHAANKQPKMAIHSSISLLFHCHKDGFEAGYFECEMEFKIRRTTMWEELAMRGQAISLINSYLVFMMDDATYLIMICKVLWIEGCQYEWLYTFSRMGMTTKACEGPVRQDANMRFTAWSFNEPP-TYMIS-CDDSMPLTKLFHFAGCEHMLPQF----PDIKICFIYCETNM--FDYAYSM-QSISPGQL-IRT-VMA-WEDLQLPLLNHCNSVHITKEYL-M-MPYHDTNIGRHRDIRNYRLYHWGACINCLGGWQNLGCGENGMSPHKQDITAMNSYNFLIEMIETWSQVEWRKTDEIHTGQDSCCGGPKPHIHLFWTPGVQWLIYANSTYPHRKDVYLRYCWPCDIHIAEEWSTGDWSKTMLYDWAPEGEQLM---YQDKPDKCGEPHEWWVTEPKK--PQHC-RNK-----GIWCPSWHTPGEGPYGFTTNHGHRSHQKQM-QWNIQSRFWPKACMAVMI--MPYWGIHIN-LMASV-HMA-L--CEMCSCQEDTERIPNMLAQQEVGFYGEVSDEKPK--CQYYNMKPHVC-MDPRKLDGPWGYCNRLMTEVSFCTSYREAHYGIKECWTFGFGMKSPMITKVIPKENQTHLDHGNNRYT----WWTITNEINIHMSGNDISRYESGWRPY-THWYLAMVSCRPVPTTCD--V--K---NRHQIMEVAGYPQPALIEA--QQLWLVP-R-----CREQI--A------HDTHCVMLVWSLEYCTSFPCVATMIEGLWHMYFPS--N-PYHIPNFFQPLKCPLFFNGTLLEEPTIMS-QMPF--PFR--T---IMDMPSVFLHCYNSIKVHLWL-N--PHWYIFL--WHCAWGLY-R---DQAPYCICNSVKCFRQHKDPFLR--ITWAFRIQ-PH--------KYGLQCPSHYDTQYSDPCYPTWFSMASWPVNLSQLMYGTSPCMQRCFCAPYVLQWGEKLKHWRLFMLAKRASHVIKWAFTIATKSIYEIKKMSTHS-------MMFQVNSNGGQAKWLDCVPWY-LFCTQAVGCDSMSGEDLPWSNYHVQGCCVYQPYSQQVKCCWKMT-A----HIIGIQSQ-ALVFPKARLHDWETQDPVYNCC--RG--G-DLKSLPQHLPGPDIG--GIDPGR--M----WKMEDV-GE-----EWIWNCFFYIMENCNMRGPKGEFI----GAYLQMCMEEQRCYH--FRAVTFAFNPLYH--PIFAMSVF---L-KFCKFDWGF--------WDVLVYSTFNIFNDTAPHVQFFAQESHSMMDYTVQQNKAWNMVVHWTWMHGGRKRHQIFMK-PFLDFDFHM-----HSECEHGQAVPIP-G-------AEQIWGCDDESGWCPICNTTWDKAHN-FTRYYL-C---LHPAAQIPNNDKGLRTRMTNYYFWNAAFDAHWIPIYTGQPNMSCASTHTSCNQKMFKLWDLCASGMQDVRFRWQMLIGWANCSNKN----YMC----KWEACILIIDPQFNDGFMHMGHIHWEKKCWRNQIRLKQVKNWWESSIC-R-----YYYGHVNEQLQFVPEVVNYSIRVYMLLCELHKYMLECYHPGCPDCDL---EMSL--Q---------V---TLGQYWCPDSYHQNYECDMQKNLDYFRGGS-V-AIGSAYVHSEETMTHMPWCGLF-----HYKQ--PDTYRPHEPLSNSMFGRHHQIRETHQFNVEVASCHFHFSGCGCFVMVWMTHS-FMPKK--P-RVPIKRHMHDYPYQLNITQSAELPK---EFIVFP-PPDMW-SFW-K-KKRYADKEMVQIKHSHKCCFLGASTISIISND----T----I---CCMNHKCICYTQ---GHA---IHT-VV-L-NCAV-R--G-I--Q-C-IWETWLDTDIYHWHINDEDAGEH-WFDYMH-E----A--P-ERCKYGTSNHIIMKIFFHCMPVHFV-WAICGSESLGQDLYD-GK---QA-MLLLSCNDTHKFADNVIG-DKVYPSFANNVTPIM-MYA-NYEELDY-CQPCAYDRWLMEIMWNFVFPVIYNFNAWHTECKLQIIRKEGRCIVYKMALLCRHWGRCGVDPIKHQTWSMYTIGAFSVQNVTYRARSWPCFS-GH-----WEGA-------CLHTRVS---PARHAHRVS-KNMESSNNN-GMSYQFGMDIKGKCMATVCTTRMCHLRDTYRCDDNYCIPVLRQMRDF-F-KLFENNWTEDLEHQPSVSVVRDRQYTCLVCKPKEDPHCKTYDCWPSADHPDVCEMGHPRPPAEW-HTLCFNYQEWTVMYFWVECDIFEWLLFIVSLRPECRMWFTPIMSMQSTSKGSFKKKIPRLAEFIEEIWHTSYQFRWATQQGCIHLQQAF-H-RCVYDLRKQYNTHYWRTWKSDSTD---------------DKV-----YI-KKITQYWSNWWAHWI-D----CICGSKC-VT-PIV-I---QH----L-S-K--GVVCCQLMYYEMYQSQNKGFPPLWPEHWVRDAYQIQCQY-QKSLCFNRQDKAMGTKSDLGDANISPQSNLYWCRNGLHEMCLHGQAKAWVRDHSHTVRHCNIRFGQPNLCQKDTYKMQGYRYTRCMWVKQKACPIYTWWHSALIGPDDTAQVFLYGHANHMHTTEP---E---LYSAREWSGWKVRSRPH--Y-I---HQLLIPVKFK--SQAHRVHRGGCAYMFPLINIWKEKEFGWSAAWFVTRM----YLDM----YQQG-W-KLLTMRHIFPGQ--Q----S-PHGKPCFWSYT-I-RDNY-MM----VQPNTPKYTPPNWDIFERVQIFQTLLFVSANWHTSYTTLWYPITLMTWYLCTKM-L---P-ME-TSWHEPECDNEDQMFSKPVTGVGQRLGGVHYPGYNSKHDQNK-AWGFEPQHVFNLCRLDECCAQRPAFHQIGCYPPEMFFFDSCNTPDDKFNITAGVCLLEPICCKIEVMPKYPERNCVFKEAHGDIVIPI----R--MWFLRPK--D---MLLNFHAYNAWNYWAQEFQRCSMNFRICSMQKWKEAEPKPCDMLEAEGNNDWSCHDEYACIMD--RTAEE-KNI-----SC-----Y-WHAGSSSECAEVLWVAKVNYNSPFVMSRHKTGYTRGRDTCPIV-P-RCYLDQWYTRPTSRVQAFDDQID-ADF-ITFQMCCEDTIG--N--IPEK--STNRPWGINSQKICCHGVS--VAMYGHHMKVQADRDHMIDIIKEQIHCKAKMEEDRWP-------EIITA--C-EHCH-C-GWCGGTM---AA--HGYAR-V------WESSHDRFY-----TQEGYEQ-FAIKEH-LYDSTNPSAANNEKVDQFSRNKMTYKVWWC\n",
      "MRLYVKMSAYCYYDMGNVWWVEQNWFSISQPQRN--F---DNDQVYMMIMHWTQDAIPHGIKCRNLTH-------VSDQFCVPRKQREERHMFDWVMSHLPFQYAHEKQESFLNEKRFSEPKTRHARICGWMCNFGDQGTRNYISIHPFEVTMVDERFCVKVMNWIASNKWGKVHT-CLHGRLYTFPQRDRSQFWVVNSQTWQQA---T-STEVQHPLFWPMNHDGSHWFFDLYLDHG-----MA--SS-CQRMYCWNHPVLAVI---WNRRNGTIFIGTYAWCVGGEPVWNWEWSPPQKNPAHDGLCYNHPMPKLMQYNRNMIILLYTFSGPWETMALNVERQGQHRHALVGYHWDEQHMNKAMC----MWSTFIWRYWPRGAHNKKTWLDEWVI-GDVTDHVKMNKTIAVPHCIPGWQALPWFEAGWKHKHPQCH-DP-DRMWHWWQC----VYKTVKHMKENGGCRQAWIVLISHGAEMCLHLPQRAHPVLLC----FPMDSHQNVGMYFCYD-KR--KSRDFYCFECLTTQLALQHMWDKAWIYTKPHKKNVVHGMGQDAYLPKYFRCQSYVWQLMFFPYQDEGPHWCLMYKQGSGMWTCQDGIHASW---------ASVDSFATAHTIMFSGWYVPDNARVFQYCEVRGCTNWQMNSGIINYERAITFTCEPSAKKYHHACYMMIRHIFYMRRDKHCICLHHDNQYPWHRISDKSNYVKWNFHQFTMSHVPIVANS-AKA-Y--PYAM-SYMWESI---WV-TW--H-N-N-IADYVGDALWTVFWGHYCESNMPLWKEFFASTRDYKYVFQEEGYGELAPPFKRWVKIMLHKFWNVNVYNEHQNDWYCRFAYIGSQHDW-K-SKHRVHPNCC-NPPIECPPHYIDCSYGHIHQHDDFTYRMPKNRECFHAYSVWLCHQKPFIFTNVICHINRCFLLHGFFMVFFPKIDQVRTYTKAYHFQTTRHTYIEQPYIRCCFGHHCRNQVCWTCDCKCMAYKPENWASHPP---AKMRCIYHFDIEAGQDRAFKHLPYKVFEHLMLNYNICQSNF-HQM-E---HMQYK--KMAIHSSFSLPFHCHKDGFMV-HQGCE-PFKIRRTTMWEQLAMREQAIDLINSY-----DDATYCIMICQVLWIEGCQYEWLYWFPRMGMTNK--------DHNMRLGISCVDSMPRTKLFSFCYDQ---T-MM---GCEHMLPQMLHHTPDIKICFIYCNTKQRKMDYQYSDGQLIRTWYLVIMVFIVCPGIEFQLPLGNHCNSGHITKEYLPCEQPYHDTNLGRHRDIRNYRLTHWGACI-CLG-IITAKEWQN-MSPHKQDITAMNSYNFLIE--ENHIETVVARLSQVKT-DESPHDDER-E-HLFWTPG---LIYAQEKF-QKCDTGSHNMFECDIHIAEE--T---S-T---DWAREGEQLMCNLFQDKPDST---N-CWVTEPKKICDKHQHRNKPLSDWGIWCTSWYTPHERDC-IQA-HGHREHQKQTDQWNIQSRFWPKACNQIFISDMPYEGIHYQWCIPNLCEMSKVKHAHIHSCQEDTERIPHMLAQQEVGFNGEVSYEKPKYKCQYYNMKPHVCKFGWRYGGGHWGYCNRLMTDVSFFTSYREAYCIIKECWTFGFGMKSPMITDVI-----CHLDHGNNRYTEHRDWWTITNEINIHMS--DISRYESGWRGYGSH-H-EMVSVRPVPTTCDPCAEFKPSKNRHQIMEVAGYPQPALIETCWQQLWLVPEQVMELDCREQIWRAYPDYSKHDTHCVMWVWSLEYCTEFPCVATMIEGLWHMYNPSGGDFPYHIPNF-----CTLDFNGTLLEEPTPFGLEYPMLTPCKDMNDYAIMDMPSVFLHCYNSIKLHLWLFDWYDHWYIFSEPWHCAWGCYYQALQDQAPYCICNSVKCFRQHKDPFLEDEITWAFRQQFLYTIFIGIEVKYGLQCPSHYDTQYSDPCYP---E---WPVNLSQLM--TQ--FE--WHSPCMSQ-GEKLKHWRMFMLAKRASHCITKSIGIPVMA--EIKKQSTHSHNHESCKVMFQVNSNGGQAKMLDCVPWYFLMMTQAVGCDSMSGEDLPWSNDHVIGCCVYQPYSVMVKCCVKETYAFFMYHIIGIQRAFKFMFPLARLHDPETQDTVYNCCLCEPHMGLDLKSLRQH--G-NIACEGIDPGRQFICETNWKMEDVMAERKQCTEWTWECS-PLMENCNMRGPKGEFIHEYWGAALLMCMEEQGCVRVVFRAVTFAFNPLYRSAPIFAMSVFHAKIFKFCKFDWAFIDNYETYFWDVLVYSTFNIF-------QIFAQESHSNMQYCTRYDYAWNMVVHWTWMHGGRKRYQIQTTCPNKFYIFHVRRSICHSKCEHGQAVPIPESHTFFWWYAEQIWGCDDESGWCPICNFTWSQVMVIYWRTPVNCTRYLHPAAKIPTNDK-Y------YQLWNAAFDALWIPIYTGQPNMSCASTHT------FKIWDLC-------R--WQWLIGWA-CSNKNQGSNWRCWTRCKWEACILIIFPQFNTGMWLMGHIN----A--NQARLKQVKNWWCMNIAYNSTNMFYYYGHVPEQLQFY-RVVKYSIRVYMLL-EAHKYMLECYHPGCPDCDFYCHEMSLVMQAAWALYHMAIFMKTLGQYYCPESYHQNYEWDMQKNLD-I-GHAYVHSMEHMTKDSNQAKEIMPWCGLFPAYAIHWQMCCMDTYRRNYR-SGT-FGMYHQIVE-EQENESCASCHFHFSGCICFVMSFCTSKPRVPWSFCPWRA-FKRHMHDYPYQLNITQSAQLPKPPPEMLQYAVKASFWIRIVNEGKKRYAPI-MWQIKHS--CCFLG--TISIISNDWEWKSFQMGIEQPCCMN-KCIRYTQKPKNNCFYRIHTDMCGFWNCAVCMPVGGIIWEENKVWQYWLDTDIYH---NFEDAGEHRCFDYYRCEPRFRALHEIERCKYGTSNH--RPVHF-VWAIETTNYKL-DSESLGHDLYSMGRIFVKGKQWMLSCN-V--I-DVSYGEDRINGRF-H-V-PIMNLEELDYEEYIWECQDCAYVRWLMEIMVNFFFPCDENFNAWRKE-RHKP-NMLWRC----MALLCRHWGK--I--FRMIGWSMYTNGAFYVNNVTYRARSWPCFSLAHIAHLDWEGAKQAFRTECLHTRVMWVIP-KHQCFIQCPRMESSHGTQGGS-NISFHIKGTCMANA------YLRDTYPCCDNMCIPVLRQMTIFLFLAMGPNNWTEDLEDQPSVSTVRDRQYTCLVCKPKQDPHCKV-PTQIMA-M-EVTGM-Y-Q--GYWDETLCFNYQEWTPMYFWVECDIFEILLFIVSLRPRCRMWFTPIFNVRSDEMQSTSKAIPRL---I---WHTSSQFRWATQQGCIHGQQAIDEERHTIEVCNQYNTHYWRTWKSDSRDCISCHEAIESWSPSNDKVLALCSHIIVKITQYWSNWWAHWERDKIITCICGCRCIVTNPIVNIWWIQHTYVTIWNCKSRGVVCCQLMNYEMYQSQNSGFPKLWPEHW--NAYQIQCQYFDKSLCFGRQDKAMG-KGDLGDANISPQSNDYWNRNGLH-------AKAWVRDISHYVRHCN-----PGLCQKDTYRMQGM-WVKQHW-DQLA---HTAKIGALDGPD--AEV-----ANHMHTTEPHWWEMGKLYSAREWGGWKVRSRPHMCYFIAADHQLLIPVKFRPLSQAHRVHFGGCAYMFPLIVIWKEKEFGWSAAWFVTRICVAFYMDIKGTDHGTGPTRKLLTMRHIFCGQAVNDATCSSPHGKPCFWRHNGWWHQKYTQIYWRDVQPNTAKYTPPNWDIFERKQIFQTLLFVSANW-L-YTTFWFPITLMTWYLCTTTWVNSHPDMDVTSKHEPECDMMS-C-RKCIMTMDWALGGSQM--C-SHHDMLRHLHNKKRQHVFNLCQ-G-L-TWRPAFHQVGCYYPEMNFFDSCNTKDDKFNITAGVCLLEPICCKIEVMPKYPERNCVFKEAHGDIVIPIWMANRNTMNFLLPKAANPHTMLLNFHAYNAQIGWAQEFQRCSMNFRI-------E--P-----LHAEGNNDWS-HDEQACIMDLIRTAEEFQFIVYCFPSCGDRVRHDWHAGSWSECAEVLWVAKDNPNSPF---RHKTGYTRGRDYCEIVNTIRCYLQMW-SDFQDQIDA-D-MIEHMVVCITFQSCCEDTIFCLNMRLVYRPPNENAATPINSQKICIHQSSNQAAMYIHHM-V-V-R--MIDIISEQ-HCKA-MEQDRWPRVFDIPHEIITAPKLPEHCHNAIGWCGGRWDPRAAVWNPYARWLYPNAMPWTSFHDRFIDCNARTQHVCRNPDVMKANEMVHAIKEWLYHSEKVDQMSRNKMTYKVWWC\n"
     ]
    },
    {
     "data": {
      "text/plain": [
       "('MR---E----CY-E--NVWWVEQNWFSISQPQRKMTFRNKDNDQVYMMIMHWTQDANPHGIKCRNLTHTCFQKQHVSDQFCVPRF-----HQFDTVLSHLPFQYAHEKQESFLNEKRHSK-KTGHARICDWVCNFGDT-YRNYISIR--EV--I-EGFCVKVMHW------GKVHMWCIHGGLYTPPQRDRSGFWVVNNE-WSQTLPLNWSVEVQHPC-W-----GKHWFFNLYLDHGKEVITMAGMASHCQRMYCWNHPVLATIASPWSMWVINNHIGTYAWCASGEPV-----S---KNPMHDCLCYNHPMSQ--HHPGNKI---YTFYYIWGYMALNSERQW-H--ALVGYHWDEQHMNKAMCIQTSMWSGFIWRYWPNGAHNKKTWLDAWVIYGD--DHNKMNKTKMI-H--PGWEALPWFEAGY-F-N-LCDWDRMDRMWHWWQCCFMKVYKTVKHMKEN------Y--LISH--HMCLHLPQM-HPVLLCCRYLFPYDSHQNVGMYFCYDWPRFSKKRKSTTTVCAQQHHYFRGMWDLADIYIKPHKKNVDHGMGQCAY-G----CQSYVWQLMFFPYQDEFPHWCLMPKQDMWMLTCQDGIHASWKTICNHSWFASVDSFATGHTIMI-GWYV---C---QYCEVRDCTNWQMNSQ--NY----T-TCEPSA-----S-YMMGRHIFYMRRDKR----H-DNQYPWHRISDKSNYVKWNFKHYHNRHQPNSAKAYSESIWVCATAVHDHTWMKINARHIHTESRNINANNIADYVGDALWC-FWGHYC------W-E----TRDYKYVAQEEGYGELAPPFKRWVTFF-GT-GSMNVY--FRACVYNEHEH--HQMDWYEIGSQQVHPNCIPKAHIECPPHRIDCSYGHIHQ-P----RMPKNRECFHANSVWLCHHKPFIFTNVICHINDTTLLHGFFMVFFPKLDQVRTYTKS------R--F---PYSRL-L---CRQQVAWTCECKCMAIKPENWASHPPGRDAKMRCIYHFDIE-GSS-C-ESLPYKVFEKL--NYNYVQSNFLGQWCKTPAHAANKQPKMAIHSSISLLFHCHKDGFEAGYFECEMEFKIRRTTMWEELAMRGQAISLINSYLVFMMDDATYLIMICKVLWIEGCQYEWLYTFSRMGMTTKACEGPVRQDANMRFTAWSFNEPP-TYMIS-CDDSMPLTKLFHFAGCEHMLPQF----PDIKICFIYCETNM--FDYAYSM-QSISPGQL-IRT-VMA-WEDLQLPLLNHCNSVHITKEYL-M-MPYHDTNIGRHRDIRNYRLYHWGACINCLGGWQNLGCGENGMSPHKQDITAMNSYNFLIEMIETWSQVEWRKTDEIHTGQDSCCGGPKPHIHLFWTPGVQWLIYANSTYPHRKDVYLRYCWPCDIHIAEEWSTGDWSKTMLYDWAPEGEQLM---YQDKPDKCGEPHEWWVTEPKK--PQHC-RNK-----GIWCPSWHTPGEGPYGFTTNHGHRSHQKQM-QWNIQSRFWPKACMAVMI--MPYWGIHIN-LMASV-HMA-L--CEMCSCQEDTERIPNMLAQQEVGFYGEVSDEKPK--CQYYNMKPHVC-MDPRKLDGPWGYCNRLMTEVSFCTSYREAHYGIKECWTFGFGMKSPMITKVIPKENQTHLDHGNNRYT----WWTITNEINIHMSGNDISRYESGWRPY-THWYLAMVSCRPVPTTCD--V--K---NRHQIMEVAGYPQPALIEA--QQLWLVP-R-----CREQI--A------HDTHCVMLVWSLEYCTSFPCVATMIEGLWHMYFPS--N-PYHIPNFFQPLKCPLFFNGTLLEEPTIMS-QMPF--PFR--T---IMDMPSVFLHCYNSIKVHLWL-N--PHWYIFL--WHCAWGLY-R---DQAPYCICNSVKCFRQHKDPFLR--ITWAFRIQ-PH--------KYGLQCPSHYDTQYSDPCYPTWFSMASWPVNLSQLMYGTSPCMQRCFCAPYVLQWGEKLKHWRLFMLAKRASHVIKWAFTIATKSIYEIKKMSTHS-------MMFQVNSNGGQAKWLDCVPWY-LFCTQAVGCDSMSGEDLPWSNYHVQGCCVYQPYSQQVKCCWKMT-A----HIIGIQSQ-ALVFPKARLHDWETQDPVYNCC--RG--G-DLKSLPQHLPGPDIG--GIDPGR--M----WKMEDV-GE-----EWIWNCFFYIMENCNMRGPKGEFI----GAYLQMCMEEQRCYH--FRAVTFAFNPLYH--PIFAMSVF---L-KFCKFDWGF--------WDVLVYSTFNIFNDTAPHVQFFAQESHSMMDYTVQQNKAWNMVVHWTWMHGGRKRHQIFMK-PFLDFDFHM-----HSECEHGQAVPIP-G-------AEQIWGCDDESGWCPICNTTWDKAHN-FTRYYL-C---LHPAAQIPNNDKGLRTRMTNYYFWNAAFDAHWIPIYTGQPNMSCASTHTSCNQKMFKLWDLCASGMQDVRFRWQMLIGWANCSNKN----YMC----KWEACILIIDPQFNDGFMHMGHIHWEKKCWRNQIRLKQVKNWWESSIC-R-----YYYGHVNEQLQFVPEVVNYSIRVYMLLCELHKYMLECYHPGCPDCDL---EMSL--Q---------V---TLGQYWCPDSYHQNYECDMQKNLDYFRGGS-V-AIGSAYVHSEETMTHMPWCGLF-----HYKQ--PDTYRPHEPLSNSMFGRHHQIRETHQFNVEVASCHFHFSGCGCFVMVWMTHS-FMPKK--P-RVPIKRHMHDYPYQLNITQSAELPK---EFIVFP-PPDMW-SFW-K-KKRYADKEMVQIKHSHKCCFLGASTISIISND----T----I---CCMNHKCICYTQ---GHA---IHT-VV-L-NCAV-R--G-I--Q-C-IWETWLDTDIYHWHINDEDAGEH-WFDYMH-E----A--P-ERCKYGTSNHIIMKIFFHCMPVHFV-WAICGSESLGQDLYD-GK---QA-MLLLSCNDTHKFADNVIG-DKVYPSFANNVTPIM-MYA-NYEELDY-CQPCAYDRWLMEIMWNFVFPVIYNFNAWHTECKLQIIRKEGRCIVYKMALLCRHWGRCGVDPIKHQTWSMYTIGAFSVQNVTYRARSWPCFS-GH-----WEGA-------CLHTRVS---PARHAHRVS-KNMESSNNN-GMSYQFGMDIKGKCMATVCTTRMCHLRDTYRCDDNYCIPVLRQMRDF-F-KLFENNWTEDLEHQPSVSVVRDRQYTCLVCKPKEDPHCKTYDCWPSADHPDVCEMGHPRPPAEW-HTLCFNYQEWTVMYFWVECDIFEWLLFIVSLRPECRMWFTPIMSMQSTSKGSFKKKIPRLAEFIEEIWHTSYQFRWATQQGCIHLQQAF-H-RCVYDLRKQYNTHYWRTWKSDSTD---------------DKV-----YI-KKITQYWSNWWAHWI-D----CICGSKC-VT-PIV-I---QH----L-S-K--GVVCCQLMYYEMYQSQNKGFPPLWPEHWVRDAYQIQCQY-QKSLCFNRQDKAMGTKSDLGDANISPQSNLYWCRNGLHEMCLHGQAKAWVRDHSHTVRHCNIRFGQPNLCQKDTYKMQGYRYTRCMWVKQKACPIYTWWHSALIGPDDTAQVFLYGHANHMHTTEP---E---LYSAREWSGWKVRSRPH--Y-I---HQLLIPVKFK--SQAHRVHRGGCAYMFPLINIWKEKEFGWSAAWFVTRM----YLDM----YQQG-W-KLLTMRHIFPGQ--Q----S-PHGKPCFWSYT-I-RDNY-MM----VQPNTPKYTPPNWDIFERVQIFQTLLFVSANWHTSYTTLWYPITLMTWYLCTKM-L---P-ME-TSWHEPECDNEDQMFSKPVTGVGQRLGGVHYPGYNSKHDQNK-AWGFEPQHVFNLCRLDECCAQRPAFHQIGCYPPEMFFFDSCNTPDDKFNITAGVCLLEPICCKIEVMPKYPERNCVFKEAHGDIVIPI----R--MWFLRPK--D---MLLNFHAYNAWNYWAQEFQRCSMNFRICSMQKWKEAEPKPCDMLEAEGNNDWSCHDEYACIMD--RTAEE-KNI-----SC-----Y-WHAGSSSECAEVLWVAKVNYNSPFVMSRHKTGYTRGRDTCPIV-P-RCYLDQWYTRPTSRVQAFDDQID-ADF-ITFQMCCEDTIG--N--IPEK--STNRPWGINSQKICCHGVS--VAMYGHHMKVQADRDHMIDIIKEQIHCKAKMEEDRWP-------EIITA--C-EHCH-C-GWCGGTM---AA--HGYAR-V------WESSHDRFY-----TQEGYEQ-FAIKEH-LYDSTNPSAANNEKVDQFSRNKMTYKVWWC',\n",
       " 'MRLYVKMSAYCYYDMGNVWWVEQNWFSISQPQRN--F---DNDQVYMMIMHWTQDAIPHGIKCRNLTH-------VSDQFCVPRKQREERHMFDWVMSHLPFQYAHEKQESFLNEKRFSEPKTRHARICGWMCNFGDQGTRNYISIHPFEVTMVDERFCVKVMNWIASNKWGKVHT-CLHGRLYTFPQRDRSQFWVVNSQTWQQA---T-STEVQHPLFWPMNHDGSHWFFDLYLDHG-----MA--SS-CQRMYCWNHPVLAVI---WNRRNGTIFIGTYAWCVGGEPVWNWEWSPPQKNPAHDGLCYNHPMPKLMQYNRNMIILLYTFSGPWETMALNVERQGQHRHALVGYHWDEQHMNKAMC----MWSTFIWRYWPRGAHNKKTWLDEWVI-GDVTDHVKMNKTIAVPHCIPGWQALPWFEAGWKHKHPQCH-DP-DRMWHWWQC----VYKTVKHMKENGGCRQAWIVLISHGAEMCLHLPQRAHPVLLC----FPMDSHQNVGMYFCYD-KR--KSRDFYCFECLTTQLALQHMWDKAWIYTKPHKKNVVHGMGQDAYLPKYFRCQSYVWQLMFFPYQDEGPHWCLMYKQGSGMWTCQDGIHASW---------ASVDSFATAHTIMFSGWYVPDNARVFQYCEVRGCTNWQMNSGIINYERAITFTCEPSAKKYHHACYMMIRHIFYMRRDKHCICLHHDNQYPWHRISDKSNYVKWNFHQFTMSHVPIVANS-AKA-Y--PYAM-SYMWESI---WV-TW--H-N-N-IADYVGDALWTVFWGHYCESNMPLWKEFFASTRDYKYVFQEEGYGELAPPFKRWVKIMLHKFWNVNVYNEHQNDWYCRFAYIGSQHDW-K-SKHRVHPNCC-NPPIECPPHYIDCSYGHIHQHDDFTYRMPKNRECFHAYSVWLCHQKPFIFTNVICHINRCFLLHGFFMVFFPKIDQVRTYTKAYHFQTTRHTYIEQPYIRCCFGHHCRNQVCWTCDCKCMAYKPENWASHPP---AKMRCIYHFDIEAGQDRAFKHLPYKVFEHLMLNYNICQSNF-HQM-E---HMQYK--KMAIHSSFSLPFHCHKDGFMV-HQGCE-PFKIRRTTMWEQLAMREQAIDLINSY-----DDATYCIMICQVLWIEGCQYEWLYWFPRMGMTNK--------DHNMRLGISCVDSMPRTKLFSFCYDQ---T-MM---GCEHMLPQMLHHTPDIKICFIYCNTKQRKMDYQYSDGQLIRTWYLVIMVFIVCPGIEFQLPLGNHCNSGHITKEYLPCEQPYHDTNLGRHRDIRNYRLTHWGACI-CLG-IITAKEWQN-MSPHKQDITAMNSYNFLIE--ENHIETVVARLSQVKT-DESPHDDER-E-HLFWTPG---LIYAQEKF-QKCDTGSHNMFECDIHIAEE--T---S-T---DWAREGEQLMCNLFQDKPDST---N-CWVTEPKKICDKHQHRNKPLSDWGIWCTSWYTPHERDC-IQA-HGHREHQKQTDQWNIQSRFWPKACNQIFISDMPYEGIHYQWCIPNLCEMSKVKHAHIHSCQEDTERIPHMLAQQEVGFNGEVSYEKPKYKCQYYNMKPHVCKFGWRYGGGHWGYCNRLMTDVSFFTSYREAYCIIKECWTFGFGMKSPMITDVI-----CHLDHGNNRYTEHRDWWTITNEINIHMS--DISRYESGWRGYGSH-H-EMVSVRPVPTTCDPCAEFKPSKNRHQIMEVAGYPQPALIETCWQQLWLVPEQVMELDCREQIWRAYPDYSKHDTHCVMWVWSLEYCTEFPCVATMIEGLWHMYNPSGGDFPYHIPNF-----CTLDFNGTLLEEPTPFGLEYPMLTPCKDMNDYAIMDMPSVFLHCYNSIKLHLWLFDWYDHWYIFSEPWHCAWGCYYQALQDQAPYCICNSVKCFRQHKDPFLEDEITWAFRQQFLYTIFIGIEVKYGLQCPSHYDTQYSDPCYP---E---WPVNLSQLM--TQ--FE--WHSPCMSQ-GEKLKHWRMFMLAKRASHCITKSIGIPVMA--EIKKQSTHSHNHESCKVMFQVNSNGGQAKMLDCVPWYFLMMTQAVGCDSMSGEDLPWSNDHVIGCCVYQPYSVMVKCCVKETYAFFMYHIIGIQRAFKFMFPLARLHDPETQDTVYNCCLCEPHMGLDLKSLRQH--G-NIACEGIDPGRQFICETNWKMEDVMAERKQCTEWTWECS-PLMENCNMRGPKGEFIHEYWGAALLMCMEEQGCVRVVFRAVTFAFNPLYRSAPIFAMSVFHAKIFKFCKFDWAFIDNYETYFWDVLVYSTFNIF-------QIFAQESHSNMQYCTRYDYAWNMVVHWTWMHGGRKRYQIQTTCPNKFYIFHVRRSICHSKCEHGQAVPIPESHTFFWWYAEQIWGCDDESGWCPICNFTWSQVMVIYWRTPVNCTRYLHPAAKIPTNDK-Y------YQLWNAAFDALWIPIYTGQPNMSCASTHT------FKIWDLC-------R--WQWLIGWA-CSNKNQGSNWRCWTRCKWEACILIIFPQFNTGMWLMGHIN----A--NQARLKQVKNWWCMNIAYNSTNMFYYYGHVPEQLQFY-RVVKYSIRVYMLL-EAHKYMLECYHPGCPDCDFYCHEMSLVMQAAWALYHMAIFMKTLGQYYCPESYHQNYEWDMQKNLD-I-GHAYVHSMEHMTKDSNQAKEIMPWCGLFPAYAIHWQMCCMDTYRRNYR-SGT-FGMYHQIVE-EQENESCASCHFHFSGCICFVMSFCTSKPRVPWSFCPWRA-FKRHMHDYPYQLNITQSAQLPKPPPEMLQYAVKASFWIRIVNEGKKRYAPI-MWQIKHS--CCFLG--TISIISNDWEWKSFQMGIEQPCCMN-KCIRYTQKPKNNCFYRIHTDMCGFWNCAVCMPVGGIIWEENKVWQYWLDTDIYH---NFEDAGEHRCFDYYRCEPRFRALHEIERCKYGTSNH--RPVHF-VWAIETTNYKL-DSESLGHDLYSMGRIFVKGKQWMLSCN-V--I-DVSYGEDRINGRF-H-V-PIMNLEELDYEEYIWECQDCAYVRWLMEIMVNFFFPCDENFNAWRKE-RHKP-NMLWRC----MALLCRHWGK--I--FRMIGWSMYTNGAFYVNNVTYRARSWPCFSLAHIAHLDWEGAKQAFRTECLHTRVMWVIP-KHQCFIQCPRMESSHGTQGGS-NISFHIKGTCMANA------YLRDTYPCCDNMCIPVLRQMTIFLFLAMGPNNWTEDLEDQPSVSTVRDRQYTCLVCKPKQDPHCKV-PTQIMA-M-EVTGM-Y-Q--GYWDETLCFNYQEWTPMYFWVECDIFEILLFIVSLRPRCRMWFTPIFNVRSDEMQSTSKAIPRL---I---WHTSSQFRWATQQGCIHGQQAIDEERHTIEVCNQYNTHYWRTWKSDSRDCISCHEAIESWSPSNDKVLALCSHIIVKITQYWSNWWAHWERDKIITCICGCRCIVTNPIVNIWWIQHTYVTIWNCKSRGVVCCQLMNYEMYQSQNSGFPKLWPEHW--NAYQIQCQYFDKSLCFGRQDKAMG-KGDLGDANISPQSNDYWNRNGLH-------AKAWVRDISHYVRHCN-----PGLCQKDTYRMQGM-WVKQHW-DQLA---HTAKIGALDGPD--AEV-----ANHMHTTEPHWWEMGKLYSAREWGGWKVRSRPHMCYFIAADHQLLIPVKFRPLSQAHRVHFGGCAYMFPLIVIWKEKEFGWSAAWFVTRICVAFYMDIKGTDHGTGPTRKLLTMRHIFCGQAVNDATCSSPHGKPCFWRHNGWWHQKYTQIYWRDVQPNTAKYTPPNWDIFERKQIFQTLLFVSANW-L-YTTFWFPITLMTWYLCTTTWVNSHPDMDVTSKHEPECDMMS-C-RKCIMTMDWALGGSQM--C-SHHDMLRHLHNKKRQHVFNLCQ-G-L-TWRPAFHQVGCYYPEMNFFDSCNTKDDKFNITAGVCLLEPICCKIEVMPKYPERNCVFKEAHGDIVIPIWMANRNTMNFLLPKAANPHTMLLNFHAYNAQIGWAQEFQRCSMNFRI-------E--P-----LHAEGNNDWS-HDEQACIMDLIRTAEEFQFIVYCFPSCGDRVRHDWHAGSWSECAEVLWVAKDNPNSPF---RHKTGYTRGRDYCEIVNTIRCYLQMW-SDFQDQIDA-D-MIEHMVVCITFQSCCEDTIFCLNMRLVYRPPNENAATPINSQKICIHQSSNQAAMYIHHM-V-V-R--MIDIISEQ-HCKA-MEQDRWPRVFDIPHEIITAPKLPEHCHNAIGWCGGRWDPRAAVWNPYARWLYPNAMPWTSFHDRFIDCNARTQHVCRNPDVMKANEMVHAIKEWLYHSEKVDQMSRNKMTYKVWWC')"
      ]
     },
     "execution_count": 512,
     "metadata": {},
     "output_type": "execute_result"
    }
   ],
   "source": [
    "OutputGlobalNoRecursion(backtrack, pep1, pep2,len(pep1), len(pep2))"
   ]
  },
  {
   "cell_type": "code",
   "execution_count": 417,
   "metadata": {},
   "outputs": [
    {
     "data": {
      "text/plain": [
       "3717"
      ]
     },
     "execution_count": 417,
     "metadata": {},
     "output_type": "execute_result"
    }
   ],
   "source": []
  },
  {
   "cell_type": "code",
   "execution_count": 419,
   "metadata": {},
   "outputs": [
    {
     "name": "stdout",
     "output_type": "stream",
     "text": [
      "VLFIFINNTLDYKGRPMWEWEQNQAHYTMFLAQNPSKCFKIRDV-EMSSLDDMQRRVRHMN---C-GYNVYFRASKMC-HAR--MEFNDTS---HHHPIFQKIISHQFDPSHSRQTEPFCKQFNCYFWHPQDLF----------MNHIWFFFMGMVPRHVHEPW-SYEFKKE-VQSWWG-PHTYQKRMQEVTTAVLPVN-----E--AGINPSFKHVMADLRISGNVSPSRYAKWIYCFVKSYKCSWSEWDTY---------EYQRTNPIVQFAHDHIQLHALKFKLVTQVQLSYNWQSTVRHFHWEI-Q-IFGQAQVYDSQIWEY--WW--KGFMS-MH-S-----F-SEW-N-KGLGDSRM-FLDMWVNWTNDEFKNSIKQDAP-----LWEWDDNGDQVR-MEYMKLRP---RM---KDVVIDVLAYLSVLRKHNDRRRRAVAYPIPLARGTSRWQKTMEVVIPH-WVTWSYMARI----RRQTEKKV-GSQNIIFKQHYKHGQALNLWFMNASPQ-TCGMSGNSHEAVFYPTIMLFHCEINDNGCAKYHPYMHCIGYKQFENVVTVHKHHEAFNEHMRQACCK-TNRYGIYTQVKWASGGGDCNPQVYVTHQECISQWDETFVRHIIKNSIEQKYQIWQIQGRIYGQTVWEVGDKLALTPIDYSEK-YHSST---FTGDMVHSMQCRGAGLEGMNSICCAMVPDYDVSMSVMTPLMIASMNMHYWDHQQGLEFPF---WKHEKDYFP-NKSPSEFCTLNRPFRSGTHFPLAISWVNKMQDYCWCMMIPKFPWSGHPWMKR--P------MS-------G---------GQFIQHI-DAFWAAGEFYAY-VN-DKLGSSFQMARKTCFME--VPQKAY-ALIFHYPQVGLQVRTMSIHHQWIHLWEDKQIRC-VLY-F--F-ACSRCN-ENCASVLAPAPS---IYYECALYKPCALVSKKMIPYNSQYNIDQRAEQPIKGGPQRSDTSRWP-YASMTWAWMGNGVCF--SE--YP-K-HCLSFITFTYIHQWVLAPLLAYCSVRFYMWME----PNARIWHAEDSSCQFPWLPN-ANMCMEKY-QEDWFYPTYPHHYPHQWSIPVQIMLLLV----LTWCVFDHERGWPNLRMLLHWWNHYQFIQRCWMTYTDG---RAAP----SKPTDFSETLMYIFSQKNENEHYNYVMTVMIFCRTSQYHA-YLKIDGTL-NFEKVHHYFWVFPCSQFKGIKHMN-QIIDPGHDNDIMCMFHSPFNGWGNWILNWRCTSDYKMLAYCPYIHQMQPCWSKMITAHPQLIAVWQKPMGCP--PMSMEKEIMYDFVC-VRFTTIAAYGKPLDLKKKSTRHYHY---FHPIHPIAFQNTNGPCGRNADHLMPEVPPLNRRGDDVNKPGQRLPTNQPVKLQTMRQAIPYWSLAIVKGLDYCLGGHWAPGKEYFCEDE--SCPEH-F--V--Q-KR-C-T--YGW--VCMD-VE--QM-ITQLC--HTW------SRYHWNFWCSTYVAKIRKNLLCCMVNDMICLFVFWGHWYHQRMR--KRWYYRPDRHYCWVCLD-AIL-NGPRCMADFKASNAFMEWWIYTNAYNHKGLTD-G--PAGVYDHWARPTKWKFNELFTTISVHPGHLEGGNAK-SQLKKYYKV--TYHCRKRPCMRAYTL-PNLNRPPNSKYILTKAKCTYRMFRFPAGAYYTQY------QCR---A-M-I-GF-KRAPCKWVLCPKPNALNMNDMDC-V-RWKYHNVCAWAP-VTFWTYYLEKTMASKFQETYRVQFHELYNETQVSREDETKCSHKAASDAHNVEVFWAQVTVARTAMDTVPKKKGFLMEQANFHSIAQALRLPCGVVFMCLKAKCEAGVYRTSRPRGCLSDHQRAKSIVCHYSIFPGTVGINGFSYTMKYDIDASKNPDIICDTIFWCNQCM--HWCTHASLPNQRKWPAQLILYGVNRTLAPHLTQRMVATDNIWVFQYDMPISYDLKHHYLG-MHERLSCCQVWS-TDE-DLFWTLHSK-M-KDLV--A-HYKISSPMPMWVPC-CAM--YV-PTYGDGSDVSCYKMYGHNDYLMQSNTMRWQTCCVLIT---------TNFPWQLTLMCDMHGQDIVCKLCECKVVYMKQIQMVMPNYAHMGAYT-------LGRNWGQVTHYHKVH--------V-----K-SAAEEWEISDMA-EKN----FHFWAHGVRCVADGKDCPPHHDWNLSFKTHMMVHPMMESSF-RVCFNSWAFFMHPWQRFVCLNPHNDIQCDFMAPRDSLSNIHAHQPWVVWYIRHDCMMPELDFEWHPGGLAVSS--AQQHPE---TYNPHSEASRVKGVLWNQHIWEKYWTLFFMMEPNCWCKLQCWVLSCRGYWPTAEVINICYLD----WWFSDPTLYDHVGAYGPAVQQTHSFMKFLKVPFEQKGTNQQSNHHCGQQDSYAR--------LFNQFFAEDDLHKMIFQGRQFWDEHRSLYI---CP----FHCSWYEGRPCVDAVYEI--W-------YMKRRSITFKD---------------VLMDYEVSDI------M--NQNHRPKCAMAIMEYLCCQKTT-K-VNHERCSQ---------N--QWKKDSQWMKLKTRH-----IK---IRIRCGAQ---YNDS-QALGRFQGQYALIYYWCSELNA-LFSDFDAEIW-VMW-QIGIQCMFWQPINKITSSKHDQVPNIIVQNLSNTDRY--A-WKLMATRNLQWTKFLVTMQIVTFCKSSRVCYPS-------GVVNCGDMPASPLQCKNNWCLGQWGRADYWEWGWWCQPMQCQTHCEWCVEWYQNNSFNENTEIYLQELCPWHKAMSKKLWEIEGW--F-----MMMEPGALNQSEHPGTL--AC--L-C-FEG-C-----ESYTTFYQYFYCCMLQPE-WM-----FRLAQFFWRFM--P--TK-L----CKNV-N-EEGWK----G--HQIIMVQTYHWFTMAGAIHENEFDIGWQWGRQVTVLQFQRAGKFAQTDTPDNAEMCDIIQRAHWFLMSIQW-IHK---CVWTINMTKHQPQYTLLCAYITVDRTPKLWEFCWWQNC---A--QVNWH-YLDSLILNMSWQNMNEEIMILYLPLSKFPKIRRR-Q----RYICWDYWQTP--CLPMRTYNQIAFQEYENIHLPDTNHTAHQNTHSIAWQKRLACGTIWNIQPTD-E-CGEPAAITYDKGKLWAG--SSPE-PEANIRPNVWAFAFWVLAND---MA----CAQLN-E----AYDQNDF-----SPAQMCPANDCWTADPWIYTARKRDQDFAVSHWDLKY------KPHWNYMMEYCYECEFERVTHPNWIPMMFECFSIQSKGFHEPASAAFHCTLWKEQITLDNITWCLCR--F----F-MTMTNCIMGSFIVRMKCKSFFACNMGSPQNPLTWCGKQEHQTIISLYCGPGMWEWHSTVGCRCRDAC-CK-MNMVPKIGMFIKFRKLSMPRNATFRGQEFVISRSVW-KKW-LVGDCGWGCEWTIDDPARTRGNPC---FHCGHMRDYG-P--PQTIY-FHQHEEHSM--NNLA-MFM-PVHR-A--Q-P---CN-----VHNYT--AAVDMWQLPLFQGPGRGDWWMWAYHWPLNGCNHASRCEKRVLLSWAEGSTDRVKNAKDQ-VD---HADCNRLQVWNVNYNWSWFDSSEHEYITPSIWQRGVWARDPVSDVMWKSHGG--HYTEGGSNFHHPHFRGEGRWMWI-D--------GFCNGHYPWCNVVRSFWGVFHHKPEMDCFDKVLSIDIGGSQKGQLEPHSELDIWQHCSSVMWGPLFLHCPKCISKQGSHRMGWQIILRDNVCLRFMINYQGLTKRTFWVQQT---------CDVKVGINFDCGAVCLRAAIYHM----PW-K-WIHCSMNYFAYHNVRWFQNVD------YAT-I-A---I-IQ-YHFLDTASLRQ-EGATDCRTWKVYRIIRINQTFKGRWHRWATCSVTLLDFEYPEMFYTQV--ATCHKQPTHMMCMRELCEGVLSPVAQQKFPMNAKCHPCCIRVKS--DIG-EK-V-WDRSLEFKKMMPAYQQPNPCEAEADRCNCFDYFSREKAQFQIEQWGLYWGW-CDTHMYAWKNWQVIWATNYIPYFMHCRLGWWWDDWY--SEASLAKGRYGTYYCML-W-DDM-----FYPSIECAWCHMLKYKRLPLLANY--GPVSLQTSCMMQEWTWREVGLWLITML\n"
     ]
    },
    {
     "data": {
      "text/plain": [
       "['V',\n",
       " 'L',\n",
       " 'F',\n",
       " 'I',\n",
       " 'F',\n",
       " 'I',\n",
       " 'N',\n",
       " 'N',\n",
       " 'T',\n",
       " 'L',\n",
       " 'D',\n",
       " 'Y',\n",
       " 'K',\n",
       " 'G',\n",
       " 'R',\n",
       " 'P',\n",
       " 'M',\n",
       " 'W',\n",
       " 'E',\n",
       " 'W',\n",
       " 'E',\n",
       " 'Q',\n",
       " 'N',\n",
       " 'Q',\n",
       " 'A',\n",
       " 'H',\n",
       " 'Y',\n",
       " 'T',\n",
       " 'M',\n",
       " 'F',\n",
       " 'L',\n",
       " 'A',\n",
       " 'Q',\n",
       " 'N',\n",
       " 'P',\n",
       " 'S',\n",
       " 'K',\n",
       " 'C',\n",
       " 'F',\n",
       " 'K',\n",
       " 'I',\n",
       " 'R',\n",
       " 'D',\n",
       " 'V',\n",
       " '-',\n",
       " 'E',\n",
       " 'M',\n",
       " 'S',\n",
       " 'S',\n",
       " 'L',\n",
       " 'D',\n",
       " 'D',\n",
       " 'M',\n",
       " 'Q',\n",
       " 'R',\n",
       " 'R',\n",
       " 'V',\n",
       " 'R',\n",
       " 'H',\n",
       " 'M',\n",
       " 'N',\n",
       " '-',\n",
       " '-',\n",
       " '-',\n",
       " 'C',\n",
       " '-',\n",
       " 'G',\n",
       " 'Y',\n",
       " 'N',\n",
       " 'V',\n",
       " 'Y',\n",
       " 'F',\n",
       " 'R',\n",
       " 'A',\n",
       " 'S',\n",
       " 'K',\n",
       " 'M',\n",
       " 'C',\n",
       " '-',\n",
       " 'H',\n",
       " 'A',\n",
       " 'R',\n",
       " '-',\n",
       " '-',\n",
       " 'M',\n",
       " 'E',\n",
       " 'F',\n",
       " 'N',\n",
       " 'D',\n",
       " 'T',\n",
       " 'S',\n",
       " '-',\n",
       " '-',\n",
       " '-',\n",
       " 'H',\n",
       " 'H',\n",
       " 'H',\n",
       " 'P',\n",
       " 'I',\n",
       " 'F',\n",
       " 'Q',\n",
       " 'K',\n",
       " 'I',\n",
       " 'I',\n",
       " 'S',\n",
       " 'H',\n",
       " 'Q',\n",
       " 'F',\n",
       " 'D',\n",
       " 'P',\n",
       " 'S',\n",
       " 'H',\n",
       " 'S',\n",
       " 'R',\n",
       " 'Q',\n",
       " 'T',\n",
       " 'E',\n",
       " 'P',\n",
       " 'F',\n",
       " 'C',\n",
       " 'K',\n",
       " 'Q',\n",
       " 'F',\n",
       " 'N',\n",
       " 'C',\n",
       " 'Y',\n",
       " 'F',\n",
       " 'W',\n",
       " 'H',\n",
       " 'P',\n",
       " 'Q',\n",
       " 'D',\n",
       " 'L',\n",
       " 'F',\n",
       " '-',\n",
       " '-',\n",
       " '-',\n",
       " '-',\n",
       " '-',\n",
       " '-',\n",
       " '-',\n",
       " '-',\n",
       " '-',\n",
       " '-',\n",
       " 'M',\n",
       " 'N',\n",
       " 'H',\n",
       " 'I',\n",
       " 'W',\n",
       " 'F',\n",
       " 'F',\n",
       " 'F',\n",
       " 'M',\n",
       " 'G',\n",
       " 'M',\n",
       " 'V',\n",
       " 'P',\n",
       " 'R',\n",
       " 'H',\n",
       " 'V',\n",
       " 'H',\n",
       " 'E',\n",
       " 'P',\n",
       " 'W',\n",
       " '-',\n",
       " 'S',\n",
       " 'Y',\n",
       " 'E',\n",
       " 'F',\n",
       " 'K',\n",
       " 'K',\n",
       " 'E',\n",
       " '-',\n",
       " 'V',\n",
       " 'Q',\n",
       " 'S',\n",
       " 'W',\n",
       " 'W',\n",
       " 'G',\n",
       " '-',\n",
       " 'P',\n",
       " 'H',\n",
       " 'T',\n",
       " 'Y',\n",
       " 'Q',\n",
       " 'K',\n",
       " 'R',\n",
       " 'M',\n",
       " 'Q',\n",
       " 'E',\n",
       " 'V',\n",
       " 'T',\n",
       " 'T',\n",
       " 'A',\n",
       " 'V',\n",
       " 'L',\n",
       " 'P',\n",
       " 'V',\n",
       " 'N',\n",
       " '-',\n",
       " '-',\n",
       " '-',\n",
       " '-',\n",
       " '-',\n",
       " 'E',\n",
       " '-',\n",
       " '-',\n",
       " 'A',\n",
       " 'G',\n",
       " 'I',\n",
       " 'N',\n",
       " 'P',\n",
       " 'S',\n",
       " 'F',\n",
       " 'K',\n",
       " 'H',\n",
       " 'V',\n",
       " 'M',\n",
       " 'A',\n",
       " 'D',\n",
       " 'L',\n",
       " 'R',\n",
       " 'I',\n",
       " 'S',\n",
       " 'G',\n",
       " 'N',\n",
       " 'V',\n",
       " 'S',\n",
       " 'P',\n",
       " 'S',\n",
       " 'R',\n",
       " 'Y',\n",
       " 'A',\n",
       " 'K',\n",
       " 'W',\n",
       " 'I',\n",
       " 'Y',\n",
       " 'C',\n",
       " 'F',\n",
       " 'V',\n",
       " 'K',\n",
       " 'S',\n",
       " 'Y',\n",
       " 'K',\n",
       " 'C',\n",
       " 'S',\n",
       " 'W',\n",
       " 'S',\n",
       " 'E',\n",
       " 'W',\n",
       " 'D',\n",
       " 'T',\n",
       " 'Y',\n",
       " '-',\n",
       " '-',\n",
       " '-',\n",
       " '-',\n",
       " '-',\n",
       " '-',\n",
       " '-',\n",
       " '-',\n",
       " '-',\n",
       " 'E',\n",
       " 'Y',\n",
       " 'Q',\n",
       " 'R',\n",
       " 'T',\n",
       " 'N',\n",
       " 'P',\n",
       " 'I',\n",
       " 'V',\n",
       " 'Q',\n",
       " 'F',\n",
       " 'A',\n",
       " 'H',\n",
       " 'D',\n",
       " 'H',\n",
       " 'I',\n",
       " 'Q',\n",
       " 'L',\n",
       " 'H',\n",
       " 'A',\n",
       " 'L',\n",
       " 'K',\n",
       " 'F',\n",
       " 'K',\n",
       " 'L',\n",
       " 'V',\n",
       " 'T',\n",
       " 'Q',\n",
       " 'V',\n",
       " 'Q',\n",
       " 'L',\n",
       " 'S',\n",
       " 'Y',\n",
       " 'N',\n",
       " 'W',\n",
       " 'Q',\n",
       " 'S',\n",
       " 'T',\n",
       " 'V',\n",
       " 'R',\n",
       " 'H',\n",
       " 'F',\n",
       " 'H',\n",
       " 'W',\n",
       " 'E',\n",
       " 'I',\n",
       " '-',\n",
       " 'Q',\n",
       " '-',\n",
       " 'I',\n",
       " 'F',\n",
       " 'G',\n",
       " 'Q',\n",
       " 'A',\n",
       " 'Q',\n",
       " 'V',\n",
       " 'Y',\n",
       " 'D',\n",
       " 'S',\n",
       " 'Q',\n",
       " 'I',\n",
       " 'W',\n",
       " 'E',\n",
       " 'Y',\n",
       " '-',\n",
       " '-',\n",
       " 'W',\n",
       " 'W',\n",
       " '-',\n",
       " '-',\n",
       " 'K',\n",
       " 'G',\n",
       " 'F',\n",
       " 'M',\n",
       " 'S',\n",
       " '-',\n",
       " 'M',\n",
       " 'H',\n",
       " '-',\n",
       " 'S',\n",
       " '-',\n",
       " '-',\n",
       " '-',\n",
       " '-',\n",
       " '-',\n",
       " 'F',\n",
       " '-',\n",
       " 'S',\n",
       " 'E',\n",
       " 'W',\n",
       " '-',\n",
       " 'N',\n",
       " '-',\n",
       " 'K',\n",
       " 'G',\n",
       " 'L',\n",
       " 'G',\n",
       " 'D',\n",
       " 'S',\n",
       " 'R',\n",
       " 'M',\n",
       " '-',\n",
       " 'F',\n",
       " 'L',\n",
       " 'D',\n",
       " 'M',\n",
       " 'W',\n",
       " 'V',\n",
       " 'N',\n",
       " 'W',\n",
       " 'T',\n",
       " 'N',\n",
       " 'D',\n",
       " 'E',\n",
       " 'F',\n",
       " 'K',\n",
       " 'N',\n",
       " 'S',\n",
       " 'I',\n",
       " 'K',\n",
       " 'Q',\n",
       " 'D',\n",
       " 'A',\n",
       " 'P',\n",
       " '-',\n",
       " '-',\n",
       " '-',\n",
       " '-',\n",
       " '-',\n",
       " 'L',\n",
       " 'W',\n",
       " 'E',\n",
       " 'W',\n",
       " 'D',\n",
       " 'D',\n",
       " 'N',\n",
       " 'G',\n",
       " 'D',\n",
       " 'Q',\n",
       " 'V',\n",
       " 'R',\n",
       " '-',\n",
       " 'M',\n",
       " 'E',\n",
       " 'Y',\n",
       " 'M',\n",
       " 'K',\n",
       " 'L',\n",
       " 'R',\n",
       " 'P',\n",
       " '-',\n",
       " '-',\n",
       " '-',\n",
       " 'R',\n",
       " 'M',\n",
       " '-',\n",
       " '-',\n",
       " '-',\n",
       " 'K',\n",
       " 'D',\n",
       " 'V',\n",
       " 'V',\n",
       " 'I',\n",
       " 'D',\n",
       " 'V',\n",
       " 'L',\n",
       " 'A',\n",
       " 'Y',\n",
       " 'L',\n",
       " 'S',\n",
       " 'V',\n",
       " 'L',\n",
       " 'R',\n",
       " 'K',\n",
       " 'H',\n",
       " 'N',\n",
       " 'D',\n",
       " 'R',\n",
       " 'R',\n",
       " 'R',\n",
       " 'R',\n",
       " 'A',\n",
       " 'V',\n",
       " 'A',\n",
       " 'Y',\n",
       " 'P',\n",
       " 'I',\n",
       " 'P',\n",
       " 'L',\n",
       " 'A',\n",
       " 'R',\n",
       " 'G',\n",
       " 'T',\n",
       " 'S',\n",
       " 'R',\n",
       " 'W',\n",
       " 'Q',\n",
       " 'K',\n",
       " 'T',\n",
       " 'M',\n",
       " 'E',\n",
       " 'V',\n",
       " 'V',\n",
       " 'I',\n",
       " 'P',\n",
       " 'H',\n",
       " '-',\n",
       " 'W',\n",
       " 'V',\n",
       " 'T',\n",
       " 'W',\n",
       " 'S',\n",
       " 'Y',\n",
       " 'M',\n",
       " 'A',\n",
       " 'R',\n",
       " 'I',\n",
       " '-',\n",
       " '-',\n",
       " '-',\n",
       " '-',\n",
       " 'R',\n",
       " 'R',\n",
       " 'Q',\n",
       " 'T',\n",
       " 'E',\n",
       " 'K',\n",
       " 'K',\n",
       " 'V',\n",
       " '-',\n",
       " 'G',\n",
       " 'S',\n",
       " 'Q',\n",
       " 'N',\n",
       " 'I',\n",
       " 'I',\n",
       " 'F',\n",
       " 'K',\n",
       " 'Q',\n",
       " 'H',\n",
       " 'Y',\n",
       " 'K',\n",
       " 'H',\n",
       " 'G',\n",
       " 'Q',\n",
       " 'A',\n",
       " 'L',\n",
       " 'N',\n",
       " 'L',\n",
       " 'W',\n",
       " 'F',\n",
       " 'M',\n",
       " 'N',\n",
       " 'A',\n",
       " 'S',\n",
       " 'P',\n",
       " 'Q',\n",
       " '-',\n",
       " 'T',\n",
       " 'C',\n",
       " 'G',\n",
       " 'M',\n",
       " 'S',\n",
       " 'G',\n",
       " 'N',\n",
       " 'S',\n",
       " 'H',\n",
       " 'E',\n",
       " 'A',\n",
       " 'V',\n",
       " 'F',\n",
       " 'Y',\n",
       " 'P',\n",
       " 'T',\n",
       " 'I',\n",
       " 'M',\n",
       " 'L',\n",
       " 'F',\n",
       " 'H',\n",
       " 'C',\n",
       " 'E',\n",
       " 'I',\n",
       " 'N',\n",
       " 'D',\n",
       " 'N',\n",
       " 'G',\n",
       " 'C',\n",
       " 'A',\n",
       " 'K',\n",
       " 'Y',\n",
       " 'H',\n",
       " 'P',\n",
       " 'Y',\n",
       " 'M',\n",
       " 'H',\n",
       " 'C',\n",
       " 'I',\n",
       " 'G',\n",
       " 'Y',\n",
       " 'K',\n",
       " 'Q',\n",
       " 'F',\n",
       " 'E',\n",
       " 'N',\n",
       " 'V',\n",
       " 'V',\n",
       " 'T',\n",
       " 'V',\n",
       " 'H',\n",
       " 'K',\n",
       " 'H',\n",
       " 'H',\n",
       " 'E',\n",
       " 'A',\n",
       " 'F',\n",
       " 'N',\n",
       " 'E',\n",
       " 'H',\n",
       " 'M',\n",
       " 'R',\n",
       " 'Q',\n",
       " 'A',\n",
       " 'C',\n",
       " 'C',\n",
       " 'K',\n",
       " '-',\n",
       " 'T',\n",
       " 'N',\n",
       " 'R',\n",
       " 'Y',\n",
       " 'G',\n",
       " 'I',\n",
       " 'Y',\n",
       " 'T',\n",
       " 'Q',\n",
       " 'V',\n",
       " 'K',\n",
       " 'W',\n",
       " 'A',\n",
       " 'S',\n",
       " 'G',\n",
       " 'G',\n",
       " 'G',\n",
       " 'D',\n",
       " 'C',\n",
       " 'N',\n",
       " 'P',\n",
       " 'Q',\n",
       " 'V',\n",
       " 'Y',\n",
       " 'V',\n",
       " 'T',\n",
       " 'H',\n",
       " 'Q',\n",
       " 'E',\n",
       " 'C',\n",
       " 'I',\n",
       " 'S',\n",
       " 'Q',\n",
       " 'W',\n",
       " 'D',\n",
       " 'E',\n",
       " 'T',\n",
       " 'F',\n",
       " 'V',\n",
       " 'R',\n",
       " 'H',\n",
       " 'I',\n",
       " 'I',\n",
       " 'K',\n",
       " 'N',\n",
       " 'S',\n",
       " 'I',\n",
       " 'E',\n",
       " 'Q',\n",
       " 'K',\n",
       " 'Y',\n",
       " 'Q',\n",
       " 'I',\n",
       " 'W',\n",
       " 'Q',\n",
       " 'I',\n",
       " 'Q',\n",
       " 'G',\n",
       " 'R',\n",
       " 'I',\n",
       " 'Y',\n",
       " 'G',\n",
       " 'Q',\n",
       " 'T',\n",
       " 'V',\n",
       " 'W',\n",
       " 'E',\n",
       " 'V',\n",
       " 'G',\n",
       " 'D',\n",
       " 'K',\n",
       " 'L',\n",
       " 'A',\n",
       " 'L',\n",
       " 'T',\n",
       " 'P',\n",
       " 'I',\n",
       " 'D',\n",
       " 'Y',\n",
       " 'S',\n",
       " 'E',\n",
       " 'K',\n",
       " '-',\n",
       " 'Y',\n",
       " 'H',\n",
       " 'S',\n",
       " 'S',\n",
       " 'T',\n",
       " '-',\n",
       " '-',\n",
       " '-',\n",
       " 'F',\n",
       " 'T',\n",
       " 'G',\n",
       " 'D',\n",
       " 'M',\n",
       " 'V',\n",
       " 'H',\n",
       " 'S',\n",
       " 'M',\n",
       " 'Q',\n",
       " 'C',\n",
       " 'R',\n",
       " 'G',\n",
       " 'A',\n",
       " 'G',\n",
       " 'L',\n",
       " 'E',\n",
       " 'G',\n",
       " 'M',\n",
       " 'N',\n",
       " 'S',\n",
       " 'I',\n",
       " 'C',\n",
       " 'C',\n",
       " 'A',\n",
       " 'M',\n",
       " 'V',\n",
       " 'P',\n",
       " 'D',\n",
       " 'Y',\n",
       " 'D',\n",
       " 'V',\n",
       " 'S',\n",
       " 'M',\n",
       " 'S',\n",
       " 'V',\n",
       " 'M',\n",
       " 'T',\n",
       " 'P',\n",
       " 'L',\n",
       " 'M',\n",
       " 'I',\n",
       " 'A',\n",
       " 'S',\n",
       " 'M',\n",
       " 'N',\n",
       " 'M',\n",
       " 'H',\n",
       " 'Y',\n",
       " 'W',\n",
       " 'D',\n",
       " 'H',\n",
       " 'Q',\n",
       " 'Q',\n",
       " 'G',\n",
       " 'L',\n",
       " 'E',\n",
       " 'F',\n",
       " 'P',\n",
       " 'F',\n",
       " '-',\n",
       " '-',\n",
       " '-',\n",
       " 'W',\n",
       " 'K',\n",
       " 'H',\n",
       " 'E',\n",
       " 'K',\n",
       " 'D',\n",
       " 'Y',\n",
       " 'F',\n",
       " 'P',\n",
       " '-',\n",
       " 'N',\n",
       " 'K',\n",
       " 'S',\n",
       " 'P',\n",
       " 'S',\n",
       " 'E',\n",
       " 'F',\n",
       " 'C',\n",
       " 'T',\n",
       " 'L',\n",
       " 'N',\n",
       " 'R',\n",
       " 'P',\n",
       " 'F',\n",
       " 'R',\n",
       " 'S',\n",
       " 'G',\n",
       " 'T',\n",
       " 'H',\n",
       " 'F',\n",
       " 'P',\n",
       " 'L',\n",
       " 'A',\n",
       " 'I',\n",
       " 'S',\n",
       " 'W',\n",
       " 'V',\n",
       " 'N',\n",
       " 'K',\n",
       " 'M',\n",
       " 'Q',\n",
       " 'D',\n",
       " 'Y',\n",
       " 'C',\n",
       " 'W',\n",
       " 'C',\n",
       " 'M',\n",
       " 'M',\n",
       " 'I',\n",
       " 'P',\n",
       " 'K',\n",
       " 'F',\n",
       " 'P',\n",
       " 'W',\n",
       " 'S',\n",
       " 'G',\n",
       " 'H',\n",
       " 'P',\n",
       " 'W',\n",
       " 'M',\n",
       " 'K',\n",
       " 'R',\n",
       " '-',\n",
       " '-',\n",
       " 'P',\n",
       " '-',\n",
       " '-',\n",
       " '-',\n",
       " '-',\n",
       " '-',\n",
       " '-',\n",
       " 'M',\n",
       " 'S',\n",
       " '-',\n",
       " '-',\n",
       " '-',\n",
       " '-',\n",
       " '-',\n",
       " '-',\n",
       " '-',\n",
       " 'G',\n",
       " '-',\n",
       " '-',\n",
       " '-',\n",
       " '-',\n",
       " '-',\n",
       " '-',\n",
       " '-',\n",
       " '-',\n",
       " '-',\n",
       " 'G',\n",
       " 'Q',\n",
       " 'F',\n",
       " 'I',\n",
       " 'Q',\n",
       " 'H',\n",
       " 'I',\n",
       " '-',\n",
       " 'D',\n",
       " 'A',\n",
       " 'F',\n",
       " 'W',\n",
       " 'A',\n",
       " 'A',\n",
       " 'G',\n",
       " 'E',\n",
       " 'F',\n",
       " 'Y',\n",
       " 'A',\n",
       " 'Y',\n",
       " '-',\n",
       " 'V',\n",
       " 'N',\n",
       " '-',\n",
       " 'D',\n",
       " 'K',\n",
       " 'L',\n",
       " 'G',\n",
       " 'S',\n",
       " 'S',\n",
       " 'F',\n",
       " 'Q',\n",
       " 'M',\n",
       " 'A',\n",
       " 'R',\n",
       " 'K',\n",
       " 'T',\n",
       " 'C',\n",
       " 'F',\n",
       " 'M',\n",
       " 'E',\n",
       " '-',\n",
       " '-',\n",
       " 'V',\n",
       " 'P',\n",
       " 'Q',\n",
       " 'K',\n",
       " 'A',\n",
       " 'Y',\n",
       " '-',\n",
       " 'A',\n",
       " 'L',\n",
       " 'I',\n",
       " 'F',\n",
       " 'H',\n",
       " 'Y',\n",
       " 'P',\n",
       " 'Q',\n",
       " 'V',\n",
       " 'G',\n",
       " 'L',\n",
       " 'Q',\n",
       " 'V',\n",
       " 'R',\n",
       " 'T',\n",
       " 'M',\n",
       " 'S',\n",
       " 'I',\n",
       " 'H',\n",
       " 'H',\n",
       " 'Q',\n",
       " 'W',\n",
       " 'I',\n",
       " 'H',\n",
       " 'L',\n",
       " 'W',\n",
       " 'E',\n",
       " 'D',\n",
       " 'K',\n",
       " 'Q',\n",
       " 'I',\n",
       " 'R',\n",
       " 'C',\n",
       " '-',\n",
       " 'V',\n",
       " 'L',\n",
       " 'Y',\n",
       " '-',\n",
       " 'F',\n",
       " '-',\n",
       " '-',\n",
       " 'F',\n",
       " '-',\n",
       " 'A',\n",
       " 'C',\n",
       " 'S',\n",
       " 'R',\n",
       " 'C',\n",
       " 'N',\n",
       " '-',\n",
       " 'E',\n",
       " 'N',\n",
       " 'C',\n",
       " 'A',\n",
       " 'S',\n",
       " 'V',\n",
       " 'L',\n",
       " 'A',\n",
       " 'P',\n",
       " 'A',\n",
       " 'P',\n",
       " 'S',\n",
       " '-',\n",
       " '-',\n",
       " '-',\n",
       " 'I',\n",
       " 'Y',\n",
       " 'Y',\n",
       " 'E',\n",
       " 'C',\n",
       " 'A',\n",
       " 'L',\n",
       " 'Y',\n",
       " 'K',\n",
       " 'P',\n",
       " 'C',\n",
       " 'A',\n",
       " 'L',\n",
       " 'V',\n",
       " 'S',\n",
       " 'K',\n",
       " 'K',\n",
       " 'M',\n",
       " 'I',\n",
       " 'P',\n",
       " 'Y',\n",
       " 'N',\n",
       " 'S',\n",
       " 'Q',\n",
       " 'Y',\n",
       " 'N',\n",
       " 'I',\n",
       " 'D',\n",
       " 'Q',\n",
       " 'R',\n",
       " 'A',\n",
       " 'E',\n",
       " 'Q',\n",
       " 'P',\n",
       " 'I',\n",
       " 'K',\n",
       " 'G',\n",
       " 'G',\n",
       " 'P',\n",
       " 'Q',\n",
       " 'R',\n",
       " 'S',\n",
       " 'D',\n",
       " 'T',\n",
       " 'S',\n",
       " 'R',\n",
       " 'W',\n",
       " 'P',\n",
       " '-',\n",
       " 'Y',\n",
       " 'A',\n",
       " 'S',\n",
       " 'M',\n",
       " ...]"
      ]
     },
     "execution_count": 419,
     "metadata": {},
     "output_type": "execute_result"
    }
   ],
   "source": [
    "GenerateAlignment(pep1, pep2, alignment)"
   ]
  },
  {
   "cell_type": "code",
   "execution_count": 517,
   "metadata": {},
   "outputs": [
    {
     "name": "stdout",
     "output_type": "stream",
     "text": [
      "[[2, -2, 0, 0, -3, 1, -1, -1, -1, -2, -1, 0, 1, 0, -2, 1, 1, 0, -6, -3], [-2, 12, -5, -5, -4, -3, -3, -2, -5, -6, -5, -4, -3, -5, -4, 0, -2, -2, -8, 0], [0, -5, 4, 3, -6, 1, 1, -2, 0, -4, -3, 2, -1, 2, -1, 0, 0, -2, -7, -4], [0, -5, 3, 4, -5, 0, 1, -2, 0, -3, -2, 1, -1, 2, -1, 0, 0, -2, -7, -4], [-3, -4, -6, -5, 9, -5, -2, 1, -5, 2, 0, -3, -5, -5, -4, -3, -3, -1, 0, 7], [1, -3, 1, 0, -5, 5, -2, -3, -2, -4, -3, 0, 0, -1, -3, 1, 0, -1, -7, -5], [-1, -3, 1, 1, -2, -2, 6, -2, 0, -2, -2, 2, 0, 3, 2, -1, -1, -2, -3, 0], [-1, -2, -2, -2, 1, -3, -2, 5, -2, 2, 2, -2, -2, -2, -2, -1, 0, 4, -5, -1], [-1, -5, 0, 0, -5, -2, 0, -2, 5, -3, 0, 1, -1, 1, 3, 0, 0, -2, -3, -4], [-2, -6, -4, -3, 2, -4, -2, 2, -3, 6, 4, -3, -3, -2, -3, -3, -2, 2, -2, -1], [-1, -5, -3, -2, 0, -3, -2, 2, 0, 4, 6, -2, -2, -1, 0, -2, -1, 2, -4, -2], [0, -4, 2, 1, -3, 0, 2, -2, 1, -3, -2, 2, 0, 1, 0, 1, 0, -2, -4, -2], [1, -3, -1, -1, -5, 0, 0, -2, -1, -3, -2, 0, 6, 0, 0, 1, 0, -1, -6, -5], [0, -5, 2, 2, -5, -1, 3, -2, 1, -2, -1, 1, 0, 4, 1, -1, -1, -2, -5, -4], [-2, -4, -1, -1, -4, -3, 2, -2, 3, -3, 0, 0, 0, 1, 6, 0, -1, -2, 2, -4], [1, 0, 0, 0, -3, 1, -1, -1, 0, -3, -2, 1, 1, -1, 0, 2, 1, -1, -2, -3], [1, -2, 0, 0, -3, 0, -1, 0, 0, -2, -1, 0, 0, -1, -1, 1, 3, 0, -5, -3], [0, -2, -2, -2, -1, -1, -2, 4, -2, 2, 2, -2, -1, -2, -2, -1, 0, 4, -6, -2], [-6, -8, -7, -7, 0, -7, -3, -5, -3, -2, -4, -4, -6, -5, 2, -2, -5, -6, 17, 0], [-3, 0, -4, -4, 7, -5, 0, -1, -4, -1, -2, -2, -5, -4, -4, -3, -3, -2, 0, 10]]\n",
      "{'A': 0, 'C': 1, 'D': 2, 'E': 3, 'F': 4, 'G': 5, 'H': 6, 'I': 7, 'K': 8, 'L': 9, 'M': 10, 'N': 11, 'P': 12, 'Q': 13, 'R': 14, 'S': 15, 'T': 16, 'V': 17, 'W': 18, 'Y': 19}\n"
     ]
    }
   ],
   "source": [
    "with open(\"./Desktop/pam250.txt\", \"r\") as file:\n",
    "    PAM250=[]\n",
    "    dict_pam = {}\n",
    "    count = 0\n",
    "    for line in file:\n",
    "        count += 1\n",
    "        if count == 1:\n",
    "            row = line.rstrip(\"\\n\")[3:]\n",
    "            dict_array = row.split(\"  \")\n",
    "            for i in range(len(dict_array)):\n",
    "                dict_pam[dict_array[i]] = i\n",
    "        else: \n",
    "            row = line.rstrip(\"\\n\")\n",
    "            row = row[1:]\n",
    "            array = []\n",
    "            for num in row.split(\" \"):\n",
    "                if num != \"\":\n",
    "                    array.append(int(num))\n",
    "            PAM250.append(array)\n",
    "    print(PAM250)\n",
    "    print(dict_pam)"
   ]
  },
  {
   "cell_type": "code",
   "execution_count": 585,
   "metadata": {},
   "outputs": [],
   "source": [
    "def LocalAlignment(peptide_1, peptide_2, PAM250, dict_pam):\n",
    "    n = len(peptide_1)\n",
    "    m = len(peptide_2)\n",
    "    S=[]\n",
    "    Backtrack = []\n",
    "    for i in range(0, n+1):\n",
    "        a=[]\n",
    "        for j in range(0, m+1):\n",
    "            a.append(0)\n",
    "        S.append(a)\n",
    "        Backtrack.append(a[:])\n",
    "    #for i in range(1, n+1):\n",
    "     #   S[i][0] = S[i-1][0] -5\n",
    "    #for j in range(1, m+1):\n",
    "     #   S[0][j] = S[0][j-1] -5\n",
    "    for i in range(1, n+1):\n",
    "        for j in range(1, m+1):\n",
    "            aa_1 = dict_pam[peptide_1[i-1]]\n",
    "            aa_2 = dict_pam[peptide_2[j-1]]\n",
    "            score = PAM250[aa_1][aa_2]\n",
    "            S[i][j]= max(0, S[i-1][j]-5, S[i][j-1]-5, S[i-1][j-1]+score)\n",
    "            if S[i][j] == 0:\n",
    "                Backtrack[i][j] = 0\n",
    "            elif S[i][j] == S[i-1][j]-5:\n",
    "                Backtrack[i][j] = 1\n",
    "            elif S[i][j] == S[i][j-1]-5:\n",
    "                Backtrack[i][j] = 2\n",
    "            elif S[i][j]==S[i-1][j-1]+score:\n",
    "                Backtrack[i][j] = 3\n",
    "    max_score = 0\n",
    "    max_i = 0\n",
    "    max_j = 0\n",
    "    for i in range(0, n+1):\n",
    "        for j in range(0, m+1):\n",
    "            if S[i][j] > max_score:\n",
    "                max_score = S[i][j]\n",
    "                max_i = i\n",
    "                max_j = j\n",
    "    return (max_score, max_i, max_j, Backtrack)\n",
    "    "
   ]
  },
  {
   "cell_type": "code",
   "execution_count": 581,
   "metadata": {
    "collapsed": true
   },
   "outputs": [],
   "source": [
    "peptide_1=\"MEANLY\"\n",
    "peptide_2 =\"PENALTY\""
   ]
  },
  {
   "cell_type": "code",
   "execution_count": 586,
   "metadata": {},
   "outputs": [
    {
     "name": "stdout",
     "output_type": "stream",
     "text": [
      "15\n",
      "6\n",
      "7\n",
      "[[0, 0, 0, 0, 0, 0, 0, 0], [0, 0, 0, 0, 0, 3, 0, 0], [0, 0, 3, 3, 0, 0, 3, 0], [0, 3, 0, 3, 3, 0, 3, 3], [0, 0, 3, 3, 3, 0, 0, 0], [0, 0, 0, 0, 0, 3, 2, 0], [0, 0, 0, 0, 0, 1, 3, 3]]\n"
     ]
    }
   ],
   "source": [
    "max_score, max_i, max_j, backtrack=LocalAlignment(peptide_1, peptide_2, PAM250, dict_pam)\n",
    "print(max_score)\n",
    "print(max_i)\n",
    "print(max_j)\n",
    "print(backtrack)"
   ]
  },
  {
   "cell_type": "code",
   "execution_count": 589,
   "metadata": {},
   "outputs": [],
   "source": [
    "def OutputLocalNoRecursion(Backtrack, peptide_1, peptide_2, i, j):\n",
    "    string_1 = \"\"\n",
    "    string_2 = \"\"\n",
    "    while i != 0 and j !=0:\n",
    "        if Backtrack[i][j] == 0:\n",
    "            return (string_1, string_2)   \n",
    "        elif Backtrack[i][j] == 1:\n",
    "            string_1 = peptide_1[i-1]+ string_1\n",
    "            string_2 = \"-\" + string_2\n",
    "            i = i-1\n",
    "        elif Backtrack[i][j] == 2:\n",
    "            string_1 = \"-\"+ string_1\n",
    "            string_2 = peptide_2[j-1] + string_2\n",
    "            j = j-1\n",
    "        else:\n",
    "            string_1 = peptide_1[i-1]+ string_1\n",
    "            string_2 = peptide_2[j-1] + string_2\n",
    "            i = i-1\n",
    "            j = j-1  \n",
    "    print(string_1)\n",
    "    print(string_2)\n",
    "    return (string_1,string_2)"
   ]
  },
  {
   "cell_type": "code",
   "execution_count": 590,
   "metadata": {},
   "outputs": [
    {
     "data": {
      "text/plain": [
       "('EANL-Y', 'ENALTY')"
      ]
     },
     "execution_count": 590,
     "metadata": {},
     "output_type": "execute_result"
    }
   ],
   "source": [
    "OutputLocalNoRecursion(backtrack, peptide_1, peptide_2, len(peptide_1), len(peptide_2))"
   ]
  },
  {
   "cell_type": "code",
   "execution_count": 603,
   "metadata": {
    "collapsed": true
   },
   "outputs": [],
   "source": [
    "with open(\"./Desktop/test_41.txt\", \"r\") as file:\n",
    "    count = 0\n",
    "    for line in file:\n",
    "        count += 1\n",
    "        if count == 1:\n",
    "            pep1 = line.rstrip(\"\\n\")\n",
    "        if count == 2:\n",
    "            pep2 = line.rstrip(\"\\n\")"
   ]
  },
  {
   "cell_type": "code",
   "execution_count": 604,
   "metadata": {},
   "outputs": [
    {
     "data": {
      "text/plain": [
       "'ASAIGGYYDVAVYIFNDMHYRVFNTKLRDTSYSRSFHGECYVRMPKTCNQKVEVYGWVMEIFNIYVLSSGCRFNISFMMLNLHRDEYGEGGQSWNITFMRKPRLGRKLAFPAGNSHEWDPICSMPTECWQRIAMFEVVWANHWWDIFDKFEVMKSIWWTAQQNRIPYNYVGMTYAKEVILYEPNVKIAVIAYHCCMKQPQIFAGGRNDKWNTHLIRIFPNNPVIHSWHLYLAHRSVREFFAWNTKLSIKRNIYKDHNWETIIWEDYMMFDGINSLTHDGMAAFGQKKGQQTMGHSPKHSNWMEPCWEVHGHAYTDFAYAFAVMWESISTKCKYAKQARFYWARDPNMSTGEAEAAPLKYKNWVQDTNFPTMHSCNERQESTCCQCKVIMTFPIVNYFRTEVRDMQNIWILGQDWAYPFNAKTGNCQILKGMYYVYERILLGFELCHMVSAMSIAEQVIYYQKHDVTPFNLRLMDVLTEHTVTQHQFLFKVNKWFQHNMVQDFELNNYIAQAKRNMWCKRPVNHHRYGADMLMRCRWYWWCKMSKFKTHLDEHNEWKEQDKFKPFAFRNCMHICYSTYAHNKCTCFLMPLCYWGANPRSNLVNICLFINNIVRVQKLDLWMQFLTEKCERARYNTWGWWCMTGAINNTNYEQKHNTANCKRHTEIAPIYNWDLSEPTAYEQRHCDQVYTDLNPMGWFELAHEAVWANSKGQGCPWGVSSRTRPRTHYGFYGYHEPVNEFLFYMLDNCVASSYFHKPWKSWDSDYADRPMTDPDTNVNWVVFICRAQHMTTPFCACSGFRHCQGHTQRGMWCRPIMRCATLYVHGCKIRTRWKLNYTKTCISEWYFALCFFKYADECDWTNHWRFKAPLTELLGPHQRMMDSQKTDAANAGVMRSTLEQCTEVMVCFVAMQKPYVANACQPYRTYTTFNMPFWYDSPQFMDPTQCNPLFVKYDHANDHQPQFQKGVICQLNPKHSTGNQTEQASPSMCHLESYEATIDTARHRCQPHRGLVEYRSAFYGEVERDSWHLIAEHDYWPMNDTIDGALHNNCIFKMNNYAGLASWPSKTVAAPHTYFPHSRTVLMGWNRYPGKNCRIMVSFNAQDFHHPCHPNECKMGCMTQEVNCTPATQHATGEEMGQCILYWHPQGYSNYFCPCDMGNFNGAAATYDCVDQEYCSLWVTPRFQLSVQNPRDCSDLTDIMGLVELDHKHFKDFHKKNIWQELYRERPCNMLDRWLLLNAPRHNQLKQVPFTNVEAGKNPYFTRQCTSDSLQEEQKAFIQIGMCRMASSWENAGSALNGKLSVYHYNSKFKGSTFTNKAALHDGLVMCSNHRKHNDPRNWSYDYIDMKWKQNEKYHLRRKIWSCRCFTYQRWIACPRFRWCDVMGVDPKTTRFACYVYRIYQTPWGYPKGQVMGLLPCMSVTTNGCHEDQEIEKKASAVNTWIVCDLWNLSYCMPCICGNRNIILNAPRYEEGTLTPSIDWVFQSSRQREKTFCSSARMSCNRFQRGRPEKVWTITPEKLQFDDDACHCKCNKPIKSQHANPLDFNYYGYSDKDSGCRFPCVLHEQKMIECVKMSPYSAHYQGMTSCPSRVKPHFHEMEPHSNHNTLDRDDVQHLFDDLEVLVCWTTCTFREDQFDLNTIPCGAQLPAPHVFIHTIVPYPMRIFWPNGCYPPTCAALQYPEICLEHTKKYDQLMHYYMCILYGWIRFKDHKKGTEETGFIMNLMYDQCINERNIKVWIHIIHIGAVAAEIFANDFKKASLDIKHHINWYTGNQTAGFSGRAWMGYDIRWSPLMAYYVLTVEDQNCGHHMICWMQACLCQALEWSNPFDYDCQNFKLSRKDIYHKIMRVMRMMEYELDSSGEAQPSTQWYHGPYSCMNDYAQIVEGGYNLWHHEVTKEQPVEFEIWTFQMFYHAQSPWANTSMHCRESGDSCCEKGIQWVCALLKEWLLVNYNDYVKCGWIWVPLLAYQGPRNYLRRVYMKSFGPGAPGLPFPLWDPHYANRLRYLIVEVLSDKDRVIYTQPEVEKFTFSAGMQLSVRFMDMKWSTCVSICYGYMTRAHIPDSSCRGQWNNKEGTKNPIIVAKCKNVPWLQFCITNTIFFTRHANDWPPNQWLCHNADCDGNLTTFMDLTMYPHMLWRQQMAFCTYTHMKPKFMKKVMQYVIHYIDDNPTDIAVHVTCAAFFMPYVCFWVEASVFGKQVHSDGKYDVIHNVYSMQECDMKYEVDIMKHMLPYYFDLHTDVAFHPWCMFKGPNESIRRSQCNVGSLKRMANDTEPPMHKMELGVHNPNPGIHQRKIGWYTDDIKKHHRIHPIYMGHFMWSQWFLMKHANDYYRVYVCCCVNPTKDMLWCKVATTMTLAWVHDTMGCLHNHEKLMALDYPIITHIGCITSILSGHRHYQYIHHCFVQSAGSFSYSIKLGKKRDCAIQTNIGGMELEPQTMYFVALHLGFECCRARYLIMKNWSHQRFWKQEVMDWFDCGQKFWTFASDKDPCMGQSKWCDVREGWLGSRAQGQWNRSTLAQCYRVHFHNNKKCAYAEEIEHRELCYYFPTVYCEQGAWPPNIIRTEDEQMPDNLFWMQMKKCQQTHWVIARAMVTSQAYFHDASCNCIMANECGIHCEPNEVVQKIPKLSGDCVPAKPIKGERGFFFMYVPDLKEFTRYFPDKGHNQVENGWKAPTNRLTHNWCGGWWHSVDHIQNIGANNRFIPIE'"
      ]
     },
     "execution_count": 604,
     "metadata": {},
     "output_type": "execute_result"
    }
   ],
   "source": [
    "pep1"
   ]
  },
  {
   "cell_type": "code",
   "execution_count": 605,
   "metadata": {},
   "outputs": [
    {
     "data": {
      "text/plain": [
       "'WDCFTLPPQGHVGTTHALCGERVCFRKQSEDTGHFCMQDGGVPIICPVQVYFQIYCFDTWTLVDDNDSQEWFSKFEVFNDWWKISYGCSRWYYRLCVAPFVRQYRNDRVTSMFPYCAETANKEIKNSVWWVSNMPCNTADELPFMCIQQDYGLHGTPQSKMWASFWCRMAYMLWKMREHSKPSRPDPEIYHWTCSMVSDPLRRIWDVMTWVVFRMEMPVPILQPGMWCRCTCSHSGELPHMCCQCKIKKKIQLHVQQMNAQIALVDLSMAGKNRSCHYRWTSTQGIIPTCQYALVQRFWWDHYWIVDCNDGWRSARWFREWWPVDTIYHENLMKVDREHYQRFPICAYMPMWCFTHRDKNAVNGWSIATAPSGHVWVHFVGICKFNFFEAIFAKYCPLGWTCFQDFQKWWKHRSCWNNTAQNCWVFGENSYKQQQAFSCKSMVVPMMGGSEWRFFRPQRPRKAAFFWLGSVHKEAWDQHFSHSHMRTYMKTKEWEGPRVRGFVVEGNFPSWITKWISVQSEHGLVISFNSFMRALGVTSYYPHKPCSILTSPDPKDMNMRLWIKVAAECEFGVVNLYWYARRSHKIDRDTKANSDIEHKGPFNSSIHTVRCPKWVLHVCFRVAMNAMMINRSIPRAHTMLKLTQMVKRNTQPCDNWVWSMEVTPNVIGYLSDCARQMIITNMTICIDAYLWNIKHNVRHCCWTIYVIYMRHNSAFYIKSLGFMTEQTNDHDWGDRQCCPVRPYNSYTWAAAGLRVRQNCCDWVITVSTHDLARLIFKKGCQGGLEHIEIRSVGWPTIETRLVNDQAYCLNMISEPWHHNQDCFTQKCSAPKISDGQFYMPVFSHEPHQRPMDSQKTDASYTKVDYFYNAGVERSALEQCTVYYHNDLEFWVAMQKPNACQPYRTYDSPQFMDPTQCNPLFIFLAMSGLHQHSDHANDHQPQFPFGMCKGVILQLNPKHQTGNPTEQASPSMCNLLSYEHRCFPHMDAQKCQIHRGLREAFYGEVERDSWHLIAEHDYWPMNDTIDGALRTNNCICGHCASWPHTYFPHSRTIEMPWNRYPGRIMVAQDFHHPCHNYWKGCNYCKMGLMTATSILTCVRCATGLEMGQCILYVHPQMYEQNSYSNPFCPCDMGTTAATYVDQETHPNTCLVKCILWVTQRFQLSLTDIMAMYWVEHDHKHFKDVHKPNIWQELYRERPCNMPDNWWRPDWLYFLNAPRHNKKWVPITNVFFGSPMEFIAGKNPYFKRQCTSDSLQEEAFICIGLVWTAMRICRMASSQENLHVFINYDDNYFKFNGKLSNLSCECYHCYHYNIHKMGIVYQPANNKFSTFTNKAALPDGLLMVGRSNMCSNHWVKPPHGCWNTNWSYDYFDRKWKQNEMYHLRRMEHFEGHQVTYQDCICCAIPRFQWKTTDFACYVYRITPWALLEDRHIDPICVDWHYVPECYECDASASNKMRTRSNTWDDSLKLVGEVRKYSWGDLWNLSYCMFMAKGIILNAPRYEEPWVFQSSRAEKTFCSSARILNFCIRASCCHSVHANRFQRGRPEKYWTITPMKLYQDLGTRSCKPNPLDFDWWMNTTTYYDKDSGCRFPCVLVMVGIAPEEVWGLHLMIECVKMSTSCPSRTKPHFHEMEPYWQAQKNHNTKELISIQADRDDVQHLFTYWALLVFMEQFDWQWTTGHHIIYYNCAFDLNTIPWCGAQYPAPHVFIHTIVPYPMRIFWPNGCYPPTCAALQYPEKCREHTKKELPELWHVHYFMCILCEYGWIRFQNWQIHDHKIFKKYGPEETLFIMNLMYDQCINERNIKWWIIYIHIGAVAASLWGKQTAGECSNHDDAGKAECRRWSCLMTVEDQNCACLCQALEWSKDFDYDENDFSSEPNQCANWHQVMWQGWMHMNDNSWNTKVCGPMYKDVGEWCYWNDFDEKRTEYYKACKMWIIRTDMAPYARVEPMKPVMPFGFSQKHFELKAAMRHVGPDCGRIHTITIPAECMSFITPCQPPCGKPLMWYLTEEQAGHFKTKTGVRNFFDTQRSNVAFMAEHQMEDFNNCMATDFHQADDRHRDDCQKAQWAPRAASNMKNDMWDLNINSFSIQSDCQLSEMTCSRSVRENRKHDKEIHKYCDRGNMKWKHAVTFHFVPDVRWAKGCSKSMYILIPYDQATNLFHQAKMTMFITYWDCRARLFCYRSLCYKEQDGQGKFPEVIEVLQGRESDCVSCVHAHDPGKPFPEAETCRTQGTEASWDGATMLTSQSKLPFKLQIAPHPQMDFFVCLRIVGWTAHIKMEGHETRREFRQICHQPCMCECLNLYFMYAGPVTKTALCYWNMPYIRYPCAVIERCHMNRCARWGCAFGWMWVHIAHRHPTQRWPRQIYENNKQTRKTHCYMCLEQENDLDVVRWSRPFYAYKDPKLRMTHAIENPIPTTPAGRFGWPWLWFSYACFSCQQTRWGLYFYHQIMESMYVCERLSEPPNLITIQYRTAPSRPIYPNTCLNVHCKFQLMIYFPRGDPIPFTVYALVVKCREFIPGYAQNDIGRSLRDDDYEHMKMVSQCMQLSHHIDAERYYPRRWNCWWSMSCHYDDYLFERFYGPYTAYSRERKGIMCDAGLGGLMATKVSWCAMRVDYMKMMTMGVMAFHNYKFRMVNCCEKEPGFMLWLECGWQCGIKPPVQKMYNMLLDIDQPFNNIIMGFSADTMHTKAADPNILRYKPMWSSVFRHNE'"
      ]
     },
     "execution_count": 605,
     "metadata": {},
     "output_type": "execute_result"
    }
   ],
   "source": [
    "pep2"
   ]
  },
  {
   "cell_type": "code",
   "execution_count": 609,
   "metadata": {},
   "outputs": [],
   "source": [
    "num,max_i, max_j, backtrack=LocalAlignment(pep1, pep2, PAM250, dict_pam)\n"
   ]
  },
  {
   "cell_type": "code",
   "execution_count": 610,
   "metadata": {},
   "outputs": [
    {
     "name": "stdout",
     "output_type": "stream",
     "text": [
      "2733\n"
     ]
    }
   ],
   "source": [
    "print(num)"
   ]
  },
  {
   "cell_type": "code",
   "execution_count": 612,
   "metadata": {},
   "outputs": [],
   "source": [
    "result_1, result_2 = OutputLocalNoRecursion(backtrack, pep1, pep2, max_i, max_j)"
   ]
  },
  {
   "cell_type": "code",
   "execution_count": 613,
   "metadata": {},
   "outputs": [
    {
     "name": "stdout",
     "output_type": "stream",
     "text": [
      "HEWDPICSMPTECWQRIAMFEVVWANHWWDI-FD--K-F-EV-MKSIWWTAQQNRI-P-YNYVGMTYAKEV---ILYEPNV--KIAV-IAYHCCMKQPQIFAGGRNDK-WNTHLIRIFPNNPVIHSWHLYLAH-RSVR---EFFAWNTKLSIKRNIYKDHNWETIIWEDYMMFD-GINSLTHDGM-AAFG-QKKGQ-QTMG-HSPKHSNWME-PCWEVHGH-AYTDFAYA--F-AV--MW---ESISTKCKYAKQARFYWARDPNMSTGEA-EAAPLKYKNW-VQDTNFPT-MHSCNERQE-STCCQCKVIMTFPIVNYFRTEVRDMQNIWILGQDWAYPFNAKTGNCQI-LKGMY-Y-VYERILLGFELCHMVSAMSIAE-QVIYYQKHDVTPFNLRLMD--VLTEHTVTQHQFLFKVNKWFQHNMVQDFELNNYIAQ-AKRN-M-W--C-KRPVNHHRYG-ADM--LMRCRWYWWC-KMSKF--KTHLDE-HNEWKE-Q-DK-FK-PF-AFRNCMHI-CYSTYAHNKCTCFL------MPLCYW-GANPRSNL-V-NICLFI--NN-IVRVQKL--DL-WM-QFLTEKCERARYNTWGWW-C----MTGAINNTNYEQKHN--T-AN-CKRHTEIAPIYNWDLS-EPT--AYEQRHCD-Q-VYTDLNPMGWFELAHEAVWA-NSKGQGCPWGVSSRTRPRTHYGFY----GY-HEPVNEFLFYMLDNCVASSYFHKPWKSWDSDYADRPMTDPDTNVNWVVFICRAQHMTT-PFC-AC-SGFRHCQGHTQRGMWCRPIMRCATLYV-HG-C-K-IRTRWKLNYTKTCISEWYFALCFFKYADECDWTNHWRFKAPLTELLGPHQRMMDSQKTDAA----N----AGVMRSTLEQCT---EVMVCF-VAMQKPYVANACQPYRTYTTFNMPFWYDSPQFMDPTQCNPLFV--------KY-DHANDHQPQFQ----KGVICQLNPKHSTGNQTEQASPSMCHLESYEAT-I-DTARHRCQPHRGLVEYRSAFYGEVERDSWHLIAEHDYWPMNDTIDGALH-NNCIFKMNNYAGLASWPSKTVAAPHTYFPHSRTVLMGWNRYPGKNCRIMVSFNAQDFHHPCHP--N--E-CKMGCMTQE-V-NCTPATQHATGEEMGQCILYWHPQGYS-N-Y---FCPCDMGN----F-NGAAATYDCVDQEYCSLWVTPRFQLSVQNPRDCSDLTDIMGL--VELDHKHFKDFHKKNIWQELYRERPCNMLD---R--WL-LLNAPRHNQ--L--KQVPFTN-VE--AGKNPYFTRQCTSDSLQEEQKAFIQIG-----M--CRMASSWEN--A----GSA-L--NGKLS-V----YH-YN-S--K----FK-G----STFTNKAALHDGL--V----MCSNHR-KHNDP-RN--WSYDYIDMKWKQNEKYHLRRKI-WSCRCFTYQRWIAC--PRFRWCDVMGVDPKTTRFACYVYRIYQTPWGYPKGQVMGLLPCMS-VTTNGCHE-DQEIEKKASA-VNTW------I--V--C---DLWNLSYCMPCICGNRNIILNAPRYEEGTLTPSIDWVFQSSRQREKTFCSSAR-M------SC-N-----RFQRGRPEKVWTITPEKLQFDDDACH-CKCNKPIKSQHANPLDFNYYGYSDKDSGCRFPCVLHEQKMI-ECV-KMSPYSAHYQGM-TSCPSRVKPHFHEMEP--HS--NHNT--L-----DRDDVQHLFD--DLEVLV--C-W--TT---CTFREDQFDLNTIP-CGAQLPAPHVFIHTIVPYPMRIFWPNGCYPPTCAALQYPEICLEHTKK-YDQL--MHYYMCIL--YGWIRFK-----DHK--K--GTEETGFIMNLMYDQCINERNIKVWIHIIHIGAVAAEIFANDFKKASLDIKHHINWYTGNQTAGFSGRAWMGYDIRWSPLMAYYVLTVEDQNCGHHMICWMQACLCQALEWSNPFDYDCQNFKLSRKD-I-YHKIMR-V-MRMMEYELDSS--GEA-QPSTQW-YHGPYSCMNDYAQIVEGGYNLW--HHEVTKEQPVEFEIWTFQMF-YHAQSPWA-NTSMHCRESGDSCCEKGIQWVCALLKEWL-LVNYNDYVKCG--WIWVPLLAYQGPRNYLRRVYMKSF-GPGAPGLPFPLWDPHYANRLRYLIVEVLSDKDRVIYTQPEVEKFTFSAGMQLSVRFMDMKWSTCVSICYGYMTRAHIPDSSCRGQWNNKEGTKNPIIVAK-C-K-NVPWLQFCITNTIF-FTRHANDWP-P-NQWLCHNADCDGNLTTFMD--LTMYPHMLW--RQQMAFCTYTHM--KPKFMK-KVMQYVIHYIDDNPTDIAVHVTCAAFFMPYVCFWVEASVFGKQVHSDGKYDVIHNVYSMQECDMKYEVDIMKH-MLPYYFDLHTDVAFHPWCMFKGPNESIRR-SQ-CNVGSL-KRMAND-T-EPPMHKMELGVHNPNPGIHQRKIGWYT-DDIKKHHRIH-PIYMG-HFMWSQWF-LM-KHANDYY-R-VYVCCCVNPTK-D-MLWC-KVATTMTLA-WVHDTMGCLHNHEKLMALDYPIITHIGCI-TSILSG-HRH-YQYIHHCFV-QSA--GSFSYSIKLGKKRDCA-I-QT-NIGGMEL-E-P-QTMYFVALHLGFECCRARYLIMKNWSHQ-RFWKQEVMDWFDCGQKFWT-FA-SDKDPCMGQSKWCDVREGWLGSRAQGQWNRSTLAQCYRVHFHN--NKKCAYAEEIEHRELCYYFP-TVYCEQGAWPPNIIRTE-DEQMPDNLFWMQMKKCQQTHWVIARAMVTSQAY-FHDASCNC-----IMA-NECGIHCEPNEVVQKI-PKLSGDCVPAKPIKGE-RGF\n"
     ]
    }
   ],
   "source": [
    "print(result_1)"
   ]
  },
  {
   "cell_type": "code",
   "execution_count": 614,
   "metadata": {},
   "outputs": [
    {
     "name": "stdout",
     "output_type": "stream",
     "text": [
      "DTWTLVDDNDSQEW--FSKFEV-F-NDWWKISYGCSRWYYRLCVAPFVRQYRNDRVTSMFPYCAETANKEIKNSVWWVSNMPCNTADELPFMC-IQQDYGLHGTPQSKMWASFWCRM-AY--ML--WKM-REHSKPSRPDPEIYHWTCSM-VSDPL-R-RIWDVMTWVVFRM-EMPVPIL-QPGMWCRCTCSHSGELPHMCCQC-KIKKKIQLHVQQMNAQIALVDLSMAGKNRSCHYRWTSTQGIIPTCQYALVQRFWWDHYWIVDCNDGWRSARW-FREWWPVDTIYHENLMKV-DREHYQRFPIC-AYM--PM-WCF-TH-RDKNAV-N-G--WSIA-TAPSGHVWVHFVGICKFNFFEAIFAKY--CPLGWT-CFQDFQK-WW-KHR-SCWNNTAQNCWVFGENSYKQQQ-AFSC-KSMVVPMMGGSEWRFFRPQRPRKAAFFWLGSVHKEAWDQHFSHSHMRTYMKTK-EWEGPRVRGFVVEGNFPSWITKWISVQSEHGLVISFNSFMRALGVTSY--YPHKPCSILTSPDPKDMNMRLWIKVAAECEFGVVNLYWYARRSHKIDRDTKANSDIEHKGPF-NSSIHTVRCPKWVLHVCFRVAMNAMMINRSIPRAHTMLKLTQMVKRNTQPCDNWVWSMEVTPNVIGY-LSDCARQMIITNMT-IC-ID-AY--LWNIKHNVRHCCWTIYVIYM-RHNSAFYIKSLGFMTEQTNDHDWGDRQCCPVRPY-N-SY-TWAAA-GLR-VRQ-NC-CDWVITVS-THDLARLIFKKGCQGGLEHIEIRSV-G-W--PTIE-TRLVNDQAYCLNMISEPWH-H-NQDCFTQ---K-C--SAPKISD-G-QF-YMPVFSH--EPHQRPMDSQKTDASYTKVDYFYNAGVERSALEQCTVYYHNDLEFWVAMQKP---NACQPYRTY---------DSPQFMDPTQCNPLFIFLAMSGLHQHSDHANDHQPQFPFGMCKGVILQLNPKHQTGNPTEQASPSMCNLLSYEHRCFPHMDAQKCQIHRGL---REAFYGEVERDSWHLIAEHDYWPMNDTIDGALRTNNCIC--GHCA---SWP-------HTYFPHSRTIEMPWNRYPG---RIMV---AQDFHHPCHNYWKGCNYCKMGLMTATSILTCVRC---ATGLEMGQCILYVHPQMYEQNSYSNPFCPCDMGTTAATYVDQETHPNTCLVK--CILWVTQRFQLS---------LTDIMAMYWVEHDHKHFKDVHKPNIWQELYRERPCNMPDNWWRPDWLYFLNAPRHNKKWVPITNVFFGSPMEFIAGKNPYFKRQCTSDSLQEE--AFICIGLVWTAMRICRMASSQENLHVFINYDDNYFKFNGKLSNLSCECYHCYHYNIHKMGIVYQPANNKFSTFTNKAALPDGLLMVGRSNMCSNHWVKPPHGCWNTNWSYDYFDRKWKQNEMYHLRRMEHFEGHQVTYQDCICCAIPRFQW--------KTTDFACYVYRI--TPWALLEDRHIDPI-CVDWHYVPECYECDASASNKMRTRSNTWDDSLKLVGEVRKYSWGDLWNLSYCM-FM-A-KGIILNAPRYEE----P---WVFQSSRA-EKTFCSSARILNFCIRASCCHSVHANRFQRGRPEKYWTITPMKL-YQDLGTRSCK-PNPLDFDW-W-MNTTTY-Y-DKDSGCRFPCVLVMVGIAPEEVWGL-HLMIECVKMSTSCPSRTKPHFHEMEPYWQAQKNHNTKELISIQADRDDVQHLFTYWALLVFMEQFDWQWTTGHHIIYYNCAFDLNTIPWCGAQYPAPHVFIHTIVPYPMRIFWPNGCYPPTCAALQYPEKCREHTKKELPELWHVHYFMCILCEYGWIRFQNWQIHDHKIFKKYGPEETLFIMNLMYDQCINERNIKWWIIYIHIGAVAASLWGKQ-T-AG-ECSNHDD--AGK--AE-C-R-------RWSCLM-----TVEDQNC---------ACLCQALEWSKDFDYDENDFSSEPNQCANWHQVMWQGWMHMNDNSWNTKVCGPMYKDVGEWCYWNDFD-EKR-TEYYKA-CKMWIIRTDMAPYARVE-PMKPVMPFGF-SQKHFELKAAM--RHVGPDC-GR-IHTI-TIPAECMSFITPCQ-PPCGKPLMWY-LTEEQAGH-FKTKTGVRNFFDTQRSNVAF-MAEHQMEDFNNCMATDFHQADDR--HRD-DCQKAQWAPRAASNMK-NDM-WDLNIN-SFSIQSDCQLSEMTC-S-RSVRENRKHDKEIHKYCDRGNMKWKH-AVT---FHFVPDVR-WAKGCSKSMYILIPYDQATNLFHQAKMTMFIT-YWDCRARL-FC-YRSLCYKEQDGQGKFPE-VIEVLQGRESDC-V--SCVHAHDPGKPF-PEAETCRTQG-TEASWDGA-TMLTSQS-KLPFKLQIAPHPQMDFFVCLRI-VGWTAHIKMEG-HETRREFRQICHQPCMCECLNLYFMYAGPVTKTALCYWNM-P--Y---I-RYPCAVIERCHMNRCARW-GCAFGW-MWVHIAHRHPTQRWPRQIYENN-KQTRKTHCYM-CLEQENDLDVVRWSR-PF-YAYKDPKLR-MTHAIENPIPTTPAGRF-GWPWLWFSYA--CFSCQQTRWGLYFYHQIMESMYVCERLSEPPNLITIQYRTAPSRPIY-PNTCLNVHC-KFQLMIYFPRGDPIPF-TVYALV-VKC-REFIPGYAQNDIGRSLRDDDYEHMK---MVSQCMQLSHHIDAERYYPRRWNCWWSMSCHYDDYLFER---FYGPYTAYSRE--RKGIMCDAGLGGLMATKVSWCAMRV-DYMK-MMTMGVMAFHNYKFRMVNC-CEKEPGFMLWLECGWQCGIKPPVQKMYNMLL-D-I-DQPFNNIIMGF\n"
     ]
    }
   ],
   "source": [
    "print(result_2)"
   ]
  },
  {
   "cell_type": "code",
   "execution_count": 616,
   "metadata": {},
   "outputs": [
    {
     "name": "stdout",
     "output_type": "stream",
     "text": [
      "2733\n"
     ]
    }
   ],
   "source": [
    "file_1 = open(\"./Desktop/result_42.txt\", \"w\")\n",
    "num, max_i,max_j, backtrack = LocalAlignment(pep1, pep2, PAM250, dict_pam)\n",
    "print(num)\n",
    "file_1.write(str(num))\n",
    "result_1, result2 = OutputLocalNoRecursion(backtrack, pep1, pep2, max_i, max_j)\n",
    "file_1.write(result_1)\n",
    "file_1.write(result_2)\n",
    "file_1.close()"
   ]
  },
  {
   "cell_type": "code",
   "execution_count": null,
   "metadata": {
    "collapsed": true
   },
   "outputs": [],
   "source": [
    "count = 0\n",
    "    while i != 0 and j !=0:\n",
    "        if backtrack[i][j] == 1:\n",
    "            count += 1\n",
    "            i = i-1\n",
    "        elif backtrack[i][j] == 2:\n",
    "            count += 1\n",
    "            j = j-1\n",
    "        else:\n",
    "            i = i-1\n",
    "            j = j-1\n",
    "    while i!= 0:\n",
    "        count += 1\n",
    "        i = i-1\n",
    "    while j!= 0:\n",
    "        count +=1\n",
    "        j = j-1   \n",
    "   \n",
    "    return count"
   ]
  },
  {
   "cell_type": "code",
   "execution_count": 703,
   "metadata": {
    "collapsed": true
   },
   "outputs": [],
   "source": [
    "def EditDistance(peptide_1, peptide_2):\n",
    "    n = len(peptide_1)\n",
    "    m = len(peptide_2)\n",
    "    S=[]\n",
    "    for i in range(0, n+1):\n",
    "        a=[]\n",
    "        for j in range(0, m+1):\n",
    "            a.append(0)\n",
    "        S.append(a)\n",
    "    for i in range(1, n+1):\n",
    "        S[i][0] = S[i-1][0] -1\n",
    "    for j in range(1, m+1):\n",
    "        S[0][j] = S[0][j-1] -1\n",
    "    for i in range(1, n+1):\n",
    "        for j in range(1, m+1):\n",
    "            if peptide_1[i-1] == peptide_2[j-1]:\n",
    "                S[i][j]= max(S[i-1][j]-1, S[i][j-1]-1, S[i-1][j-1])\n",
    "            else:\n",
    "                 S[i][j]= max(S[i-1][j]-1, S[i][j-1]-1, S[i-1][j-1]-1)  \n",
    "    return -S[-1][-1]"
   ]
  },
  {
   "cell_type": "code",
   "execution_count": 694,
   "metadata": {
    "collapsed": true
   },
   "outputs": [],
   "source": [
    "p1=\"PLEASANTLY\"\n",
    "p2=\"MEANLY\""
   ]
  },
  {
   "cell_type": "code",
   "execution_count": 704,
   "metadata": {},
   "outputs": [
    {
     "data": {
      "text/plain": [
       "5"
      ]
     },
     "execution_count": 704,
     "metadata": {},
     "output_type": "execute_result"
    }
   ],
   "source": [
    "EditDistance(p1, p2)"
   ]
  },
  {
   "cell_type": "code",
   "execution_count": 707,
   "metadata": {
    "collapsed": true
   },
   "outputs": [],
   "source": [
    "with open(\"./Desktop/test_42.txt\", \"r\") as file:\n",
    "    count = 0\n",
    "    for line in file:\n",
    "        count += 1\n",
    "        if count == 1:\n",
    "            pep1 = line.rstrip(\"\\n\")\n",
    "        if count == 2:\n",
    "            pep2 = line.rstrip(\"\\n\")"
   ]
  },
  {
   "cell_type": "code",
   "execution_count": 708,
   "metadata": {},
   "outputs": [
    {
     "data": {
      "text/plain": [
       "1954"
      ]
     },
     "execution_count": 708,
     "metadata": {},
     "output_type": "execute_result"
    }
   ],
   "source": [
    "EditDistance(pep1, pep2)"
   ]
  },
  {
   "cell_type": "code",
   "execution_count": 736,
   "metadata": {},
   "outputs": [],
   "source": [
    "def FittingAlignment(string_1, string_2):\n",
    "    n = len(string_1)\n",
    "    m = len(string_2)\n",
    "    S=[]\n",
    "    Backtrack = []\n",
    "    for i in range(0, n+1):\n",
    "        a=[]\n",
    "        for j in range(0, m+1):\n",
    "            a.append(0)\n",
    "        S.append(a)\n",
    "        Backtrack.append(a[:])\n",
    "    for j in range(1, m+1):\n",
    "        S[0][j] = S[0][j-1] -1\n",
    "    for i in range(1, n+1):\n",
    "        for j in range(1, m+1):\n",
    "            if string_1[i-1] == string_2[j-1]:\n",
    "                S[i][j]= max(S[i-1][j]-1, S[i][j-1]-1, S[i-1][j-1]+1)\n",
    "            else:\n",
    "                S[i][j]= max(S[i-1][j]-1, S[i][j-1]-1, S[i-1][j-1]-1)\n",
    "            if S[i][j] == S[i-1][j]-1:\n",
    "                Backtrack[i][j] = 1\n",
    "            elif S[i][j] == S[i][j-1]-1:\n",
    "                Backtrack[i][j] = 2\n",
    "            elif S[i][j]==S[i-1][j-1]+1:\n",
    "                Backtrack[i][j] = 3\n",
    "            elif S[i][j] == S[i-1][j-1]-1:\n",
    "                Backtrack[i][j] = 4\n",
    "    max_score = 0\n",
    "    max_i = 0\n",
    "    for i in range(0, n+1):\n",
    "        if S[i][-1] > max_score:\n",
    "            max_score = S[i][-1]\n",
    "            max_i = i\n",
    "    return (max_score, max_i, Backtrack)  "
   ]
  },
  {
   "cell_type": "code",
   "execution_count": 737,
   "metadata": {
    "collapsed": true
   },
   "outputs": [],
   "source": [
    "s1=\"GTAGGCTTAAGGTTA\"\n",
    "s2=\"TAGATA\""
   ]
  },
  {
   "cell_type": "code",
   "execution_count": 739,
   "metadata": {},
   "outputs": [],
   "source": [
    "max_score, max_i, backtrack = FittingAlignment(s1, s2)"
   ]
  },
  {
   "cell_type": "code",
   "execution_count": 740,
   "metadata": {},
   "outputs": [
    {
     "name": "stdout",
     "output_type": "stream",
     "text": [
      "[[0, 0, 0, 0, 0, 0, 0], [0, 2, 2, 3, 2, 2, 2], [0, 3, 2, 2, 2, 3, 2], [0, 1, 3, 2, 2, 2, 3], [0, 1, 1, 3, 2, 2, 2], [0, 2, 1, 1, 4, 2, 2], [0, 2, 1, 1, 1, 4, 2], [0, 3, 2, 1, 1, 3, 2], [0, 3, 2, 1, 1, 1, 4], [0, 1, 3, 2, 2, 1, 3], [0, 1, 1, 4, 3, 2, 1], [0, 2, 1, 3, 1, 4, 1], [0, 2, 1, 1, 4, 1, 4], [0, 3, 2, 1, 1, 3, 2], [0, 3, 2, 1, 1, 1, 4], [0, 1, 3, 2, 2, 1, 3]]\n"
     ]
    }
   ],
   "source": [
    "print(backtrack)"
   ]
  },
  {
   "cell_type": "code",
   "execution_count": 722,
   "metadata": {
    "collapsed": true
   },
   "outputs": [],
   "source": [
    "def OutputFitting(Backtrack, string_1, string_2, i, j):\n",
    "    result_1 = \"\"\n",
    "    result_2 = \"\"\n",
    "    while j!= 0:   \n",
    "        if Backtrack[i][j] == 1:\n",
    "            result_1 =string_1[i-1]+ result_1\n",
    "            result_2 = \"-\" + result_2\n",
    "            i = i-1\n",
    "        elif Backtrack[i][j] == 2:\n",
    "            result_1 = \"-\"+ result_1\n",
    "            result_2 = string_2[j-1] + result_2\n",
    "            j = j-1\n",
    "        else:\n",
    "            result_1 = string_1[i-1]+ result_1\n",
    "            result_2 = string_2[j-1] + result_2\n",
    "            i = i-1\n",
    "            j = j-1  \n",
    "    print(result_1)\n",
    "    print(result_2)\n",
    "    return (result_1,result_2)"
   ]
  },
  {
   "cell_type": "code",
   "execution_count": 741,
   "metadata": {
    "scrolled": true
   },
   "outputs": [
    {
     "name": "stdout",
     "output_type": "stream",
     "text": [
      "TAGGCTTA\n",
      "TAGA-T-A\n"
     ]
    },
    {
     "data": {
      "text/plain": [
       "('TAGGCTTA', 'TAGA-T-A')"
      ]
     },
     "execution_count": 741,
     "metadata": {},
     "output_type": "execute_result"
    }
   ],
   "source": [
    "OutputFitting(backtrack, s1, s2, max_i, len(s2))"
   ]
  },
  {
   "cell_type": "code",
   "execution_count": 731,
   "metadata": {},
   "outputs": [],
   "source": [
    "with open(\"./Desktop/test_43.txt\", \"r\") as file:\n",
    "    count = 0\n",
    "    for line in file:\n",
    "        count += 1\n",
    "        if count == 1:\n",
    "            pep1 = line.rstrip(\"\\n\")\n",
    "        if count == 2:\n",
    "            pep2 = line.rstrip(\"\\n\")"
   ]
  },
  {
   "cell_type": "code",
   "execution_count": 732,
   "metadata": {},
   "outputs": [
    {
     "data": {
      "text/plain": [
       "'TTAGGTTGCCCAGCGACGCCGCAGAGTTAGTCACGCTGTAACTCAAGGGAGTCAATGTTGACCCCATCAGGTCTTTCAGGCGTATAAATTCTTAAGTCATCCCTCGGCCGTTACATTCCACAGGTCGTAGACAGCCTGAGCGAGTTCCCACCCAGAATCAGATTAAAAAAGAGCACCCTTAAAGGAAATTATATGTAAGTCGCCACCAGTCGCACAGAGGAAATGTTAATTGACCACCTATTGACGTCTCTTGCGCTTTTTATCCCCGCCAGCAACACCACTGGCTCACCCCACCGAAAAAGACACAGCAATACATAGCAGAACAGGGTCAGAGCTGGCAGGGATGCCCACACGGTGTTGTGGAGGCAACACGCGTGTATACTACTGAAAGTAAACGGACCGTGGCATTTTCCCGGGCGGCCCCAAACTCAAATTGAAATATACCGCTTCTTACTGCCGGTGGCCTAGGAATGTATGGTTTTATCCGACACCGTTACGACCACATAGTCCCTTACAAGTGTCAGACGAGAAATACTCCTACTACGAGTCGCGGTGCGGCTATACGGCCGATCTCATGGTCTTAATCACTAAGAGCGCCAAAGTTCTGTGGGTCGTGGGCTAGTCGAAGGTCTTCGCGAGTAGGTAAAATAGCGAGTCGTGCAAGATTATGATGGTGGGAACTGCTGTGAAAGCGAAGCGTCACCGTACTTACGAAAAAGGCTGAGGTTCGAATTAAACGAGGCGTAGCTCAGCCCAATCCGGCAAATCAGGTCTGGCCGGACCGGTCTGAGTCTTTCAGGACGCTGCATCCAAATCAGCTCTCATAGCGCATCTCATGAGGATCGTTCGGGGTGAGGACAACCGTTTTTGCAGTCAAACCGCTGTCCCAATTAAGCGGTTGCTATAAAGATTCGCCCAAACTTCATATCAGCCATGCCGGCGTTCTTATATGGGACTGGCCTAGGTGGTGCTGCGTGGGCGTGGTCTGACGGTTTCGTAATTCGGAAGGCTCTGGCTGACCTCTATTCCTAAGACTGTCTCGCCTAGCTGCAGTCGCACTTTAGTGGATGTGAAAATTGCATGGATAGCGTGAAGCGGCGTCGATGAGTGACGAGCATAAAGACAACACACGAGAGGCGGGACGGGAAAGTCGCCTAAATGTGTTAGTACTGGTTTTGTAAGGACTGCTACCCATGACGTTAACAGCGCGCAGATAGACGACTAGTTCGTGACAAGAGGAGTGATCAGAGCCCCTTGGCCACTGTCCCCACTAGGGCTCAGACGTATATCATGACTAGTACCCCCTCCGCAAGCGCCCAAAGGTAAATGTGTGCGAACAGCAAACTTGTGATGGCTTAGGACAACATGATGTCTGCCAGGTCACACTAGTTGATAGTACTCTTTAGGGATCAATCCCGGGCCGAATGCACGGTTCCTCGCTTCGGAACCATGGCGTCAAGCCCCCTTTATGGGAACCCACTATAGGAGGACGGGCTTAACAGAGACGTGACGTACACTCACCACCGGCATACCACTGCCTCTGCTCGCTCTCAGAGATCACGAGAGGTTCAGAATACGTCCACTGCCCCGACGACCTTGGTTCCAACAACGAAAGCTCTGTAAACCCACGGTAACGCTAAAGGACAGCGAGCGTTGGAAAGCGCCTGCCGCTCGAGCCTGCACTAAGTGAGCGTTCGGTACAGCCGGGGTGGGACTGGTGAACTTGTGCGGCGGGGCGCAGCCTCGAATCTGAGTGCTTTGCATAAAATCCGCTAGTCATCCAGGATTTATCCGGGAGTCTTCGAGCCTTCTGTGTCAGATGCACAACGCTCGGTTTTCACCTCAGTTCCGCTCTTCCCATGTAATCAGACGCCAACGCAACAAAGACGGGGACCCGTGCTACAGGAACTTGGCGGGCGGAAGCTCTATGCTGCAAGATAGCAGGCAACCCACATCTTACTAGTCTCCGCTGCGCTCAGCAGGGTGTGCCTCTGAAATACTTTTGACTCTCGTATTCCTACAGATTAACATAAGCCGATGAGGGATCCTACGGGCGATCCCTCTGGAACTAGCACACTCGTATCCGCAATGGAGTATCGCAGTAAGAACTGATTAACTTCGGTGGGCTCATCTCAGGGATTCCGAGCACGGTTTATGGTAACACTGGGCAGTCTCTTTATCGGCACGTTGAGGAGTACGCTCACGGGAAGTTAGGCGGACCTTTGACCAGCACCAACGCACTACTGCCTCAGGCTATTGCAACAGCATATTTCACAGTGGGGCGTCTACGCCTCACGACAACTGCGGTCAACAAGGTAGTCAGGGACCACTTGTCCACCGGTCTTAGACTAGAGACAAATAAATAACAGCTCGGAGCTGAGTACTAATGTCGAAAATGGCTTTGCGGCCCATCATGAACCAACCATAAGCACGGTCCTTCCTTACCCGCAGAGACCCGTCTCAGAGTGCGCTGGAATAGATGTGGGAATAGGGCCATCCAACATGCGAAAACTACGTTTTATCCCTCATTAGGGGCATCGTACCTCCTCTCAACGAGAACGAGGCCCCTCTTTCGGTCGTAGCCCGAGTTTGACTCCGCGGATCAATCGTCGCCCTGTGTTCCGGTACGTCATAATCAGAAGGTGCTCGCCTGCCGCAGTCGGCTTATACAACGTACATATGTCCGACTTGAATAGCTTTAGTGTAGTATCCAGTTATCATTCCCTGTATTTCAAAACATTACAAACCGTTTTGCTCCTTGTAAGCCGTCTCCCACCCTTTACCTACGTGGATCGGGGTTGAATGCTGAAACAGGAACGCAATGCGCACGCATTCAGGGCAGCTATTGTCAATGTATAATTGGAGTAAAAAATCGTTAGAACCGGGGATTAACCCGATTGGGCGACTAAACGTGTATTTTCAATTGTAAGTTTTCGCATGCCCCGGTCTCAAACACATGATCCAAATTGAGATGAGTGTGATTACGTTCCAGGCCGCGGGGAGAACTACGAGATGAGTTGAGGTCCTTAGTTACTCATTAGCTTTAATAAGACCAGTGGATTGCGATGCCACTAAAGGTGCGTCGAGGATTGGGCCCTACTGACTCCTTGTCCTTAATCATGGTTCATTCGTACTAAGGTTCATACACACTGCATCTCGTCGATTCGGGCGAGCCGATAAGTACGAGTCACTGGGAGAGAAAGTTAACTGATATGGCGTTACCCGCTAAGACTTGTTCCGAAGAAGCCTACTCTGTCCTCCCATATTCACGTTCTTCACTTTGGCGCTCCCCATGTTTTAGGATTTTTTCTTCGCCCCGGGTGGGGGACATACCTATCTTTCATCTGGGTTCTACAGCTAGGACAACATGCAGGAGCCATGCTATGTTTCTATGAGAGCGGCTCAAGGCAGGTGACACCACGGGTATGCCTATGTCTAGGGATGGCGGCAAAGAGGGTGAAGGATAACGTGTTGGTCTATCAATTTGCAGTTGACGTCGTAGCCCATTACTATTAGGGCCACTTACTGGGCTTTCCCGTTCGACCCGTGACGTCAATCGATACTTACAGCGTAGGTTGTTCGTACTCACGACCTCGCTACGTTATATGGATAGTTCTATATCCATTAAGGTGTGATCACGGGTGGCGCGATTGGGAGAAACTCGGGTACTGTGGCTTGGCGAGAGGAAACATGGATCTTAGTAGCAGGGAGTAGCCCCTCCTATCCGAGGAGACGCAATGCCGATAATCTAACTGCATGCGCACCGGTGTGTTTCCTGAGCCAGCCCCAGTGCGGCGTCGGTATTACGCTCAATAAGTGGAAAGAATCCATGAGGAGCACTCATTATTCTTGTATTCCAAGAACCGTGGTACGAAAGCTGACGACAACATCGACCACCTGTAACCGTCCTATTACGCTCATGTGCGCGAGGTGCATGTTTATCGTCTATTTGTAGGTTTGACCGAGAAGCCGCGAATGGAAGGAATGCATTGCAACGATCGTCTTCCAGCGATCTGCAAGTTCAGTTACGTAACGCGTAACCGACTGCAACATGATAATCCCTTAGACTGAATCCACGTACATTCGCTTGGAGATACCGCAACACTAAGCTGTTTATACTTATATCTGCACGCATGTCTTAACGCCATAGTGGTGGACAGCAGTATAAAGCGTAGATTTGGATACTTTATGAGAATAGATGTGCGCCCATCCGGGCCTATACTTCAGCGTAGTAGTGTGTATCCCAATTTCCATGGTAGGCGGTCGATCCTAAGGGCGAAAGACAGTTATACTTATTAGCAGGAGAGTGAGAATAACCATTTGAATCTACGCACTTAAAACTGGGCGTGGGTCGAAGACTTAATAAATTTTTCGGTCCAGAGATTTAAATATCCTGGGAGAGCTCGTAAAATGTAGGTCTAGTCCATGCGAGTGATTAGCCCAGACCCGTAGTTTATGAAGATCAACCCACGATGCTACAAACATGGCCCGCTGAGTCAGCTGTTCGGGGTGAATGGTAGTATCGAAATCAATAGCGGCAGGAACAAAGCCTGACGTTGATCGACAAAATGCCGCATTGCTGGTATTATGGTTACCTTAACTTCCTGTAGGCCAGGATCACGACAGGGTGACGCTAGTTCCCGTTTTAGAATCAGGACTTGACCGTGCATTAATTCGTTAGTGTTTTTGATTCCGCTTATGCATTCAACAAGCTATTCTCAGGCACCTATTATGGGACCTCTTATGATTTCCGTATATTATTGCGTCGGCTTAAATGCAACTTAGCGCGGGTCGTCCATAAGAGTCAGCGTCTTAGGATCCTAACTCTCTGCCACCGAAATAGAGTTTAGAAAGACTAGCTGCGGTGCCGATTTCGGCTCTACGGCGTTGTACATCCCCTTCGTCCAGGAGCGGTTGCCGGAGATCAACGATCGACGCTGTTTTGAGGGCCTATCCATCTTAGCAGGTTGTAGGGGCATAACGGATCCAATTGATGCTCGCAATCCCGTAGGCTAATAGAGGCTACATCAATCAGCTATGCTACACTTATACAAGTAGAACAAGTACAGCATGAGGTGGTGATAGTCGATTGGGGAAGACACCTAAGTTAGTCGCCTTTTAGTCTACTTTTGTAAAGTCGAGTACCGAGAAATGTCTCAAAGAAAATAGCCACGCCACCGCAGAGCTTGGAGTGCGTTCGATAGTCTGACCTAAATGGACAAGACGGCATGCAACCGTCAATGAAAATAATGGCGATAGCTGACCTGGCCGCACAGGACTAGCACCCTATTCAAGAAATACCAGGGCGGTCGCTTCATACTCGACCATATATAGAAGATTCAGGGAATTCTTTTACATGAGGCGCCCGCCGCTTACAGCGACGTAATTACGTGTTTCGCGAATGTCGGCTACTCTGATAGGGAACAAACTTATTATAAGGCTCGAGATCTTGATATGCCTCCTCTAAAGCTAGTCAACAAGGGGTTCACGCTAGATAATGTTTTGGACTTGTTGGTAGCTATAATATCTGATGTACTCCACAAGCTAGACTCAGCATCAACGAAAACGCTTTGATTCCCACGAAAATTACATCTGAGACCATCTGGACGCTGGAGTCGACCTCACGGCCTTACCCCGAGAACATGGCGCTGGAGGGCTAATCTTTCCATTGCTATGATCTGGAGATAAGATCGTTCCCTCAAAGTTATAAGCTTAATACTCTGGAAAAGTGTCCATAACACAGCGAGTATAGTACATCTGACTGCCCGGCCCCCAACGCCCCAGGCGCTACCAATATATAGGGCAGGGATTAGCGTGCAAGCACCAGTCGGTAATTCTGCCAACGAAAACGCATGCGTCTTACGTTACGCCAAACCATACAGCTCGTCAAGTCAAGATCCTATTAATTCGCTAGGAGTCCTTACAGCGCGAGGAGGATCGCTACCATTCTTGTACAGTTAAATATACATGGTTGGGAAGATCGACATTTCTAGAAGAGTTCAACTGCACCTTTTATCGCTTTTTCATTGGAGTTCTTACCGCGAACGATCCAGTTCAAAATAATACAGTTCCGGAATCAGGATGCGAGAAGACATCCTTGCCTTAGGCCGGAAATGGCTTCCCTGTTCGGACATGTCGTTTGGACCAGATTGTGTGCGAATCTTGTGTATTTGGTGCGGCACTCTTTTCACCTTTTTGAGTCACCCGCAGCCGACGGTCGCTCTAAGTACCAATTATTGCGTTGGCCGCTTAGCCCACCTCCATCGCAACTGTTGTCCCCGCAAACCCGTTATGAAGTCAGTAAGTGCTCGTATAAAAGGTTCTATCGGCGCTAAGTGTCGTCCGAGTACTTACAATGCGATGTCCGCTATAGACGACGCCACACGCACATGGTCCGGAATCTTAAGCGCAATCCAGTACATACTTACGACCGCACCCGCGTCCCGACATGCTTCACCGTCTGAACTTCCTTGATTTTGTATGCAGATTGTCAGGGGGATAACCATACGAACACTTCCGCCTGTTCCATGAAACAGAAGCACGGGTTGTTCGGGCAGATACTACCTCCCGTCTCCTTGTAAGCCAATTAAGCCTTATATGACTGGTCAGAGAATGGCGGGCATCCGACCCTAGCCGATAGCCCGTCTCTAGTTCCTTCGTGCGACTTTTATGGCTACTCATGGTTATATGATTTTTCACTTCCCTGCTAATATGACTCGCAGCCGCTAGAAATACCCGGATGCATACAATTGAGGGACCAAGAGGTTTTAGAAGGTGGTCTCGTCTGGCATCTCGGTTGAGCTTAACACAGAAAAGTGAATTGCCCCCTTGAAGTTACGTAAGACAGATTGTAAGAGCATCGACTACACAAGTGCCTTGATGACGATAACGGGTCTCTTCAAGATGCCTCAGGACTGCCGGGGCCCATCACTCGTACCTATTTGCTCAAATTTCTTTTCTCTATAATGTTCTTTGAAATATTTGCCGGCACGAAGAGTGTATTTCCCTACCCGCACCTTCGGACACTACCACACTTTCATTTAACCAGCCTAGGAGCCAGGATTCACGGCTCCGAGGAAGTTTAAAAGTGCTAATGAATATGACAGCGCTTCGAGCACTGAGTCTAAGAGATGTGTTTCTTGGAAGTCATTCGAACTAAAAAGTCGTCCCCTTTCTTGCATTGAAGAAGCATAGAGCCGAGTGGATGAGAGATGTGCAATGTGAACTTGCGCAATGAGGGGATTATTCACCTTGCTTTCTGCCTCACTCCGCCAGGTCAGCTCCGATTATGGCCCACGGGGTATTAGGAGACTAGTGTGTAAAAGGGGATAATCGTCTTACACTATATCGAATCGATTTTCAAGGGGCGGGTCATTGCTGCTCGCAACTCCCGTTCGGAGATTGGGTTATCTTTCCCACCATCGCCAGGCTATTGGCGCAGGTTTCATATGTGGAGCGTTGACTAATCATCGAGCACTTAGGGTCCAAGCGTGAGAAGTTCCCGTACTAGAGGGTTCCTGCCTTGTGGGCACAGTTCAGGGACCACTCAAAGGTTGGATCTAGTAGGGCTTTCGCAAAAGCGGCTACGAGTTGTGGTCCATCTTCCAGGAATCGCCTACTGGTACTATCCTTCTTGCAGGAAATAACTTATCATCGTGCTTTGTTACGAGTCCCCCTCGAACGGTGAGCAGCCCAACCATATATTAGGTTTGTAGGAGCGTCACGGATGCGAACGAAACACAACTGGGGAGAGAGGTTAGTTCAGCGTACACCGCATACGCCTGTGCATTTCGTAGGCTGATGGGGAGAGCTTAGTGCGCCAAATGTCCAGTCATTGGAGTATGATCCCATGTTTTCGTCTGCGGTTTATAACGCTTATGGGGTGTCCTCCCTCAGGAGAACTCGGAGCTTTGTGACCAACCTTCGGGGGCGACTACAGGTATTTTATTGAGACACGCCTACTCTACGGGATGCAGCTTGACTTATATCGTGTAGTAAGCGAATCCGCTGGGATGTTGTGCACCGAAAGTATCCACCATTGGCTTCGGATCAGGGGTCTCTGGCTTGACATCTGATCCGCTTTGTTATGTTGCCTAAGACCGCCGCGTGTTTTTCTGTACACGACAACATTTGCTCGTTTCCGGCAGCTGTTATGATAGAACGAGCTAAAAGCGTATACATTCAGTGGATGTTAAGGGAGAACCAC'"
      ]
     },
     "execution_count": 732,
     "metadata": {},
     "output_type": "execute_result"
    }
   ],
   "source": [
    "pep1"
   ]
  },
  {
   "cell_type": "code",
   "execution_count": 733,
   "metadata": {},
   "outputs": [],
   "source": [
    "max_score, max_i, backtrack = FittingAlignment(pep1, pep2)"
   ]
  },
  {
   "cell_type": "code",
   "execution_count": 734,
   "metadata": {},
   "outputs": [
    {
     "name": "stdout",
     "output_type": "stream",
     "text": [
      "113\n"
     ]
    }
   ],
   "source": [
    "print(max_score)"
   ]
  },
  {
   "cell_type": "code",
   "execution_count": 735,
   "metadata": {},
   "outputs": [
    {
     "name": "stdout",
     "output_type": "stream",
     "text": [
      "TCCAG--C-GATCTGCAAGTTCAG-TTACGTAACGCGTAACCGACTGCAACATGATAATCC-CTTAGACTGA-ATCCACGT--ACATTCGCTTGGAGATACCGCAACAC-TAAGCTGTTTATAC-TTAT-ATCTGCACGCATGTCTTAAC-G-CCA-T--AGTGGTGGACAGCAGTATA--AAGCGTAGATTTGGATACTTTATGAGAATAGATG-TGCGCC-CA-TCCGGGCCTA--TACTTCAGCGTAG-T-AGTGTGTATCCCAATTTCCATGGTAGGCGGTCGATC-CTAAGGGCGAAAGACAGTTAT-ACTT-AT-TAGCAG-GAGAGTGAGAATAACCATT-TG---AATCTACGCACTTAAAAC-TGGGCGTGGGT-C-GAAGACTTAATAAATTTTTCGGTCCA-GAG-----ATTTA-AATATCCTGGGAGA-GCTCG-TAAAATGTAGGTCTAGTCCATGCGAGTG-AT-TAGCCCAGA----C-CCGTAGTTTATGAA-GAT-CAACCCA-CGATG--CTAC-AAACA-TGGCC--CGCTGAGTCAGCTGTTCGG-GGTGAATGGTAGT-AT-C--GAAATC-A-A-TAG-CG-GCAGGAACAAAGCCTGACGTTGATC-GACA-AAA-TGC-C-GCATTGCTGGTATTATGGTTACCTTAACTTCCTGTAGG---CCAGGATCACGACAGGGTGACGCTAGTTCCC-GTTT-TAG-A-ATCAGGACTTGAC-CGTGCATTAATTCGTTAGTGTTTT-TGATTCCGCTTATGCATTCAAC--AAGCTATTC--T--CAG-G-C-A-C-CTAT-TATGGGAC-CTCTTA-TGATTTCCGTATAT-TATTGCGTCGGCTTAAATG-CAACT-TAGCGCGG-G-TCGTCCATAAGAGTCAGCGT-CTTAGGATCCT-AAC---TCTCTG--CC-ACCGAAATAGAG---TT\n",
      "TCCAGAACAGAAC--CAAG--CAAATTT-G-AAGG-GT--C--A--GCAACAT-ACCA-CCTCTCCGGCCGACATCTA-GTTTA-AG-CGATCGGACAG-CGGGTACTCATTTGGTGCATAGAGATTGTCAA-TG-A-GC-TGTGTTGCCTGACCAGTCCAATGGTT--CTG--GT-TACCAA-CA-A-ACGTG-A-ACAA-ATAAG--T-GA-GCT-CGCAACACTC-GG-C--AGGT--TTCAGGG--GCTCAGCGGG-A-C----TT-CTAAGG-AG-C--TCT-TCACGAAGGAATAAA-ACAAA-ATTACTTTATATGGCCGCGA-AG--ATA-TAAC--TTCTGCGGAA-CTAAGCA-TTGCGACCTC--C-T---TACCGACG-CGTC-TA--TTTCTAGG-CTATGTGCCTTTATTTACAA-AGC-TG--ACTCGCACGATAATATCTCGG-C-ACTCTA-G-G-GTGCAGGT--CCCAGTTTTGCTCCGT-GTA-AT-AATG-TGCC-CCCAACCATGGGCAACGAAAGAAT--CTTTCTCTCAGTGAACTATAAGCAGGTAAAACGTTGCCATACTTGGAGTCCATAATAGACTTGTTG-AGCGTAG--TG--GTAGC-CAGACATAAACTACTCAGC---GCT--TATT-TCGT-AC-T-A-C--C-TG-AGGGTACCTGG--C--GA-AGG-T--CG-T--TTCCAAGCTGCTAATACATGAGG-CGT-ACAC-TG-AG-AGTTCCTT--T-TTCCCTC-TTGCGCT-ACG-AGGCAACGGAA-CTAATCAGTTGCCGTGACGAACTCTGTGT-TAGTACAC-CTTAGTGAATTCCGT-TCTGTCGGGC-TCTG-TCATATGGCGGCTGTTTCGCAGAGCTCA-CCATAAGAGT-A-CGTACGCAGGAGCCTCAAAAAGT-T-TGGGCCCAGCGCACTGGGGAAATT\n"
     ]
    },
    {
     "data": {
      "text/plain": [
       "('TCCAG--C-GATCTGCAAGTTCAG-TTACGTAACGCGTAACCGACTGCAACATGATAATCC-CTTAGACTGA-ATCCACGT--ACATTCGCTTGGAGATACCGCAACAC-TAAGCTGTTTATAC-TTAT-ATCTGCACGCATGTCTTAAC-G-CCA-T--AGTGGTGGACAGCAGTATA--AAGCGTAGATTTGGATACTTTATGAGAATAGATG-TGCGCC-CA-TCCGGGCCTA--TACTTCAGCGTAG-T-AGTGTGTATCCCAATTTCCATGGTAGGCGGTCGATC-CTAAGGGCGAAAGACAGTTAT-ACTT-AT-TAGCAG-GAGAGTGAGAATAACCATT-TG---AATCTACGCACTTAAAAC-TGGGCGTGGGT-C-GAAGACTTAATAAATTTTTCGGTCCA-GAG-----ATTTA-AATATCCTGGGAGA-GCTCG-TAAAATGTAGGTCTAGTCCATGCGAGTG-AT-TAGCCCAGA----C-CCGTAGTTTATGAA-GAT-CAACCCA-CGATG--CTAC-AAACA-TGGCC--CGCTGAGTCAGCTGTTCGG-GGTGAATGGTAGT-AT-C--GAAATC-A-A-TAG-CG-GCAGGAACAAAGCCTGACGTTGATC-GACA-AAA-TGC-C-GCATTGCTGGTATTATGGTTACCTTAACTTCCTGTAGG---CCAGGATCACGACAGGGTGACGCTAGTTCCC-GTTT-TAG-A-ATCAGGACTTGAC-CGTGCATTAATTCGTTAGTGTTTT-TGATTCCGCTTATGCATTCAAC--AAGCTATTC--T--CAG-G-C-A-C-CTAT-TATGGGAC-CTCTTA-TGATTTCCGTATAT-TATTGCGTCGGCTTAAATG-CAACT-TAGCGCGG-G-TCGTCCATAAGAGTCAGCGT-CTTAGGATCCT-AAC---TCTCTG--CC-ACCGAAATAGAG---TT',\n",
       " 'TCCAGAACAGAAC--CAAG--CAAATTT-G-AAGG-GT--C--A--GCAACAT-ACCA-CCTCTCCGGCCGACATCTA-GTTTA-AG-CGATCGGACAG-CGGGTACTCATTTGGTGCATAGAGATTGTCAA-TG-A-GC-TGTGTTGCCTGACCAGTCCAATGGTT--CTG--GT-TACCAA-CA-A-ACGTG-A-ACAA-ATAAG--T-GA-GCT-CGCAACACTC-GG-C--AGGT--TTCAGGG--GCTCAGCGGG-A-C----TT-CTAAGG-AG-C--TCT-TCACGAAGGAATAAA-ACAAA-ATTACTTTATATGGCCGCGA-AG--ATA-TAAC--TTCTGCGGAA-CTAAGCA-TTGCGACCTC--C-T---TACCGACG-CGTC-TA--TTTCTAGG-CTATGTGCCTTTATTTACAA-AGC-TG--ACTCGCACGATAATATCTCGG-C-ACTCTA-G-G-GTGCAGGT--CCCAGTTTTGCTCCGT-GTA-AT-AATG-TGCC-CCCAACCATGGGCAACGAAAGAAT--CTTTCTCTCAGTGAACTATAAGCAGGTAAAACGTTGCCATACTTGGAGTCCATAATAGACTTGTTG-AGCGTAG--TG--GTAGC-CAGACATAAACTACTCAGC---GCT--TATT-TCGT-AC-T-A-C--C-TG-AGGGTACCTGG--C--GA-AGG-T--CG-T--TTCCAAGCTGCTAATACATGAGG-CGT-ACAC-TG-AG-AGTTCCTT--T-TTCCCTC-TTGCGCT-ACG-AGGCAACGGAA-CTAATCAGTTGCCGTGACGAACTCTGTGT-TAGTACAC-CTTAGTGAATTCCGT-TCTGTCGGGC-TCTG-TCATATGGCGGCTGTTTCGCAGAGCTCA-CCATAAGAGT-A-CGTACGCAGGAGCCTCAAAAAGT-T-TGGGCCCAGCGCACTGGGGAAATT')"
      ]
     },
     "execution_count": 735,
     "metadata": {},
     "output_type": "execute_result"
    }
   ],
   "source": [
    "OutputFitting(backtrack, pep1, pep2, max_i, len(pep2))"
   ]
  },
  {
   "cell_type": "code",
   "execution_count": 769,
   "metadata": {
    "collapsed": true
   },
   "outputs": [],
   "source": [
    "def OverlapAlignment(string_1, string_2):\n",
    "    n = len(string_1)\n",
    "    m = len(string_2)\n",
    "    S=[]\n",
    "    Backtrack = []\n",
    "    for i in range(0, n+1):\n",
    "        a=[]\n",
    "        for j in range(0, m+1):\n",
    "            a.append(0)\n",
    "        S.append(a)\n",
    "        Backtrack.append(a[:])\n",
    "    for j in range(1, m+1):\n",
    "        S[0][j] = S[0][j-1] -1\n",
    "    for i in range(1, n+1):\n",
    "        for j in range(1, m+1):\n",
    "            if string_1[i-1] == string_2[j-1]:\n",
    "                S[i][j]= max(S[i-1][j]-2, S[i][j-1]-2, S[i-1][j-1]+1)\n",
    "            else:\n",
    "                S[i][j]= max(S[i-1][j]-2, S[i][j-1]-2, S[i-1][j-1]-2)\n",
    "            if S[i][j] == S[i-1][j]-2:\n",
    "                Backtrack[i][j] = 1\n",
    "            elif S[i][j] == S[i][j-1]-2:\n",
    "                Backtrack[i][j] = 2\n",
    "            elif S[i][j]==S[i-1][j-1]+1:\n",
    "                Backtrack[i][j] = 3\n",
    "            elif S[i][j] == S[i-1][j-1]-2:\n",
    "                Backtrack[i][j] = 4\n",
    "    max_score = S[-1][1]\n",
    "    max_j = 0\n",
    "    for j in range(0, m+1):\n",
    "        if S[-1][j] >= max_score:\n",
    "            max_score = S[-1][j]\n",
    "            max_j = j\n",
    "    return (max_score, max_j, Backtrack)    "
   ]
  },
  {
   "cell_type": "code",
   "execution_count": 743,
   "metadata": {
    "collapsed": true
   },
   "outputs": [],
   "source": [
    "def OutputOverlap(Backtrack, string_1, string_2, i, j):\n",
    "    result_1 = \"\"\n",
    "    result_2 = \"\"\n",
    "    while j!= 0:   \n",
    "        if Backtrack[i][j] == 1:\n",
    "            result_1 =string_1[i-1]+ result_1\n",
    "            result_2 = \"-\" + result_2\n",
    "            i = i-1\n",
    "        elif Backtrack[i][j] == 2:\n",
    "            result_1 = \"-\"+ result_1\n",
    "            result_2 = string_2[j-1] + result_2\n",
    "            j = j-1\n",
    "        else:\n",
    "            result_1 = string_1[i-1]+ result_1\n",
    "            result_2 = string_2[j-1] + result_2\n",
    "            i = i-1\n",
    "            j = j-1  \n",
    "    print(result_1)\n",
    "    print(result_2)\n",
    "    return (result_1,result_2)"
   ]
  },
  {
   "cell_type": "code",
   "execution_count": 744,
   "metadata": {
    "collapsed": true
   },
   "outputs": [],
   "source": [
    "s1=\"PAWHEAE\"\n",
    "s2=\"HEAGAWGHEE\"\n"
   ]
  },
  {
   "cell_type": "code",
   "execution_count": 762,
   "metadata": {},
   "outputs": [
    {
     "name": "stdout",
     "output_type": "stream",
     "text": [
      "[0, -2, -1, 1, 1, -1, -3, -5, -7, -6, -4]\n"
     ]
    }
   ],
   "source": [
    "max_score, max_j, backtrack = OverlapAlignment(s1, s2)"
   ]
  },
  {
   "cell_type": "code",
   "execution_count": 748,
   "metadata": {},
   "outputs": [
    {
     "name": "stdout",
     "output_type": "stream",
     "text": [
      "1\n"
     ]
    }
   ],
   "source": [
    "print(max_score)"
   ]
  },
  {
   "cell_type": "code",
   "execution_count": 764,
   "metadata": {},
   "outputs": [
    {
     "name": "stdout",
     "output_type": "stream",
     "text": [
      "4\n"
     ]
    }
   ],
   "source": [
    "print(max_j)"
   ]
  },
  {
   "cell_type": "code",
   "execution_count": 765,
   "metadata": {},
   "outputs": [
    {
     "name": "stdout",
     "output_type": "stream",
     "text": [
      "HEAE\n",
      "HEAG\n"
     ]
    },
    {
     "data": {
      "text/plain": [
       "('HEAE', 'HEAG')"
      ]
     },
     "execution_count": 765,
     "metadata": {},
     "output_type": "execute_result"
    }
   ],
   "source": [
    "OutputOverlap(backtrack, s1, s2, len(s1), max_j)"
   ]
  },
  {
   "cell_type": "code",
   "execution_count": 772,
   "metadata": {
    "collapsed": true
   },
   "outputs": [],
   "source": [
    "with open(\"./Desktop/test_44.txt\", \"r\") as file:\n",
    "    count = 0\n",
    "    for line in file:\n",
    "        count += 1\n",
    "        if count == 1:\n",
    "            pep1 = line.rstrip(\"\\n\")\n",
    "        if count == 2:\n",
    "            pep2 = line.rstrip(\"\\n\")"
   ]
  },
  {
   "cell_type": "code",
   "execution_count": 773,
   "metadata": {},
   "outputs": [],
   "source": [
    "max_score, max_j, backtrack = OverlapAlignment(pep1, pep2)"
   ]
  },
  {
   "cell_type": "code",
   "execution_count": 775,
   "metadata": {},
   "outputs": [
    {
     "name": "stdout",
     "output_type": "stream",
     "text": [
      "26\n"
     ]
    }
   ],
   "source": [
    "print(max_score)"
   ]
  },
  {
   "cell_type": "code",
   "execution_count": 774,
   "metadata": {},
   "outputs": [
    {
     "name": "stdout",
     "output_type": "stream",
     "text": [
      "ATCCG-TGCAAGGTTATCTGAGAGAGCTGAAA-AGGCTACA-GT-TGCGT--ACGCGTTTGA-ACACACCAGTCATACCCGTATGACTGCGAGATGTTGTATTCTG-TTAGCGCCCGTCTGCGGG-GTTTTCTGCATTCAATTCGTTT-CATTT-CGGTGGATCACTTATGTAGG-CACTACCTTATGG-TACCATG-TA-GCT-GAATGGGTCCTAACGC--TCCAGAA-GC-TCTGGTCGGCT\n",
      "ATTCGCTGT--GGT-A-CTAAGGGAGC-GACACAG--TACACGGCTG-GTCTAT-CGTT-GACACAGAACAATCATATA-GTATAACTACGCGC-GTTATACTCCGATTAGCGTC-GTTTGCGGGAGATT-CTGC-T-CAATG-GCTTACATCTGCCGTGGA-CACTTATGTAGGGCACCACGTTATGAATACCATGCTATGCTCGAATGGGCCCTA-CGGAGTCCAGAAAGCATCTGG--GGTT\n"
     ]
    },
    {
     "data": {
      "text/plain": [
       "('ATCCG-TGCAAGGTTATCTGAGAGAGCTGAAA-AGGCTACA-GT-TGCGT--ACGCGTTTGA-ACACACCAGTCATACCCGTATGACTGCGAGATGTTGTATTCTG-TTAGCGCCCGTCTGCGGG-GTTTTCTGCATTCAATTCGTTT-CATTT-CGGTGGATCACTTATGTAGG-CACTACCTTATGG-TACCATG-TA-GCT-GAATGGGTCCTAACGC--TCCAGAA-GC-TCTGGTCGGCT',\n",
       " 'ATTCGCTGT--GGT-A-CTAAGGGAGC-GACACAG--TACACGGCTG-GTCTAT-CGTT-GACACAGAACAATCATATA-GTATAACTACGCGC-GTTATACTCCGATTAGCGTC-GTTTGCGGGAGATT-CTGC-T-CAATG-GCTTACATCTGCCGTGGA-CACTTATGTAGGGCACCACGTTATGAATACCATGCTATGCTCGAATGGGCCCTA-CGGAGTCCAGAAAGCATCTGG--GGTT')"
      ]
     },
     "execution_count": 774,
     "metadata": {},
     "output_type": "execute_result"
    }
   ],
   "source": [
    "OutputOverlap(backtrack, pep1, pep2, len(pep1), max_j)"
   ]
  },
  {
   "cell_type": "code",
   "execution_count": null,
   "metadata": {
    "collapsed": true
   },
   "outputs": [],
   "source": []
  }
 ],
 "metadata": {
  "kernelspec": {
   "display_name": "Python 3",
   "language": "python",
   "name": "python3"
  },
  "language_info": {
   "codemirror_mode": {
    "name": "ipython",
    "version": 3
   },
   "file_extension": ".py",
   "mimetype": "text/x-python",
   "name": "python",
   "nbconvert_exporter": "python",
   "pygments_lexer": "ipython3",
   "version": "3.6.2"
  }
 },
 "nbformat": 4,
 "nbformat_minor": 2
}
