{
 "cells": [
  {
   "cell_type": "code",
   "execution_count": 97,
   "metadata": {
    "collapsed": true
   },
   "outputs": [],
   "source": [
    "def GreedySorting(P, outputfile):\n",
    "    for i in range(len(P)):\n",
    "        if P[i] != i+1:\n",
    "            index = i\n",
    "            while abs(P[index]) != i+1:\n",
    "                index += 1\n",
    "            reverse = P[i:index+1][::-1]\n",
    "            reverse = [-x for x in reverse]\n",
    "            P = P[:i] + reverse + P[index+1:]\n",
    "            #print(\"(%s)\"%' '.join(map(\"{0:+}\".format, P)))\n",
    "            outputfile.write(\"(%s)\\n\"%' '.join(map(\"{0:+}\".format, P)))\n",
    "            if P[i] != i+1:\n",
    "                P = P[:i] + [-P[i]] + P[i+1:]\n",
    "                #print(\"(%s)\"%' '.join(map(\"{0:+}\".format, P)))\n",
    "                outputfile.write(\"(%s)\\n\"%' '.join(map(\"{0:+}\".format, P)))"
   ]
  },
  {
   "cell_type": "code",
   "execution_count": 98,
   "metadata": {
    "collapsed": true
   },
   "outputs": [],
   "source": [
    "with open(\"./Desktop/50_test.txt\") as file:\n",
    "    for line in file:\n",
    "        string = line.rstrip(\"\\n\")\n",
    "        string = string[1:-1]\n",
    "        numbers = list(map(int, string.split(\" \")))\n",
    "        outputfile = open(\"./Desktop/50_result.txt\", \"w\")\n",
    "        GreedySorting(numbers, outputfile)\n",
    "        outputfile.close()"
   ]
  },
  {
   "cell_type": "code",
   "execution_count": 129,
   "metadata": {
    "collapsed": true
   },
   "outputs": [],
   "source": [
    "def CountBreakPoints(P):\n",
    "    count = 0\n",
    "    if P[0] != 1:\n",
    "        count += 1\n",
    "    for i in range(len(P)-1):\n",
    "        if P[i] + 1 != P[i+1]:\n",
    "            count += 1\n",
    "    return count\n",
    "\n",
    "        \n",
    "    "
   ]
  },
  {
   "cell_type": "code",
   "execution_count": 130,
   "metadata": {
    "collapsed": true
   },
   "outputs": [],
   "source": [
    "P = [+3,+4,+5,-12,-8,-7,-6,+1,+2,+10,+9,-11,+13,+14]"
   ]
  },
  {
   "cell_type": "code",
   "execution_count": 131,
   "metadata": {},
   "outputs": [
    {
     "data": {
      "text/plain": [
       "8"
      ]
     },
     "execution_count": 131,
     "metadata": {},
     "output_type": "execute_result"
    }
   ],
   "source": [
    "CountBreakPoints(P)"
   ]
  },
  {
   "cell_type": "code",
   "execution_count": 133,
   "metadata": {},
   "outputs": [
    {
     "name": "stdout",
     "output_type": "stream",
     "text": [
      "86\n"
     ]
    }
   ],
   "source": [
    "with open(\"./Desktop/51_test.txt\") as file:\n",
    "    for line in file:\n",
    "        string = line.rstrip(\"\\n\")\n",
    "        string = string[1:-1]\n",
    "        numbers = list(map(int, string.split(\" \")))\n",
    "        print(CountBreakPoints(numbers))"
   ]
  },
  {
   "cell_type": "code",
   "execution_count": 222,
   "metadata": {
    "collapsed": true
   },
   "outputs": [],
   "source": [
    "def ChromosomeToCycle(Chromosome):\n",
    "    Nodes = []\n",
    "    for i in range(len(Chromosome)):\n",
    "        block = Chromosome[i]\n",
    "        if block > 0:\n",
    "            Nodes.append(2*block-1)\n",
    "            Nodes.append(2*block)\n",
    "        else:\n",
    "            Nodes.append(-2*block)\n",
    "            Nodes.append(-2*block-1)\n",
    "    return Nodes\n",
    "            "
   ]
  },
  {
   "cell_type": "code",
   "execution_count": 135,
   "metadata": {
    "collapsed": true
   },
   "outputs": [],
   "source": [
    "c=[+1, -2, -3, +4]"
   ]
  },
  {
   "cell_type": "code",
   "execution_count": 136,
   "metadata": {},
   "outputs": [
    {
     "data": {
      "text/plain": [
       "[1, 2, 4, 3, 6, 5, 7, 8]"
      ]
     },
     "execution_count": 136,
     "metadata": {},
     "output_type": "execute_result"
    }
   ],
   "source": [
    "ChromosomeToCycle(c)"
   ]
  },
  {
   "cell_type": "code",
   "execution_count": 223,
   "metadata": {},
   "outputs": [
    {
     "name": "stdout",
     "output_type": "stream",
     "text": [
      "(1 2 4 3 5 6 7 8 9 10 11 12 13 14 16 15 18 17 20 19 21 22 24 23 26 25 28 27 29 30 32 31 34 33 36 35 38 37 39 40 42 41 44 43 46 45 47 48 49 50 51 52 53 54 56 55 58 57 59 60 62 61 64 63 65 66 67 68 70 69 72 71 73 74 76 75 77 78 80 79 81 82 83 84 85 86 87 88 89 90 91 92 93 94 95 96 98 97 100 99 102 101 104 103 105 106 108 107 110 109 112 111 113 114 116 115 118 117 119 120 122 121 124 123 126 125 127 128)\n"
     ]
    }
   ],
   "source": [
    "with open(\"./Desktop/test_55.txt\") as file:\n",
    "    for line in file:\n",
    "        string = line.rstrip(\"\\n\")\n",
    "        string = string[1:-1]\n",
    "        numbers = list(map(int, string.split(\" \")))\n",
    "        Nodes = ChromosomeToCycle(numbers)\n",
    "        print(\"(%s)\"%' '.join(map(str, Nodes)))"
   ]
  },
  {
   "cell_type": "code",
   "execution_count": 224,
   "metadata": {
    "collapsed": true
   },
   "outputs": [],
   "source": [
    "def CycleToChromosome(Nodes):\n",
    "    Chromosome = []\n",
    "    for i in range(int(len(Nodes)/2)):\n",
    "        if Nodes[2*i] < Nodes[2*i+1]:\n",
    "            Chromosome.append(int(Nodes[2*i+1]/2))\n",
    "        else:\n",
    "            Chromosome.append(int(-(Nodes[2*i]/2)))\n",
    "    return Chromosome"
   ]
  },
  {
   "cell_type": "code",
   "execution_count": 147,
   "metadata": {
    "collapsed": true
   },
   "outputs": [],
   "source": [
    "Nodes=[1, 2, 4, 3, 6, 5, 7, 8]"
   ]
  },
  {
   "cell_type": "code",
   "execution_count": 162,
   "metadata": {},
   "outputs": [
    {
     "name": "stdout",
     "output_type": "stream",
     "text": [
      "(+1 -2 -3 +4)\n"
     ]
    },
    {
     "data": {
      "text/plain": [
       "[1, -2, -3, 4]"
      ]
     },
     "execution_count": 162,
     "metadata": {},
     "output_type": "execute_result"
    }
   ],
   "source": [
    "CycleToChromosome(Nodes)"
   ]
  },
  {
   "cell_type": "code",
   "execution_count": 226,
   "metadata": {},
   "outputs": [
    {
     "name": "stdout",
     "output_type": "stream",
     "text": [
      "(+1 -2 +3 +4 -5 +6 +7 +8 +9 +10 +11 -12 +13 +14 +15 +16 -17 +18 +19 -20 +21 -22 +23 +24 +25 +26 +27 +28 -29 -30 +31 +32 +33 +34 +35 +36 -37 +38 -39 +40 -41 +42 +43 +44 +45 +46 +47 +48 -49 -50 +51 +52 +53 +54 -55 -56 +57 +58 +59 +60 +61 +62 -63 -64 -65 +66 -67)\n"
     ]
    }
   ],
   "source": [
    "with open(\"./Desktop/56_test.txt\") as file:\n",
    "    for line in file:\n",
    "        string = line.rstrip(\"\\n\")\n",
    "        string = string[1:-1]\n",
    "        numbers = list(map(int, string.split(\" \")))\n",
    "        Chromosome = CycleToChromosome(numbers)\n",
    "        print(\"(%s)\"%' '.join(map(\"{0:+}\".format, Chromosome)))"
   ]
  },
  {
   "cell_type": "code",
   "execution_count": 463,
   "metadata": {
    "collapsed": true
   },
   "outputs": [],
   "source": [
    "def ColoredEdges(P):\n",
    "    Edges = []\n",
    "    for chromosome in P:\n",
    "        Nodes = ChromosomeToCycle(chromosome)\n",
    "        for i in range(len(chromosome)):\n",
    "            edge = [Nodes[2*i-1], Nodes[2*i]]\n",
    "            Edges.append(edge)\n",
    "    Edges = sorted(Edges)\n",
    "    return Edges\n"
   ]
  },
  {
   "cell_type": "code",
   "execution_count": 467,
   "metadata": {
    "collapsed": true
   },
   "outputs": [],
   "source": [
    "testP = [[+1, -3, -6, -5],[+2, -4]]"
   ]
  },
  {
   "cell_type": "code",
   "execution_count": 468,
   "metadata": {},
   "outputs": [
    {
     "data": {
      "text/plain": [
       "[[2, 6], [4, 8], [5, 12], [7, 3], [9, 1], [11, 10]]"
      ]
     },
     "execution_count": 468,
     "metadata": {},
     "output_type": "execute_result"
    }
   ],
   "source": [
    "ColoredEdges(testP)"
   ]
  },
  {
   "cell_type": "code",
   "execution_count": 230,
   "metadata": {},
   "outputs": [
    {
     "name": "stdout",
     "output_type": "stream",
     "text": [
      "(1, 4), (3, 6), (5, 7), (8, 9), (10, 12), (11, 14), (13, 16), (15, 18), (17, 20), (19, 21), (22, 23), (24, 26), (25, 27), (28, 29), (30, 32), (31, 34), (33, 35), (36, 37), (38, 40), (39, 42), (41, 44), (43, 46), (45, 48), (47, 49), (50, 52), (51, 53), (54, 55), (56, 58), (57, 60), (59, 2), (61, 63), (64, 65), (66, 68), (67, 69), (70, 72), (71, 73), (74, 75), (76, 77), (78, 80), (79, 82), (81, 84), (83, 86), (85, 88), (87, 89), (90, 92), (91, 94), (93, 95), (96, 98), (97, 100), (99, 102), (101, 103), (104, 62), (105, 108), (107, 109), (110, 111), (112, 113), (114, 115), (116, 118), (117, 119), (120, 121), (122, 123), (124, 125), (126, 128), (127, 130), (129, 132), (131, 133), (134, 135), (136, 137), (138, 140), (139, 141), (142, 144), (143, 146), (145, 147), (148, 150), (149, 151), (152, 154), (153, 155), (156, 158), (157, 106), (159, 161), (162, 164), (163, 165), (166, 168), (167, 170), (169, 171), (172, 173), (174, 176), (175, 178), (177, 179), (180, 182), (181, 183), (184, 185), (186, 187), (188, 190), (189, 191), (192, 193), (194, 195), (196, 198), (197, 200), (199, 202), (201, 204), (203, 205), (206, 207), (208, 210), (209, 211), (212, 160), (214, 215), (216, 217), (218, 220), (219, 222), (221, 224), (223, 226), (225, 228), (227, 230), (229, 231), (232, 233), (234, 235), (236, 238), (237, 240), (239, 241), (242, 243), (244, 246), (245, 247), (248, 249), (250, 252), (251, 253), (254, 255), (256, 258), (257, 259), (260, 261), (262, 263), (264, 266), (265, 268), (267, 269), (270, 271), (272, 274), (273, 213), (276, 278), (277, 279), (280, 282), (281, 284), (283, 285), (286, 288), (287, 289), (290, 292), (291, 294), (293, 295), (296, 297), (298, 299), (300, 301), (302, 303), (304, 306), (305, 307), (308, 310), (309, 312), (311, 314), (313, 315), (316, 318), (317, 320), (319, 322), (321, 324), (323, 326), (325, 327), (328, 329), (330, 331), (332, 334), (333, 336), (335, 275), (338, 340), (339, 342), (341, 343), (344, 345), (346, 348), (347, 350), (349, 351), (352, 353), (354, 356), (355, 357), (358, 359), (360, 362), (361, 364), (363, 365), (366, 368), (367, 370), (369, 371), (372, 374), (373, 376), (375, 377), (378, 337), (380, 381), (382, 383), (384, 386), (385, 388), (387, 390), (389, 391), (392, 394), (393, 396), (395, 397), (398, 400), (399, 402), (401, 403), (404, 406), (405, 407), (408, 410), (409, 411), (412, 414), (413, 416), (415, 418), (417, 420), (419, 421), (422, 424), (423, 379)\n"
     ]
    }
   ],
   "source": [
    "with open(\"./Desktop/57_test.txt\") as file:\n",
    "    for line in file:\n",
    "        string = line.rstrip(\"\\n\")\n",
    "        string = string[1:-1]\n",
    "        string_list = string.split(\")(\")\n",
    "        numbers=[list(map(int, a.split(\" \"))) for a in string_list]\n",
    "        Edges= ColoredEdges(numbers)\n",
    "        print(', '.join(\"(%d, %d)\"%(p[0], p[1]) for p in Edges))\n",
    "        #numbers = list(map(int, string.split(\")(\")))\n",
    "        #CycleToChromosome(numbers)"
   ]
  },
  {
   "cell_type": "code",
   "execution_count": 294,
   "metadata": {
    "collapsed": true
   },
   "outputs": [],
   "source": [
    "a= [-2,-3,1]"
   ]
  },
  {
   "cell_type": "code",
   "execution_count": 297,
   "metadata": {},
   "outputs": [
    {
     "data": {
      "text/plain": [
       "[1, -2, -3]"
      ]
     },
     "execution_count": 297,
     "metadata": {},
     "output_type": "execute_result"
    }
   ],
   "source": [
    "sorted(a, key=abs)"
   ]
  },
  {
   "cell_type": "code",
   "execution_count": 302,
   "metadata": {
    "collapsed": true
   },
   "outputs": [],
   "source": [
    "edges=[[2, 4], [3, 6], [5, 1], [7, 9], [10, 12], [11, 8]]"
   ]
  },
  {
   "cell_type": "code",
   "execution_count": 305,
   "metadata": {},
   "outputs": [
    {
     "data": {
      "text/plain": [
       "[[1, -2, -3], [-4, 5, -6]]"
      ]
     },
     "execution_count": 305,
     "metadata": {},
     "output_type": "execute_result"
    }
   ],
   "source": [
    "GraphToGenome(edges)"
   ]
  },
  {
   "cell_type": "code",
   "execution_count": 358,
   "metadata": {
    "collapsed": true
   },
   "outputs": [],
   "source": [
    "def TwoBreakOnGenomeGraph(Edges, i_1, i_2, j_1, j_2):\n",
    "    for i in range(len(Edges)):\n",
    "        edge = Edges[i]\n",
    "        if (edge[0] == i_1 and edge[1] == i_2) or (edge[0] == i_2 and edge[1] == i_1):\n",
    "            Edges = Edges[:i] + [[i_1, j_1]] + Edges[i+1:]   \n",
    "        if (edge[0] == j_1 and edge[1] == j_2) or (edge[0] == j_2 and edge[1] == j_1):\n",
    "            Edges = Edges[:i] + [[i_2, j_2]] + Edges[i+1:]   \n",
    "    return Edges\n",
    "           \n",
    "                \n",
    "            \n",
    "            \n",
    "    "
   ]
  },
  {
   "cell_type": "code",
   "execution_count": 362,
   "metadata": {},
   "outputs": [
    {
     "name": "stdout",
     "output_type": "stream",
     "text": [
      "(2, 3), (4, 5), (6, 7), (8, 10), (9, 12), (11, 14), (13, 16), (15, 18), (17, 19), (20, 21), (112, 23), (24, 26), (25, 28), (27, 30), (29, 32), (31, 33), (34, 35), (36, 38), (37, 40), (39, 41), (42, 43), (44, 45), (46, 47), (48, 49), (50, 51), (52, 54), (53, 55), (56, 57), (58, 59), (60, 61), (62, 64), (63, 65), (66, 68), (67, 70), (69, 72), (71, 74), (73, 75), (76, 77), (78, 80), (79, 82), (81, 83), (84, 86), (85, 88), (87, 90), (89, 92), (91, 93), (94, 95), (96, 98), (97, 99), (100, 101), (102, 103), (104, 105), (106, 108), (107, 110), (109, 22), (111, 114), (113, 115), (116, 118), (117, 119), (120, 121), (122, 123), (124, 125), (126, 128), (127, 1)\n"
     ]
    }
   ],
   "source": [
    "with open(\"./Desktop/test_59.txt\") as file:\n",
    "    count = 0\n",
    "    edges = []\n",
    "    i_1 = 0\n",
    "    i_2 = 0\n",
    "    j_1 = 0\n",
    "    j_2 = 0\n",
    "    for line in file:\n",
    "        count += 1\n",
    "        if count == 1:\n",
    "            string = line.rstrip(\"\\n\")\n",
    "            string = string[1:-1]\n",
    "            string_list = string.split(\"), (\")\n",
    "            edges = [[int(a.split(\", \")[0]), int(a.split(\", \")[1])] for a in string_list]   \n",
    "        if count == 2:\n",
    "            numbers = list(map(int, line.rstrip(\"\\n\").split(\", \")))\n",
    "            i_1 = numbers[0]\n",
    "            i_2 = numbers[1]\n",
    "            j_1 = numbers[2]\n",
    "            j_2 = numbers[3]\n",
    "    result = TwoBreakOnGenomeGraph(edges, i_1, i_2, j_1, j_2)\n",
    "    print(', '.join(\"(%d, %d)\"%(p[0], p[1]) for p in result))\n",
    "    \n",
    "    \n",
    "    "
   ]
  },
  {
   "cell_type": "code",
   "execution_count": 350,
   "metadata": {},
   "outputs": [
    {
     "name": "stdout",
     "output_type": "stream",
     "text": [
      "[2, 4]\n",
      "[3, 8]\n",
      "[7, 5]\n",
      "[6, 1]\n"
     ]
    },
    {
     "data": {
      "text/plain": [
       "[[2, 4], [6, 8], [7, 5], [1, 3]]"
      ]
     },
     "execution_count": 350,
     "metadata": {},
     "output_type": "execute_result"
    }
   ],
   "source": [
    "edges = [[2, 4], [3, 8], [7, 5], [6, 1]]\n",
    "TwoBreakOnGenomeGraph(edges, 1, 6, 3, 8)"
   ]
  },
  {
   "cell_type": "code",
   "execution_count": 338,
   "metadata": {},
   "outputs": [
    {
     "data": {
      "text/plain": [
       "[[1, 2], [5, 6], [3, 7]]"
      ]
     },
     "execution_count": 338,
     "metadata": {},
     "output_type": "execute_result"
    }
   ],
   "source": [
    "a= [[1,2],[3,4],[5,6]]\n",
    "for i in range(len(a)):\n",
    "    edge = a[i]\n",
    "    if (edge[0] == 3 and edge[1] == 4) or (edge[1] == 3 and edge[0] ==4):\n",
    "        a.pop(i)\n",
    "        a.append([3,7])\n",
    "a"
   ]
  },
  {
   "cell_type": "code",
   "execution_count": 403,
   "metadata": {
    "collapsed": true
   },
   "outputs": [],
   "source": [
    "def TwoBreakOnGenome(P, i_1, i_2, j_1, j_2):\n",
    "    coloredEdges = ColoredEdgesOnGenome(P)\n",
    "    result = TwoBreakOnGenomeGraph(coloredEdges, i_1, i_2, j_1, j_2)\n",
    "    genome = GraphToGenome(result)\n",
    "    return genome"
   ]
  },
  {
   "cell_type": "code",
   "execution_count": 368,
   "metadata": {
    "collapsed": true
   },
   "outputs": [],
   "source": [
    "def ColoredEdgesOnGenome(P):\n",
    "    Edges = []\n",
    "    Nodes = ChromosomeToCycle(P)\n",
    "    for i in range(len(P)):\n",
    "        edge = [Nodes[2*i-1], Nodes[2*i]]\n",
    "        Edges.append(edge)\n",
    "    Edges = sorted(Edges)\n",
    "    return Edges"
   ]
  },
  {
   "cell_type": "code",
   "execution_count": 396,
   "metadata": {
    "collapsed": true
   },
   "outputs": [],
   "source": [
    "p = [+1,-2,-4,+3]"
   ]
  },
  {
   "cell_type": "code",
   "execution_count": 397,
   "metadata": {},
   "outputs": [
    {
     "name": "stdout",
     "output_type": "stream",
     "text": [
      "[[2, 4], [6, 8], [1, 3], [7, 5]]\n",
      "{1: -2, 2: -1, 3: -4, 4: -3, -1: 2, -2: 1, -4: 3, -3: 4}\n",
      "{1, 2, 3, 4}\n",
      "[[1, -2], [3, -4]]\n"
     ]
    }
   ],
   "source": [
    "TwoBreakOnGenome(p, 1,6,3,8)"
   ]
  },
  {
   "cell_type": "code",
   "execution_count": 408,
   "metadata": {},
   "outputs": [
    {
     "name": "stdout",
     "output_type": "stream",
     "text": [
      "(+1 -2 -3 +4 -5 -6 -7 -8 +9 +10 -11 -12 +13 -14 -15 +16 -17 +20 -21 +22 +23 -24 +25 +26 -27 +28 +29 -30 +31 -32 -33 +34 -35 +36 +37 -38 -39 -40 -41 -42 +43 +44 +45 +46 -47 -48 +49 +50 -51 -52 +53 -54 -55 +56 +57 -58 -59 -60 -61 +62 +63 -64 -65 -66 -67)(+18 -19)"
     ]
    }
   ],
   "source": [
    "with open(\"./Desktop/test_60.txt\") as file:\n",
    "    count = 0\n",
    "    P = []\n",
    "    i_1 = 0\n",
    "    i_2 = 0\n",
    "    j_1 = 0\n",
    "    j_2 = 0\n",
    "    for line in file:\n",
    "        count += 1\n",
    "        if count == 1:\n",
    "            string = line.rstrip(\"\\n\")\n",
    "            string = string[1:-1]\n",
    "            P = list(map(int, string.split(\" \")))\n",
    "        if count == 2:\n",
    "            numbers = list(map(int, line.rstrip(\"\\n\").split(\", \")))\n",
    "            i_1 = numbers[0]\n",
    "            i_2 = numbers[1]\n",
    "            j_1 = numbers[2]\n",
    "            j_2 = numbers[3]\n",
    "    results = TwoBreakOnGenome(P, i_1, i_2, j_1, j_2)\n",
    "    for result in results:\n",
    "        print(\"(%s)\"%' '.join(map(\"{0:+}\".format, result)), end=\"\")"
   ]
  },
  {
   "cell_type": "code",
   "execution_count": 401,
   "metadata": {
    "collapsed": true
   },
   "outputs": [],
   "source": [
    "def GraphToGenome(Edges):\n",
    "    block_graph = {}\n",
    "    Blocks = set() \n",
    "    for edge in Edges:\n",
    "        node1 = edge[0]\n",
    "        node2 = edge[1]\n",
    "        block1 = int((node1+1)/2)\n",
    "        if 2*block1-1 == node1:\n",
    "            block1 = -block1\n",
    "        block2 = int((node2+1)/2)\n",
    "        if 2*block2 == node2:\n",
    "            block2 = -block2\n",
    "        block_graph[block1] = block2\n",
    "        block_graph[-block2] = -block1\n",
    "        Blocks.add(abs(block1))\n",
    "        Blocks.add(abs(block2))\n",
    "    Cycles = []\n",
    "    while len(Blocks) > 0:\n",
    "        s = Blocks.pop()\n",
    "        v = s\n",
    "        cycle = [v]\n",
    "        while block_graph[v] != s:\n",
    "            v = block_graph[v]\n",
    "            cycle.append(v)\n",
    "            Blocks = Blocks - {abs(v)}\n",
    "        Cycles.append(sorted(cycle, key=abs))\n",
    "    return Cycles"
   ]
  },
  {
   "cell_type": "code",
   "execution_count": 409,
   "metadata": {
    "collapsed": true
   },
   "outputs": [],
   "source": [
    "p = [[2, 4], [3, 6], [5, 1], [7, 9], [10, 12], [11, 8]]"
   ]
  },
  {
   "cell_type": "code",
   "execution_count": 410,
   "metadata": {},
   "outputs": [
    {
     "data": {
      "text/plain": [
       "[[1, -2, -3], [4, -5, 6]]"
      ]
     },
     "execution_count": 410,
     "metadata": {},
     "output_type": "execute_result"
    }
   ],
   "source": [
    " GraphToGenome(p)"
   ]
  },
  {
   "cell_type": "code",
   "execution_count": 411,
   "metadata": {},
   "outputs": [
    {
     "name": "stdout",
     "output_type": "stream",
     "text": [
      "(+1 -2 -3 +4 -5 -6 +7 -8 +9 -10 -11 -12 +13 +14 +15 +16 -17 -18 -19 -20 -21 +22 -23)(+24 -25 -26 -27 -28 -29 +30 +31 +32 +33 +34 -35 -36 -37 +38 +39 -40 +41 +42 +43 -44 -45 -46 +47 -48 +49)(+50 -51 +52 -53 -54 +55 -56 +57 +58 +59 +60 +61 +62 -63 +64 -65 +66 +67 +68 +69 -70 +71 +72 -73 +74 +75 +76 -77 -78)(+79 +80 -81 +82 -83 +84 -85 -86 -87 -88 -89 +90 +91 -92 -93 +94 -95 +96 +97 +98 +99 +100 -101 +102 -103 +104 +105)(+106 -107 +108 -109 -110 +111 +112 -113 +114 +115 +116 -117 -118 +119 +120 +121 -122 -123 +124 -125 -126 -127 -128 -129 +130 -131 +132 +133 +134)(+135 +136 -137 +138 -139 +140 +141 +142 -143 +144 -145 +146 -147 -148 -149 +150 -151 +152 +153 -154 +155 +156 +157 -158 -159)(+160 -161 +162 +163 +164 +165 -166 -167 -168 +169 -170 +171 -172 +173 +174 +175 +176 -177 -178 -179 -180 -181)(-182 +183 +184 -185 -186 +187 -188 -189 +190 -191 +192 +193 +194 -195 -196 +197 +198 -199 -200 -201 +202 +203 -204 -205)"
     ]
    }
   ],
   "source": [
    "with open(\"./Desktop/test_58.txt\") as file:\n",
    "    for line in file:\n",
    "        string = line.rstrip(\"\\n\")\n",
    "        string = string[1:-1]\n",
    "        string_list = string.split(\"), (\")\n",
    "        edges = [[int(a.split(\", \")[0]), int(a.split(\", \")[1])] for a in string_list]\n",
    "        results = GraphToGenome(edges)\n",
    "        for result in results:\n",
    "            print(\"(%s)\"%' '.join(map(\"{0:+}\".format, result)), end=\"\")"
   ]
  },
  {
   "cell_type": "code",
   "execution_count": 648,
   "metadata": {
    "collapsed": true
   },
   "outputs": [],
   "source": [
    "def TwoBreakOnGenome(P, i_1, i_2, j_1, j_2):\n",
    "    coloredEdges = ColoredEdges(P)\n",
    "    result = TwoBreakOnGenomeGraph(coloredEdges, i_1, i_2, j_1, j_2)\n",
    "    #print(result)\n",
    "    genome = GraphToGenome(result)\n",
    "    return genome"
   ]
  },
  {
   "cell_type": "code",
   "execution_count": 672,
   "metadata": {},
   "outputs": [],
   "source": [
    "def ShortestRearrangementScenario(P, Q):\n",
    "    for read in P:\n",
    "        print(\"(%s)\"%' '.join(map(\"{0:+}\".format, read)), end=\"\")\n",
    "    print(\"\\n\")\n",
    "    red_graph = {}\n",
    "    blue_graph = {}\n",
    "    RedEdges = ColoredEdges(P)\n",
    "    for edge in RedEdges:\n",
    "        node1 = edge[0]\n",
    "        node2 = edge[1]\n",
    "        red_graph[node1] = node2\n",
    "        red_graph[node2] = node1  \n",
    "    BlueEdges= ColoredEdges(Q)\n",
    "    for edge in BlueEdges:\n",
    "        node1 = edge[0]\n",
    "        node2 = edge[1]\n",
    "        blue_graph[node1] = node2\n",
    "        blue_graph[node2] = node1\n",
    "    AllEdges = RedEdges + BlueEdges\n",
    "    Cycles, count = FindAllCycles(AllEdges) \n",
    "    while len(Cycles) > 0:\n",
    "        cycle = Cycles[0]\n",
    "        index = 0\n",
    "        while blue_graph[cycle[index]] != cycle[index+1]:\n",
    "            index+=1\n",
    "        i_1 = cycle[index]\n",
    "        i_2 = cycle[index+1]\n",
    "        i_3 = cycle[index-1]\n",
    "        i_4 = cycle[index+2]\n",
    "        P = TwoBreakOnGenome(P, i_1, i_3, i_2, i_4)\n",
    "        for read in P:\n",
    "            print(\"(%s)\"%' '.join(map(\"{0:+}\".format, read)), end=\"\")\n",
    "        print(\"\\n\")\n",
    "        RedEdges = ColoredEdges(P)\n",
    "        AllEdges = RedEdges + BlueEdges\n",
    "        Cycles, count = FindAllCycles(AllEdges)\n",
    "        #print(Cycles, count)\n",
    "     "
   ]
  },
  {
   "cell_type": "code",
   "execution_count": 645,
   "metadata": {
    "collapsed": true
   },
   "outputs": [],
   "source": [
    "def GraphToGenome(Edges):\n",
    "    block_graph = {}\n",
    "    Blocks = set() \n",
    "    for edge in Edges:\n",
    "        node1 = edge[0]\n",
    "        node2 = edge[1]\n",
    "        block1 = int((node1+1)/2)\n",
    "        if 2*block1-1 == node1:\n",
    "            block1 = -block1\n",
    "        block2 = int((node2+1)/2)\n",
    "        if 2*block2 == node2:\n",
    "            block2 = -block2\n",
    "        block_graph[block1] = block2\n",
    "        block_graph[-block2] = -block1\n",
    "        Blocks.add(abs(block1))\n",
    "        Blocks.add(abs(block2))\n",
    "    Cycles = []\n",
    "    while len(Blocks) > 0:\n",
    "        s = Blocks.pop()\n",
    "        v = s\n",
    "        cycle = [v]\n",
    "        while block_graph[v] != s:\n",
    "            v = block_graph[v]\n",
    "            cycle.append(v)\n",
    "            Blocks = Blocks - {abs(v)}\n",
    "        Cycles.append(cycle)\n",
    "    return Cycles"
   ]
  },
  {
   "cell_type": "code",
   "execution_count": 666,
   "metadata": {},
   "outputs": [
    {
     "name": "stdout",
     "output_type": "stream",
     "text": [
      "(+1 -2 -3 +4 +5 +6 -7 -8 -9 -10 +11 -12 -13 +14 +15 -16 +17 -18 -19 +20 +21)(+22 +48 -47 -46 -45 +44 +43 -42 +41 +40 +39 +38 +37 -36 +35 -34 -33 +32 +31 +30 +29 +28 -27 -26 -25 +24 -23)(+49 -50 +51 -52 +53 +54 -55 -56 -57 +58 +59 +60 +61 +62 +63 -64 -65 -66 -67 -68 +69)(+70 +71 +72 -73 +74 +75 +76 +77 -78 +79 +80 -81 -82 +83 +84 +85 -86 +87 -88 -89 -90 -91 -92 +93 +94 +95 -96 -97 -98)(+99 -100 -101 +102 +103 +104 -105 +106 +107 +108 +109 -110 -111 +112 +113 +114 -115 -116 +117 -118 -119 -120 +121 +122 -123 +124 -125 -126 +127)(+128 +129 +130 -131 +132 +133 +134 -135 +136 +137 -138 +139 -140 -141 -142 +143 -144 -145 +146 +147 +148 +149 +150)(+151 -180 -179 +178 -177 -176 -175 -174 +173 +172 +171 +170 +169 -168 -167 -166 -165 +164 -163 +162 +161 -160 -159 +158 -157 +156 -155 -154 +153 -152)"
     ]
    }
   ],
   "source": [
    "with open(\"./Desktop/test_58.txt\") as file:\n",
    "    for line in file:\n",
    "        string = line.rstrip(\"\\n\")\n",
    "        string = string[1:-1]\n",
    "        string_list = string.split(\"), (\")\n",
    "        edges = [[int(a.split(\", \")[0]), int(a.split(\", \")[1])] for a in string_list]\n",
    "        results = GraphToGenome(edges)\n",
    "        for result in results:\n",
    "            print(\"(%s)\"%' '.join(map(\"{0:+}\".format, result)), end=\"\")"
   ]
  },
  {
   "cell_type": "code",
   "execution_count": 651,
   "metadata": {},
   "outputs": [
    {
     "name": "stdout",
     "output_type": "stream",
     "text": [
      "[[9, -8, 12, 7, 1, -14, 13, 3, -5, -11, 6, -2, 10, -4]]\n",
      "[[1], [2, -6, 11, 5, -3, -13, 14, -7, -12, 8, -9, 4, -10]]\n",
      "[[1, 14, -7, -12, 8, -9, 4, -10, 2, -6, 11, 5, -3, -13]]\n",
      "[[1, 14, -7, -12, 8, -9, 4, 13, 3, -5, -11, 6, -2, 10]]\n",
      "[[1, 14, -7, -12, 8, -10, 2, -6, 11, 5, -3, -13, -4, 9]]\n",
      "[[1, 14, -7, -12, 8, -10, 2, -6, 11], [3, -5, -9, 4, 13]]\n",
      "[[1, 14, -7, -12, 8, -10, -2, -6, 11], [3, -5, -9, 4, 13]]\n",
      "[[1, 14, -7, -12, -6, 11], [2, 10, -8], [3, -5, -9, 4, 13]]\n",
      "[[1, 14, -7, -12, -6, 11], [2, 10, -8, -13, -4, 9, 5, -3]]\n",
      "[[1, 14, -7, -5, -9, 4, 13, 8, -10, -2, 3, -12, -6, 11]]\n",
      "[[1, 14, -7, -5, -9, -12, -6, 11], [2, 10, -8, -13, -4, -3]]\n",
      "[[1, 14, -7, -5, -9, -12, -6, -13, -4, -3, 2, 10, -8, 11]]\n"
     ]
    }
   ],
   "source": [
    "\n",
    "P=[[+9, -8, +12, +7, +1, -14, +13, +3, -5, -11, +6, -2, +10, -4]]\n",
    "Q=[[-11,+8,-10,-2,+3,+4,+13,+6,+12 ,+9,+5,+7,-14,-1]]\n",
    "ShortestRearrangementScenario(P, Q)"
   ]
  },
  {
   "cell_type": "code",
   "execution_count": 674,
   "metadata": {},
   "outputs": [
    {
     "name": "stdout",
     "output_type": "stream",
     "text": [
      "(+7 -1 +10 -13 -2 -6 -8 -9 -3 -4 -5 +11 -12)\n",
      "\n",
      "(+1 -7 +12 -11 +5 +4 +3 +9 +8)(+2 +13 -10 +6)\n",
      "\n",
      "(+1 +13 -10 +6 +2 -7 +12 -11 +5 +4 +3 +9 +8)\n",
      "\n",
      "(+1 +13 -10 +6 +3 +9 +8)(+2 -7 +12 -11 +5 +4)\n",
      "\n",
      "(+1 +13 -10 +6 +3 +9 +8)(+2 -7 +12 -11 +5 -4)\n",
      "\n",
      "(+1 +13 -10 +6 +3 +2 -7 +12 -11 +5 -4 +9 +8)\n",
      "\n",
      "(+1 +13 -2 -3 -6 +10 -7 +12 -11 +5 -4 +9 +8)\n",
      "\n",
      "(+1 +13 -2 -3 -6 +11 -12 +7 -10 +5 -4 +9 +8)\n",
      "\n",
      "(+1 +13 -2 -3 -6 -9 +4 -5 +10 -7 +12 -11 +8)\n",
      "\n",
      "(+1 +13 -2 -3 -6 -9 +4 -5 +10 -7 -12 -11 +8)\n",
      "\n",
      "(+1 +13 -2 -3 -6 -9 +4 -5 +10 +12 +7 -11 +8)\n",
      "\n",
      "(+1 +13 -2 -3 -6 -9 +4 -5 +10 +12 +7 +11 +8)\n",
      "\n"
     ]
    }
   ],
   "source": [
    "with open(\"./Desktop/test_53.txt\") as file:\n",
    "    Ps = []\n",
    "    Qs = []\n",
    "    count = 0\n",
    "    for line in file:\n",
    "        count += 1\n",
    "        string = line.rstrip(\"\\n\")\n",
    "        string = string[1:-1]\n",
    "        string_list = string.split(\")(\")\n",
    "        if count == 1:\n",
    "            Ps = [list(map(int, a.split(\" \"))) for a in string_list]\n",
    "        if count == 2:\n",
    "            Qs = [list(map(int, a.split(\" \"))) for a in string_list]\n",
    "    ShortestRearrangementScenario(Ps, Qs)"
   ]
  },
  {
   "cell_type": "code",
   "execution_count": 594,
   "metadata": {},
   "outputs": [
    {
     "data": {
      "text/plain": [
       "[[1], [2, 3, -4]]"
      ]
     },
     "execution_count": 594,
     "metadata": {},
     "output_type": "execute_result"
    }
   ],
   "source": [
    "test=[[8, 4], [3, 6], [5, 7], [1, 2]]\n",
    "GraphToGenome(test)"
   ]
  },
  {
   "cell_type": "code",
   "execution_count": 570,
   "metadata": {},
   "outputs": [
    {
     "ename": "TypeError",
     "evalue": "object of type 'int' has no len()",
     "output_type": "error",
     "traceback": [
      "\u001b[1;31m---------------------------------------------------------------------------\u001b[0m",
      "\u001b[1;31mTypeError\u001b[0m                                 Traceback (most recent call last)",
      "\u001b[1;32m<ipython-input-570-9817100cfcd8>\u001b[0m in \u001b[0;36m<module>\u001b[1;34m()\u001b[0m\n\u001b[0;32m      2\u001b[0m \u001b[0mb\u001b[0m \u001b[1;33m=\u001b[0m \u001b[1;33m{\u001b[0m\u001b[1;36m3\u001b[0m\u001b[1;33m:\u001b[0m\u001b[1;36m4\u001b[0m\u001b[1;33m,\u001b[0m \u001b[1;36m4\u001b[0m\u001b[1;33m:\u001b[0m\u001b[1;36m3\u001b[0m\u001b[1;33m}\u001b[0m\u001b[1;33m\u001b[0m\u001b[0m\n\u001b[0;32m      3\u001b[0m \u001b[0mc\u001b[0m\u001b[1;33m=\u001b[0m\u001b[1;33m{\u001b[0m\u001b[1;33m**\u001b[0m\u001b[0ma\u001b[0m\u001b[1;33m,\u001b[0m \u001b[1;33m**\u001b[0m\u001b[0mb\u001b[0m\u001b[1;33m}\u001b[0m\u001b[1;33m\u001b[0m\u001b[0m\n\u001b[1;32m----> 4\u001b[1;33m \u001b[0mFindAllCyclesFromDictGraph\u001b[0m\u001b[1;33m(\u001b[0m\u001b[0mc\u001b[0m\u001b[1;33m)\u001b[0m\u001b[1;33m\u001b[0m\u001b[0m\n\u001b[0m",
      "\u001b[1;32m<ipython-input-568-1568f5e873ba>\u001b[0m in \u001b[0;36mFindAllCyclesFromDictGraph\u001b[1;34m(node_graph)\u001b[0m\n\u001b[0;32m      7\u001b[0m     \u001b[0mtrivial_count\u001b[0m \u001b[1;33m=\u001b[0m \u001b[1;36m0\u001b[0m\u001b[1;33m\u001b[0m\u001b[0m\n\u001b[0;32m      8\u001b[0m     \u001b[1;32mfor\u001b[0m \u001b[0mnode\u001b[0m \u001b[1;32min\u001b[0m \u001b[0mnode_graph\u001b[0m\u001b[1;33m:\u001b[0m\u001b[1;33m\u001b[0m\u001b[0m\n\u001b[1;32m----> 9\u001b[1;33m         \u001b[1;32mif\u001b[0m \u001b[0mlen\u001b[0m\u001b[1;33m(\u001b[0m\u001b[0mnode_graph\u001b[0m\u001b[1;33m[\u001b[0m\u001b[0mnode\u001b[0m\u001b[1;33m]\u001b[0m\u001b[1;33m)\u001b[0m \u001b[1;33m==\u001b[0m \u001b[1;36m1\u001b[0m\u001b[1;33m:\u001b[0m\u001b[1;33m\u001b[0m\u001b[0m\n\u001b[0m\u001b[0;32m     10\u001b[0m             \u001b[0mNodes\u001b[0m \u001b[1;33m=\u001b[0m \u001b[0mNodes\u001b[0m \u001b[1;33m-\u001b[0m \u001b[1;33m{\u001b[0m\u001b[0mnode\u001b[0m\u001b[1;33m}\u001b[0m\u001b[1;33m\u001b[0m\u001b[0m\n\u001b[0;32m     11\u001b[0m             \u001b[0mtrivial_count\u001b[0m \u001b[1;33m+=\u001b[0m \u001b[1;36m1\u001b[0m\u001b[1;33m\u001b[0m\u001b[0m\n",
      "\u001b[1;31mTypeError\u001b[0m: object of type 'int' has no len()"
     ]
    }
   ],
   "source": [
    "a = {1:2, 2:1}\n",
    "b = {3:4, 4:3}\n",
    "c={**a, **b}\n",
    "FindAllCyclesFromDictGraph(c)"
   ]
  },
  {
   "cell_type": "code",
   "execution_count": 540,
   "metadata": {},
   "outputs": [
    {
     "data": {
      "text/plain": [
       "{2: 1}"
      ]
     },
     "execution_count": 540,
     "metadata": {},
     "output_type": "execute_result"
    }
   ],
   "source": [
    "del(a[1])\n",
    "a"
   ]
  },
  {
   "cell_type": "code",
   "execution_count": 509,
   "metadata": {
    "collapsed": true
   },
   "outputs": [],
   "source": [
    "def FindAllCycles(Edges):\n",
    "    Nodes = set()\n",
    "    node_graph = {}\n",
    "    Cycles = []\n",
    "    for edge in Edges:\n",
    "        node1 = edge[0]\n",
    "        node2 = edge[1]\n",
    "        if node1 not in node_graph.keys():\n",
    "            node_graph[node1] = set()\n",
    "        node_graph[node1].add(node2)\n",
    "        if node2 not in node_graph.keys():\n",
    "            node_graph[node2] = set()\n",
    "        node_graph[node2].add(node1)\n",
    "        Nodes.add(node1)\n",
    "        Nodes.add(node2)\n",
    "    #find all trivial cycles\n",
    "    trivial_count = 0\n",
    "    for node in node_graph:\n",
    "        if len(node_graph[node]) == 1:\n",
    "            Nodes = Nodes - {node}\n",
    "            trivial_count += 1\n",
    "    trivial_count = int(trivial_count/2)\n",
    "              \n",
    "    while len(Nodes) > 0:\n",
    "        s = Nodes.pop()\n",
    "        cycle = [s]\n",
    "        v = node_graph[s].pop()\n",
    "        cycle.append(v)\n",
    "        Nodes = Nodes - {v}\n",
    "        node_graph[v] = node_graph[v] - {s}\n",
    "        n =  node_graph[v].pop()\n",
    "        while n != s:\n",
    "            cycle.append(n)\n",
    "            Nodes = Nodes - {n}\n",
    "            node_graph[n] = node_graph[n] - {v}\n",
    "            v = n\n",
    "            n = node_graph[v].pop()\n",
    "        Cycles.append(cycle)\n",
    "    return (Cycles, len(Cycles) + trivial_count)          "
   ]
  },
  {
   "cell_type": "code",
   "execution_count": 514,
   "metadata": {
    "collapsed": true
   },
   "outputs": [],
   "source": [
    "def TwoBreakDistance(Ps, Qs):\n",
    "    numberOfBlocks = 0\n",
    "    for read in Ps:\n",
    "        numberOfBlocks += len(read)\n",
    "    RedEdges = ColoredEdges(Ps)\n",
    "    BlueEdges = ColoredEdges(Qs)\n",
    "    AllEdges = RedEdges + BlueEdges\n",
    "    Cycles, count = FindAllCycles(AllEdges)\n",
    "    \n",
    "    return numberOfBlocks-count\n",
    "    "
   ]
  },
  {
   "cell_type": "code",
   "execution_count": 517,
   "metadata": {},
   "outputs": [
    {
     "name": "stdout",
     "output_type": "stream",
     "text": [
      "14775\n"
     ]
    }
   ],
   "source": [
    "with open(\"./Desktop/test_52.txt\") as file:\n",
    "    Ps = []\n",
    "    Qs = []\n",
    "    count = 0\n",
    "    for line in file:\n",
    "        count += 1\n",
    "        string = line.rstrip(\"\\n\")\n",
    "        string = string[1:-1]\n",
    "        string_list = string.split(\")(\")\n",
    "        if count == 1:\n",
    "            Ps = [list(map(int, a.split(\" \"))) for a in string_list]\n",
    "        if count == 2:\n",
    "            Qs = [list(map(int, a.split(\" \"))) for a in string_list]\n",
    "    print(TwoBreakDistance(Ps, Qs))"
   ]
  },
  {
   "cell_type": "code",
   "execution_count": 504,
   "metadata": {
    "collapsed": true
   },
   "outputs": [],
   "source": [
    "Ps =[[+1, +2, +3, +4, +5, +6]]\n",
    "Qs =[[+1, -3, -6, -5],[+2, -4]]"
   ]
  },
  {
   "cell_type": "code",
   "execution_count": 515,
   "metadata": {},
   "outputs": [
    {
     "data": {
      "text/plain": [
       "3"
      ]
     },
     "execution_count": 515,
     "metadata": {},
     "output_type": "execute_result"
    }
   ],
   "source": [
    "TwoBreakDistance(Ps, Qs)"
   ]
  },
  {
   "cell_type": "code",
   "execution_count": 713,
   "metadata": {
    "collapsed": true
   },
   "outputs": [],
   "source": [
    "a= {1,2,3,4,5}\n",
    "b ={1,3,5}"
   ]
  },
  {
   "cell_type": "code",
   "execution_count": null,
   "metadata": {
    "collapsed": true
   },
   "outputs": [],
   "source": []
  },
  {
   "cell_type": "code",
   "execution_count": 770,
   "metadata": {},
   "outputs": [],
   "source": [
    "def AllSharedKmers(k, P, Q):\n",
    "    m = len(P)-k+1\n",
    "    n= len(Q)-k+1\n",
    "    for i in range(m):\n",
    "        pattern = P[i:i+k]\n",
    "        cpattern = Complimentary(pattern)\n",
    "        for j in range(n):\n",
    "            qpattern = Q[j:j+k] \n",
    "            if pattern == qpattern or cpattern == qpattern:\n",
    "                print(\"(\" + str(i) + \", \"+ str(j) + \")\")  "
   ]
  },
  {
   "cell_type": "code",
   "execution_count": 757,
   "metadata": {
    "collapsed": true
   },
   "outputs": [],
   "source": [
    "def AllSharedKmers2(k, P, Q):\n",
    "    m = len(P)-k+1\n",
    "    n= len(Q)-k+1\n",
    "    for i in range(n):\n",
    "        pattern = Q[i:i+k]\n",
    "        cpattern = Complimentary(pattern)\n",
    "        for j in range(m):\n",
    "            ppattern = P[j:j+k] \n",
    "            if pattern == ppattern or cpattern == ppattern:\n",
    "                print(\"(\" + str(j) + \", \"+ str(i) + \")\")  "
   ]
  },
  {
   "cell_type": "code",
   "execution_count": 771,
   "metadata": {},
   "outputs": [],
   "source": [
    "def Complimentary(pattern):\n",
    "    output = \"\"\n",
    "    for nt in pattern:\n",
    "        if nt == \"A\":\n",
    "            output = \"T\" + output\n",
    "        elif nt == \"C\":\n",
    "            output = \"G\" + output\n",
    "        elif nt == \"G\":\n",
    "            output = \"C\" + output\n",
    "        elif nt == \"T\":\n",
    "            output = \"A\" + output\n",
    "    return output"
   ]
  },
  {
   "cell_type": "code",
   "execution_count": 772,
   "metadata": {},
   "outputs": [
    {
     "name": "stdout",
     "output_type": "stream",
     "text": [
      "(74601, 100)\n",
      "(25515, 101)\n",
      "(32688, 101)\n",
      "(74602, 101)\n",
      "(32689, 102)\n",
      "(74603, 102)\n",
      "(35138, 114)\n",
      "(20430, 145)\n",
      "(35039, 145)\n",
      "(1328, 163)\n",
      "(17317, 163)\n",
      "(25515, 176)\n",
      "(32688, 176)\n",
      "(74602, 176)\n",
      "(17319, 204)\n",
      "(1329, 205)\n",
      "(17318, 205)\n",
      "(20051, 205)\n",
      "(97930, 365)\n",
      "(97931, 366)\n",
      "(59903, 405)\n",
      "(92269, 405)\n",
      "(85925, 438)\n",
      "(21652, 439)\n",
      "(55592, 439)\n",
      "(85926, 439)\n",
      "(85927, 440)\n",
      "(26470, 452)\n",
      "(81175, 452)\n",
      "(26471, 453)\n",
      "(26472, 454)\n",
      "(933, 489)\n",
      "(13289, 489)\n",
      "(98817, 489)\n",
      "(13290, 490)\n",
      "(98818, 490)\n",
      "(13291, 491)\n",
      "(13292, 492)\n",
      "(13293, 493)\n",
      "(947, 604)\n",
      "(14070, 604)\n",
      "(44318, 604)\n",
      "(946, 605)\n",
      "(14069, 605)\n",
      "(945, 606)\n",
      "(85257, 613)\n",
      "(85256, 614)\n",
      "(85255, 615)\n",
      "(85254, 616)\n",
      "(98025, 625)\n",
      "(98026, 626)\n",
      "(35899, 775)\n",
      "(35898, 776)\n",
      "(1329, 795)\n",
      "(17318, 795)\n",
      "(20051, 795)\n",
      "(17319, 796)\n",
      "(17320, 797)\n",
      "(91997, 866)\n",
      "(25515, 960)\n",
      "(32688, 960)\n",
      "(74602, 960)\n",
      "(4893, 1168)\n",
      "(4575, 1169)\n",
      "(4892, 1169)\n",
      "(79524, 1169)\n",
      "(79523, 1170)\n",
      "(79522, 1171)\n",
      "(79521, 1172)\n",
      "(21652, 1448)\n",
      "(55592, 1448)\n",
      "(85926, 1448)\n",
      "(54934, 1513)\n",
      "(21652, 1532)\n",
      "(55592, 1532)\n",
      "(85926, 1532)\n",
      "(62627, 1576)\n",
      "(62628, 1577)\n",
      "(11694, 1578)\n",
      "(62629, 1578)\n",
      "(11695, 1579)\n",
      "(12571, 1684)\n",
      "(33083, 1684)\n",
      "(83704, 1684)\n",
      "(33084, 1685)\n",
      "(83705, 1685)\n",
      "(83706, 1686)\n",
      "(4575, 1740)\n",
      "(4892, 1740)\n",
      "(79524, 1740)\n",
      "(4574, 1741)\n",
      "(27797, 1928)\n",
      "(57062, 2009)\n",
      "(68317, 2009)\n",
      "(68318, 2010)\n",
      "(12571, 2073)\n",
      "(33083, 2073)\n",
      "(83704, 2073)\n",
      "(946, 2107)\n",
      "(14069, 2107)\n",
      "(947, 2108)\n",
      "(14070, 2108)\n",
      "(44318, 2108)\n",
      "(15991, 2168)\n",
      "(38847, 2168)\n",
      "(60555, 2168)\n",
      "(38846, 2169)\n",
      "(38846, 2315)\n",
      "(38981, 2328)\n",
      "(38980, 2329)\n",
      "(52470, 2380)\n",
      "(90819, 2380)\n",
      "(933, 2678)\n",
      "(13289, 2678)\n",
      "(98817, 2678)\n",
      "(932, 2679)\n",
      "(29485, 2779)\n",
      "(52883, 2779)\n",
      "(29484, 2780)\n",
      "(14262, 2838)\n",
      "(14263, 2839)\n",
      "(11694, 2899)\n",
      "(62629, 2899)\n",
      "(30448, 2981)\n",
      "(51816, 2981)\n",
      "(19477, 2982)\n",
      "(30449, 2982)\n",
      "(51817, 2982)\n",
      "(63483, 3063)\n",
      "(63484, 3064)\n",
      "(91874, 3137)\n",
      "(91875, 3138)\n",
      "(10741, 3145)\n",
      "(26401, 3145)\n",
      "(26400, 3146)\n",
      "(15095, 3185)\n",
      "(46090, 3185)\n",
      "(96831, 3185)\n",
      "(19478, 3199)\n",
      "(19477, 3200)\n",
      "(30449, 3200)\n",
      "(51817, 3200)\n",
      "(20430, 3354)\n",
      "(35039, 3354)\n",
      "(25633, 3520)\n",
      "(52470, 3598)\n",
      "(90819, 3598)\n",
      "(90820, 3599)\n",
      "(90821, 3600)\n",
      "(59146, 3606)\n",
      "(26468, 3610)\n",
      "(26469, 3611)\n",
      "(26470, 3612)\n",
      "(81175, 3612)\n",
      "(81176, 3613)\n",
      "(15095, 3786)\n",
      "(46090, 3786)\n",
      "(96831, 3786)\n",
      "(1251, 3922)\n",
      "(17378, 3922)\n",
      "(79523, 4078)\n",
      "(4575, 4079)\n",
      "(4892, 4079)\n",
      "(79524, 4079)\n",
      "(12571, 4272)\n",
      "(33083, 4272)\n",
      "(83704, 4272)\n",
      "(12572, 4273)\n",
      "(946, 4333)\n",
      "(14069, 4333)\n",
      "(947, 4334)\n",
      "(14070, 4334)\n",
      "(44318, 4334)\n",
      "(57062, 4434)\n",
      "(68317, 4434)\n",
      "(36536, 4476)\n",
      "(1151, 4489)\n",
      "(60554, 4698)\n",
      "(15991, 4699)\n",
      "(38847, 4699)\n",
      "(60555, 4699)\n",
      "(10741, 4731)\n",
      "(26401, 4731)\n",
      "(26400, 4732)\n",
      "(35815, 4843)\n",
      "(15095, 4909)\n",
      "(46090, 4909)\n",
      "(96831, 4909)\n",
      "(96830, 4910)\n",
      "(10569, 4961)\n",
      "(10570, 4962)\n",
      "(1251, 4976)\n",
      "(17378, 4976)\n",
      "(13291, 5007)\n",
      "(13290, 5008)\n",
      "(98818, 5008)\n",
      "(933, 5009)\n",
      "(13289, 5009)\n",
      "(98817, 5009)\n",
      "(98816, 5010)\n",
      "(29488, 5176)\n",
      "(29487, 5177)\n",
      "(29486, 5178)\n",
      "(29485, 5179)\n",
      "(52883, 5179)\n",
      "(50075, 5650)\n"
     ]
    }
   ],
   "source": [
    "file = open(\"./Desktop/test_54.txt\", \"r\")\n",
    "count = 0\n",
    "k = 0\n",
    "P = \"\"\n",
    "Q = \"\"\n",
    "for line in file:\n",
    "    count += 1\n",
    "    if count == 1:\n",
    "        k = int(line.rstrip(\"\\n\"))\n",
    "    elif count == 2:\n",
    "        P = line.rstrip(\"\\n\")\n",
    "    elif count == 3:\n",
    "        Q = line.rstrip(\"\\n\")\n",
    "AllSharedKmers2(k, P, Q)"
   ]
  },
  {
   "cell_type": "code",
   "execution_count": 765,
   "metadata": {},
   "outputs": [
    {
     "data": {
      "text/plain": [
       "17"
      ]
     },
     "execution_count": 765,
     "metadata": {},
     "output_type": "execute_result"
    }
   ],
   "source": [
    "k"
   ]
  },
  {
   "cell_type": "code",
   "execution_count": 767,
   "metadata": {},
   "outputs": [
    {
     "data": {
      "text/plain": [
       "201428"
      ]
     },
     "execution_count": 767,
     "metadata": {},
     "output_type": "execute_result"
    }
   ],
   "source": [
    "len(P)"
   ]
  },
  {
   "cell_type": "code",
   "execution_count": 768,
   "metadata": {},
   "outputs": [
    {
     "data": {
      "text/plain": [
       "21428"
      ]
     },
     "execution_count": 768,
     "metadata": {},
     "output_type": "execute_result"
    }
   ],
   "source": [
    "len(Q)"
   ]
  },
  {
   "cell_type": "code",
   "execution_count": null,
   "metadata": {
    "collapsed": true
   },
   "outputs": [],
   "source": []
  }
 ],
 "metadata": {
  "kernelspec": {
   "display_name": "Python 3",
   "language": "python",
   "name": "python3"
  },
  "language_info": {
   "codemirror_mode": {
    "name": "ipython",
    "version": 3
   },
   "file_extension": ".py",
   "mimetype": "text/x-python",
   "name": "python",
   "nbconvert_exporter": "python",
   "pygments_lexer": "ipython3",
   "version": "3.6.2"
  }
 },
 "nbformat": 4,
 "nbformat_minor": 2
}
