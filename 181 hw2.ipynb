{
 "cells": [
  {
   "cell_type": "code",
   "execution_count": null,
   "metadata": {
    "collapsed": true
   },
   "outputs": [],
   "source": [
    "def MotifEnumeration(k, d, Dna):\n",
    "    Patterns = set()\n",
    "    for i in range(0, len(Dna)):\n",
    "        for j in range(0, len(Dna[i])-k+1):\n",
    "            pattern = Dna[i][j:j+k]    \n",
    "            neighborhood = Neighbors(pattern,d)\n",
    "            for text in neighborhood:\n",
    "                sumCount = 0\n",
    "                for x in range(0, len(Dna)):\n",
    "                    count = 0\n",
    "                    for y in range(0, len(Dna[x])-k+1):\n",
    "                        if HammingDistance(Dna[x][y:y+k],text) <= d:\n",
    "                            count = count + 1\n",
    "                    if count >= 1:\n",
    "                        sumCount = sumCount + 1\n",
    "                if sumCount == len(Dna):\n",
    "                    Patterns.add(text)\n",
    "    for pattern in Patterns:\n",
    "        print(pattern, end=\" \")\n",
    "    return Patterns\n",
    "            \n",
    "                \n",
    "            \n",
    "                    "
   ]
  },
  {
   "cell_type": "code",
   "execution_count": null,
   "metadata": {
    "collapsed": true
   },
   "outputs": [],
   "source": [
    "def Neighbors(pattern, d):\n",
    "    if len(pattern) == 1:\n",
    "        return {\"A\", \"C\", \"G\", \"T\"}\n",
    "    if d == 0:\n",
    "        return pattern\n",
    "    neighborhood=set()\n",
    "    suffix = pattern[1: len(pattern)]\n",
    "    firstSymbol = pattern[0]\n",
    "    suffixNeighborhood = Neighbors(suffix, d)\n",
    "    for text in suffixNeighborhood:\n",
    "        if HammingDistance(suffix, text) < d:\n",
    "            for nucleotide in {\"A\", \"C\", \"G\", \"T\"}:\n",
    "                neighborhood.add(nucleotide + text)\n",
    "        else:\n",
    "            neighborhood.add(firstSymbol + text)\n",
    "    return neighborhood\n",
    "            \n",
    "                "
   ]
  },
  {
   "cell_type": "code",
   "execution_count": null,
   "metadata": {
    "collapsed": true
   },
   "outputs": [],
   "source": [
    "def HammingDistance(pattern_1, pattern_2):\n",
    "    count = 0\n",
    "    for i in range(0, len(pattern_1)):\n",
    "        if pattern_1[i] != pattern_2[i]:\n",
    "            count = count + 1\n",
    "    return count"
   ]
  },
  {
   "cell_type": "code",
   "execution_count": null,
   "metadata": {
    "collapsed": true
   },
   "outputs": [],
   "source": [
    "Neighbors(\"ACG\",1)"
   ]
  },
  {
   "cell_type": "code",
   "execution_count": null,
   "metadata": {
    "collapsed": true
   },
   "outputs": [],
   "source": [
    "dna = [\"ATTTGGC\",\"TGCCTTA\", \"CGGTATC\", \"GAAAATT\"]"
   ]
  },
  {
   "cell_type": "code",
   "execution_count": null,
   "metadata": {
    "collapsed": true
   },
   "outputs": [],
   "source": [
    "MotifEnumeration(3, 1, dna)"
   ]
  },
  {
   "cell_type": "code",
   "execution_count": null,
   "metadata": {
    "collapsed": true
   },
   "outputs": [],
   "source": [
    "with open(\"./Desktop/test2.txt\", \"r\") as file:\n",
    "    count = 0\n",
    "    Dna = []\n",
    "    for line in file:\n",
    "        count = count + 1\n",
    "        if count >= 2:\n",
    "            Dna.append(line.rstrip('\\n'))\n",
    "            \n",
    "\n",
    "MotifEnumeration(5, 1, Dna)\n",
    "\n",
    "\n"
   ]
  },
  {
   "cell_type": "code",
   "execution_count": null,
   "metadata": {
    "collapsed": true
   },
   "outputs": [],
   "source": [
    "a=file.read()"
   ]
  },
  {
   "cell_type": "code",
   "execution_count": null,
   "metadata": {
    "collapsed": true
   },
   "outputs": [],
   "source": [
    "a"
   ]
  },
  {
   "cell_type": "code",
   "execution_count": null,
   "metadata": {
    "collapsed": true
   },
   "outputs": [],
   "source": [
    "def MedianString(k, Dna):\n",
    "    distances= []\n",
    "    for i in range(0, 4**k):\n",
    "        pattern = NumberToPattern(i, k)\n",
    "        distanceSum= 0\n",
    "        for i in range(0, len(Dna)):\n",
    "            distanceSum = distanceSum + MinHammingDistance(pattern, Dna[i])      \n",
    "        distances.append(distanceSum)\n",
    "    minDistance = min(distances)\n",
    "    for i in range(0, len(distances)):\n",
    "        if distances[i] == minDistance:\n",
    "            pattern_r = NumberToPattern(i,k)\n",
    "            print(pattern_r, end=\" \")\n",
    "            return pattern_r\n",
    "            \n",
    "        \n",
    "        "
   ]
  },
  {
   "cell_type": "code",
   "execution_count": null,
   "metadata": {
    "collapsed": true
   },
   "outputs": [],
   "source": [
    "def MinHammingDistance(pattern, text):\n",
    "    counts = []\n",
    "    for i in range(0, len(text)-len(pattern)+1):\n",
    "        pattern_2 = text[i: i+len(pattern)]\n",
    "        counts.append(HammingDistance(pattern, pattern_2))\n",
    "    \n",
    "    return min(counts)\n",
    "        \n",
    "        "
   ]
  },
  {
   "cell_type": "code",
   "execution_count": null,
   "metadata": {
    "collapsed": true
   },
   "outputs": [],
   "source": [
    "dna=[\"AAATTGACGCAT\",\n",
    "\"GACGACCACGTT\",\n",
    "\"CGTCAGCGCCTG\",\n",
    "\"GCTGAGCACCGG\",\n",
    "\"AGTACGGGACAG\"]"
   ]
  },
  {
   "cell_type": "code",
   "execution_count": null,
   "metadata": {
    "collapsed": true
   },
   "outputs": [],
   "source": [
    "MedianString(3,dna)"
   ]
  },
  {
   "cell_type": "code",
   "execution_count": null,
   "metadata": {
    "collapsed": true
   },
   "outputs": [],
   "source": [
    "with open(\"./Desktop/test_3.txt\", \"r\") as file:\n",
    "    count = 0\n",
    "    Dna = []\n",
    "    for line in file:\n",
    "        count = count + 1\n",
    "        if count >= 2:\n",
    "            Dna.append(line.rstrip('\\n'))\n",
    "Dna\n",
    "            \n"
   ]
  },
  {
   "cell_type": "code",
   "execution_count": null,
   "metadata": {
    "collapsed": true
   },
   "outputs": [],
   "source": [
    "MedianString(6,Dna)"
   ]
  },
  {
   "cell_type": "code",
   "execution_count": null,
   "metadata": {
    "collapsed": true
   },
   "outputs": [],
   "source": [
    "def NumberToPattern(number, k):\n",
    "    if k == 1:\n",
    "        return NumberToSymbol(number)\n",
    "    prefixIndex = int(number/4)\n",
    "    lastIndex = number % 4\n",
    "    return NumberToPattern(prefixIndex, k-1) + NumberToSymbol(lastIndex)\n",
    "    \n",
    "    "
   ]
  },
  {
   "cell_type": "code",
   "execution_count": null,
   "metadata": {
    "collapsed": true
   },
   "outputs": [],
   "source": []
  },
  {
   "cell_type": "code",
   "execution_count": null,
   "metadata": {
    "collapsed": true
   },
   "outputs": [],
   "source": [
    "def NumberToSymbol(index):\n",
    "    if index == 0:\n",
    "        return \"A\"\n",
    "    elif index == 1:\n",
    "        return \"C\"\n",
    "    elif index == 2:\n",
    "        return \"G\"\n",
    "    elif index == 3:\n",
    "        return \"T\""
   ]
  },
  {
   "cell_type": "code",
   "execution_count": 24,
   "metadata": {
    "collapsed": true
   },
   "outputs": [],
   "source": [
    "def ProfileMostProbableKmer(Text, k, Profile):\n",
    "    probabilities = []\n",
    "    for i in range (0, len(Text)-k+1):\n",
    "        pattern = Text[i: i+k]\n",
    "        probability = 1\n",
    "        for j in range(0,k):\n",
    "            if pattern[j] == \"A\":\n",
    "                probability = probability * Profile[0][j]\n",
    "            elif pattern[j] == \"C\":\n",
    "                probability = probability * Profile[1][j]\n",
    "            elif pattern[j] == \"G\":\n",
    "                probability = probability * Profile[2][j]\n",
    "            elif pattern[j] == \"T\":\n",
    "                probability = probability * Profile[3][j]\n",
    "        probabilities.append(probability)\n",
    "    maxP = max(probabilities)\n",
    "    for i in range(0, len(probabilities)):\n",
    "        if probabilities[i] == maxP:\n",
    "            return Text[i: i+k]"
   ]
  },
  {
   "cell_type": "code",
   "execution_count": null,
   "metadata": {
    "collapsed": true
   },
   "outputs": [],
   "source": [
    "profile = [[0.2,0.2,0.3,0.2,0.3],\n",
    "[0.4, 0.3, 0.1, 0.5, 0.1],\n",
    "[0.3, 0.3, 0.5, 0.2, 0.4],\n",
    "[0.1, 0.2, 0.1, 0.1, 0.2]]"
   ]
  },
  {
   "cell_type": "code",
   "execution_count": null,
   "metadata": {
    "collapsed": true
   },
   "outputs": [],
   "source": []
  },
  {
   "cell_type": "code",
   "execution_count": null,
   "metadata": {
    "collapsed": true
   },
   "outputs": [],
   "source": [
    "ProfileMostProbableKmer(\"ACCTGTTTATTGCCTAAGTTCCGAACAAACCCAATATAGCCCGAGGGCCT\",5,profile)"
   ]
  },
  {
   "cell_type": "code",
   "execution_count": null,
   "metadata": {
    "collapsed": true
   },
   "outputs": [],
   "source": [
    "with open(\"./Desktop/test_4.txt\", \"r\") as file:\n",
    "    count = 0\n",
    "    profile = []\n",
    "    for line in file:\n",
    "        count = count + 1\n",
    "        if count == 1:\n",
    "            text = line.rstrip('\\n')\n",
    "        if count >= 3:\n",
    "            line = line.rstrip('\\n')\n",
    "            row = []\n",
    "            for number in line.split( ):\n",
    "                row.append(float(number))\n",
    "            profile.append(row)\n",
    "profile"
   ]
  },
  {
   "cell_type": "code",
   "execution_count": null,
   "metadata": {
    "collapsed": true
   },
   "outputs": [],
   "source": [
    "text"
   ]
  },
  {
   "cell_type": "code",
   "execution_count": null,
   "metadata": {
    "collapsed": true
   },
   "outputs": [],
   "source": [
    "ProfileMostProbableKmer(text,8,profile)"
   ]
  },
  {
   "cell_type": "code",
   "execution_count": null,
   "metadata": {
    "collapsed": true
   },
   "outputs": [],
   "source": [
    "def GreedyMotifSearch(k, t, Dna):\n",
    "    BestMotifs = []\n",
    "    for i in range(0, t):\n",
    "        BestMotifs.append(Dna[i][0: k])\n",
    "    for i in range(0, len(Dna[0])-k+1):\n",
    "        Motifs = []\n",
    "        Motifs.append(Dna[0][i:i+k])\n",
    "        for j in range(1, t):\n",
    "            profile = Profile(Motifs)\n",
    "            motif = ProfileMostProbableKmer(Dna[j], k, profile)\n",
    "            Motifs.append(motif)\n",
    "        if Score(Motifs) < Score(BestMotifs):\n",
    "            BestMotifs = Motifs\n",
    "    return BestMotifs\n",
    "            \n",
    "    \n",
    "    "
   ]
  },
  {
   "cell_type": "code",
   "execution_count": null,
   "metadata": {
    "collapsed": true
   },
   "outputs": [],
   "source": [
    "with open(\"./Desktop/test_5.txt\", \"r\") as file:\n",
    "    count = 0\n",
    "    Dna = []\n",
    "    for line in file:\n",
    "        count = count + 1\n",
    "        if count == 1:\n",
    "            ncount = 0\n",
    "            for number in line.split( ):\n",
    "                if ncount == 0:\n",
    "                    k = int(number)\n",
    "                    ncount = 1\n",
    "                else:\n",
    "                    t = int(number)\n",
    "        if count >= 2:\n",
    "            Dna.append(line.rstrip('\\n'))"
   ]
  },
  {
   "cell_type": "code",
   "execution_count": null,
   "metadata": {
    "collapsed": true
   },
   "outputs": [],
   "source": [
    "dna = [\"GGCGTTCAGGCA\",\n",
    "\"AAGAATCAGTCA\",\n",
    "\"CAAGGAGTTCGC\",\n",
    "\"CACGTCAATCAC\",\n",
    "\"CAATAATATTCG\"]"
   ]
  },
  {
   "cell_type": "code",
   "execution_count": null,
   "metadata": {
    "collapsed": true
   },
   "outputs": [],
   "source": [
    "result = GreedyMotifSearch(k,t,Dna)\n",
    "for line in result:\n",
    "    print(line)"
   ]
  },
  {
   "cell_type": "code",
   "execution_count": null,
   "metadata": {
    "collapsed": true
   },
   "outputs": [],
   "source": [
    "def GreedyMotifSearchWithPseudocount(k, t, Dna):\n",
    "    BestMotifs = []\n",
    "    for i in range(0, t):\n",
    "        BestMotifs.append(Dna[i][0: k])\n",
    "    for i in range(0, len(Dna[0])-k+1):\n",
    "        Motifs = []\n",
    "        Motifs.append(Dna[0][i:i+k])\n",
    "        for j in range(1, t):\n",
    "            profile = PseudocountProfile(Motifs)\n",
    "            motif = ProfileMostProbableKmer(Dna[j], k, profile)\n",
    "            Motifs.append(motif)\n",
    "        if Score(Motifs) < Score(BestMotifs):\n",
    "            BestMotifs = Motifs\n",
    "    return BestMotifs"
   ]
  },
  {
   "cell_type": "code",
   "execution_count": null,
   "metadata": {
    "collapsed": true
   },
   "outputs": [],
   "source": [
    "with open(\"./Desktop/test_6.txt\", \"r\") as file:\n",
    "    count = 0\n",
    "    Dna = []\n",
    "    for line in file:\n",
    "        count = count + 1\n",
    "        if count == 1:\n",
    "            ncount = 0\n",
    "            for number in line.split( ):\n",
    "                if ncount == 0:\n",
    "                    k = int(number)\n",
    "                    ncount = 1\n",
    "                else:\n",
    "                    t = int(number)\n",
    "        if count >= 2:\n",
    "            Dna.append(line.rstrip('\\n'))"
   ]
  },
  {
   "cell_type": "code",
   "execution_count": null,
   "metadata": {
    "collapsed": true
   },
   "outputs": [],
   "source": [
    "result = GreedyMotifSearchWithPseudocount(k,t,Dna)\n",
    "for line in result:\n",
    "    print(line)"
   ]
  },
  {
   "cell_type": "code",
   "execution_count": null,
   "metadata": {
    "collapsed": true
   },
   "outputs": [],
   "source": [
    "def Score(Motifs):\n",
    "    result = 0\n",
    "    for j in range(0, len(Motifs[0])):\n",
    "        countA = 0\n",
    "        countC = 0\n",
    "        countG = 0\n",
    "        countT = 0\n",
    "        for i in range(0, len(Motifs)):\n",
    "            if Motifs[i][j] == \"A\":\n",
    "                countA = countA + 1\n",
    "            elif Motifs[i][j] == \"C\":\n",
    "                countC = countC + 1\n",
    "            elif Motifs[i][j] == \"G\":\n",
    "                countG = countG + 1\n",
    "            elif Motifs[i][j] == \"T\":\n",
    "                countT = countT + 1\n",
    "        maxCount = max(countA, countC, countG, countT)\n",
    "        unpopularSum = 0\n",
    "        ties = 0\n",
    "        for count in [countA, countC, countG, countT]:\n",
    "            if count != maxCount or ties == 1:\n",
    "                unpopularSum = unpopularSum + count\n",
    "            else:\n",
    "                ties = 1\n",
    "        result = result + unpopularSum\n",
    "    return result\n",
    "        \n",
    "                \n",
    "    \n",
    "    "
   ]
  },
  {
   "cell_type": "code",
   "execution_count": null,
   "metadata": {
    "collapsed": true
   },
   "outputs": [],
   "source": [
    "motifs = []"
   ]
  },
  {
   "cell_type": "code",
   "execution_count": null,
   "metadata": {
    "collapsed": true
   },
   "outputs": [],
   "source": [
    "motifs.append(\"TCGGGGGTTTTT\")\n",
    "motifs.append(\"CCGGTGACTTAC\")\n",
    "motifs.append(\"ACGGGGATTTTC\")\n",
    "motifs.append(\"TTGGGGACTTTT\")\n",
    "motifs.append(\"AAGGGGACTTCC\")\n",
    "motifs.append(\"TTGGGGACTTCC\")\n",
    "motifs.append(\"TCGGGGATTCAT\")\n",
    "motifs.append(\"TCGGGGATTCCT\")\n",
    "motifs.append(\"TAGGGGAACTAC\")\n",
    "motifs.append(\"TCGGGTATAACC\")"
   ]
  },
  {
   "cell_type": "code",
   "execution_count": null,
   "metadata": {
    "collapsed": true
   },
   "outputs": [],
   "source": [
    "Score(motifs)"
   ]
  },
  {
   "cell_type": "code",
   "execution_count": null,
   "metadata": {
    "collapsed": true
   },
   "outputs": [],
   "source": [
    "def Profile(Motifs):\n",
    "    lenM = len(Motifs[0])\n",
    "    profile = []\n",
    "    for i in range(0, 4):\n",
    "        profile.append([0]*lenM)\n",
    "    for j in range(0, lenM):\n",
    "        countA = 0\n",
    "        countC = 0\n",
    "        countG = 0\n",
    "        countT = 0\n",
    "        for i in range(0, len(Motifs)):\n",
    "            if Motifs[i][j] == \"A\":\n",
    "                countA = countA + 1\n",
    "            elif Motifs[i][j] == \"C\":\n",
    "                countC = countC + 1\n",
    "            elif Motifs[i][j] == \"G\":\n",
    "                countG = countG + 1\n",
    "            elif Motifs[i][j] == \"T\":\n",
    "                countT = countT + 1\n",
    "        profile[0][j] = countA/lenM\n",
    "        profile[1][j] = countC/lenM\n",
    "        profile[2][j] = countG/lenM\n",
    "        profile[3][j] = countT/lenM\n",
    "    return profile        "
   ]
  },
  {
   "cell_type": "code",
   "execution_count": null,
   "metadata": {
    "collapsed": true
   },
   "outputs": [],
   "source": [
    "Score(motifs)"
   ]
  },
  {
   "cell_type": "code",
   "execution_count": null,
   "metadata": {
    "collapsed": true
   },
   "outputs": [],
   "source": [
    "Motifs = [\"TAAC\", \"GTCT\", \"ACTA\", \"AGGT\"]\n",
    "Motifs"
   ]
  },
  {
   "cell_type": "code",
   "execution_count": null,
   "metadata": {
    "collapsed": true
   },
   "outputs": [],
   "source": [
    "Profile(Motifs)"
   ]
  },
  {
   "cell_type": "code",
   "execution_count": null,
   "metadata": {
    "collapsed": true
   },
   "outputs": [],
   "source": [
    "PseudocountProfile(Motifs)"
   ]
  },
  {
   "cell_type": "code",
   "execution_count": null,
   "metadata": {
    "collapsed": true
   },
   "outputs": [],
   "source": [
    "profile = []"
   ]
  },
  {
   "cell_type": "code",
   "execution_count": 2,
   "metadata": {
    "collapsed": true
   },
   "outputs": [],
   "source": [
    "from random import *"
   ]
  },
  {
   "cell_type": "code",
   "execution_count": 7,
   "metadata": {},
   "outputs": [
    {
     "data": {
      "text/plain": [
       "5"
      ]
     },
     "execution_count": 7,
     "metadata": {},
     "output_type": "execute_result"
    }
   ],
   "source": [
    "randint(0,5)"
   ]
  },
  {
   "cell_type": "code",
   "execution_count": 8,
   "metadata": {
    "collapsed": true
   },
   "outputs": [],
   "source": [
    "def RandomizedMotifSearch(k, t, Dna, BestMotifs):\n",
    "    motifs = []\n",
    "    for i in range(0, t):\n",
    "        b = len(Dna[0])-k\n",
    "        index = randint(0, b)\n",
    "        motifs.append(Dna[i][index: index+k])\n",
    "        if BestMotifs == []:\n",
    "            BestMotifs = motifs\n",
    "    while True:\n",
    "        profile = PseudocountProfile(motifs)\n",
    "        motifs = Motifs(profile, Dna)\n",
    "        if Score(motifs) < Score(BestMotifs):\n",
    "            BestMotifs = motifs\n",
    "        else:\n",
    "            return BestMotifs"
   ]
  },
  {
   "cell_type": "code",
   "execution_count": 9,
   "metadata": {},
   "outputs": [
    {
     "ename": "TypeError",
     "evalue": "'method' object is not subscriptable",
     "output_type": "error",
     "traceback": [
      "\u001b[1;31m---------------------------------------------------------------------------\u001b[0m",
      "\u001b[1;31mTypeError\u001b[0m                                 Traceback (most recent call last)",
      "\u001b[1;32m<ipython-input-9-aa6587d79bd9>\u001b[0m in \u001b[0;36m<module>\u001b[1;34m()\u001b[0m\n\u001b[0;32m      1\u001b[0m \u001b[0mBestMotifs\u001b[0m \u001b[1;33m=\u001b[0m \u001b[1;33m[\u001b[0m\u001b[1;33m]\u001b[0m\u001b[1;33m\u001b[0m\u001b[0m\n\u001b[0;32m      2\u001b[0m \u001b[1;32mfor\u001b[0m \u001b[0mi\u001b[0m \u001b[1;32min\u001b[0m \u001b[0mrange\u001b[0m\u001b[1;33m(\u001b[0m\u001b[1;36m0\u001b[0m\u001b[1;33m,\u001b[0m \u001b[1;36m1000\u001b[0m\u001b[1;33m)\u001b[0m\u001b[1;33m:\u001b[0m\u001b[1;33m\u001b[0m\u001b[0m\n\u001b[1;32m----> 3\u001b[1;33m     \u001b[0mBestMotifs\u001b[0m \u001b[1;33m=\u001b[0m \u001b[0mRandomizedMotifSearch\u001b[0m\u001b[1;33m(\u001b[0m\u001b[1;36m8\u001b[0m\u001b[1;33m,\u001b[0m\u001b[1;36m5\u001b[0m\u001b[1;33m,\u001b[0m\u001b[0msample\u001b[0m\u001b[1;33m,\u001b[0m \u001b[0mBestMotifs\u001b[0m\u001b[1;33m)\u001b[0m\u001b[1;33m\u001b[0m\u001b[0m\n\u001b[0m\u001b[0;32m      4\u001b[0m \u001b[1;33m\u001b[0m\u001b[0m\n\u001b[0;32m      5\u001b[0m \u001b[0mBestMotifs\u001b[0m\u001b[1;33m\u001b[0m\u001b[0m\n",
      "\u001b[1;32m<ipython-input-8-1fb64d144733>\u001b[0m in \u001b[0;36mRandomizedMotifSearch\u001b[1;34m(k, t, Dna, BestMotifs)\u001b[0m\n\u001b[0;32m      2\u001b[0m     \u001b[0mmotifs\u001b[0m \u001b[1;33m=\u001b[0m \u001b[1;33m[\u001b[0m\u001b[1;33m]\u001b[0m\u001b[1;33m\u001b[0m\u001b[0m\n\u001b[0;32m      3\u001b[0m     \u001b[1;32mfor\u001b[0m \u001b[0mi\u001b[0m \u001b[1;32min\u001b[0m \u001b[0mrange\u001b[0m\u001b[1;33m(\u001b[0m\u001b[1;36m0\u001b[0m\u001b[1;33m,\u001b[0m \u001b[0mt\u001b[0m\u001b[1;33m)\u001b[0m\u001b[1;33m:\u001b[0m\u001b[1;33m\u001b[0m\u001b[0m\n\u001b[1;32m----> 4\u001b[1;33m         \u001b[0mb\u001b[0m \u001b[1;33m=\u001b[0m \u001b[0mlen\u001b[0m\u001b[1;33m(\u001b[0m\u001b[0mDna\u001b[0m\u001b[1;33m[\u001b[0m\u001b[1;36m0\u001b[0m\u001b[1;33m]\u001b[0m\u001b[1;33m)\u001b[0m\u001b[1;33m-\u001b[0m\u001b[0mk\u001b[0m\u001b[1;33m\u001b[0m\u001b[0m\n\u001b[0m\u001b[0;32m      5\u001b[0m         \u001b[0mindex\u001b[0m \u001b[1;33m=\u001b[0m \u001b[0mrandint\u001b[0m\u001b[1;33m(\u001b[0m\u001b[1;36m0\u001b[0m\u001b[1;33m,\u001b[0m \u001b[0mb\u001b[0m\u001b[1;33m)\u001b[0m\u001b[1;33m\u001b[0m\u001b[0m\n\u001b[0;32m      6\u001b[0m         \u001b[0mmotifs\u001b[0m\u001b[1;33m.\u001b[0m\u001b[0mappend\u001b[0m\u001b[1;33m(\u001b[0m\u001b[0mDna\u001b[0m\u001b[1;33m[\u001b[0m\u001b[0mi\u001b[0m\u001b[1;33m]\u001b[0m\u001b[1;33m[\u001b[0m\u001b[0mindex\u001b[0m\u001b[1;33m:\u001b[0m \u001b[0mindex\u001b[0m\u001b[1;33m+\u001b[0m\u001b[0mk\u001b[0m\u001b[1;33m]\u001b[0m\u001b[1;33m)\u001b[0m\u001b[1;33m\u001b[0m\u001b[0m\n",
      "\u001b[1;31mTypeError\u001b[0m: 'method' object is not subscriptable"
     ]
    }
   ],
   "source": [
    "BestMotifs = []\n",
    "for i in range(0, 1000):\n",
    "    BestMotifs = RandomizedMotifSearch(8,5,sample, BestMotifs)\n",
    "    \n",
    "BestMotifs\n"
   ]
  },
  {
   "cell_type": "code",
   "execution_count": null,
   "metadata": {
    "collapsed": true
   },
   "outputs": [],
   "source": [
    "sample = [\"CGCCCCTCTCGGGGGTGTTCAGTAAACGGCCA\",\n",
    "\"GGGCGAGGTATGTGTAAGTGCCAAGGTGCCAG\",\n",
    "\"TAGTACCGAGACCGAAAGAAGTATACAGGCGT\",\n",
    "\"TAGATCAAGTTTCAGGTGCACGTCGGTGAACC\",\n",
    "\"AATCCACCAGCTCCACGTGCAATGTTGGCCTA\"]"
   ]
  },
  {
   "cell_type": "code",
   "execution_count": 22,
   "metadata": {
    "collapsed": true
   },
   "outputs": [],
   "source": [
    "def Motifs(Profile, Dna):\n",
    "    k = len(Profile[0])\n",
    "    motifs = []\n",
    "    for i in range(0, len(Dna)):\n",
    "        motifs.append(ProfileMostProbableKmer(Dna[i], k, Profile))\n",
    "    return motifs\n",
    "        "
   ]
  },
  {
   "cell_type": "code",
   "execution_count": null,
   "metadata": {
    "collapsed": true
   },
   "outputs": [],
   "source": [
    "def ProfileMostProbableKmer(Text, k, Profile):\n",
    "    probabilities = []\n",
    "    for i in range (0, len(Text)-k+1):\n",
    "        pattern = Text[i: i+k]\n",
    "        probability = 1\n",
    "        for j in range(0,k):\n",
    "            if pattern[j] == \"A\":\n",
    "                probability = probability * Profile[0][j]\n",
    "            elif pattern[j] == \"C\":\n",
    "                probability = probability * Profile[1][j]\n",
    "            elif pattern[j] == \"G\":\n",
    "                probability = probability * Profile[2][j]\n",
    "            elif pattern[j] == \"T\":\n",
    "                probability = probability * Profile[3][j]\n",
    "        probabilities.append(probability)\n",
    "    maxP = max(probabilities)\n",
    "    for i in range(0, len(probabilities)):\n",
    "        if probabilities[i] == maxP:\n",
    "            return Text[i: i+k]"
   ]
  },
  {
   "cell_type": "code",
   "execution_count": null,
   "metadata": {
    "collapsed": true
   },
   "outputs": [],
   "source": [
    "with open(\"./Desktop/test_7.txt\", \"r\") as file:\n",
    "    count = 0\n",
    "    Dna = []\n",
    "    for line in file:\n",
    "        count = count + 1\n",
    "        if count == 1:\n",
    "            ncount = 0\n",
    "            for number in line.split( ):\n",
    "                if ncount == 0:\n",
    "                    k = int(number)\n",
    "                    ncount = 1\n",
    "                else:\n",
    "                    t = int(number)\n",
    "        if count >= 2:\n",
    "            Dna.append(line.rstrip('\\n'))"
   ]
  },
  {
   "cell_type": "code",
   "execution_count": null,
   "metadata": {
    "collapsed": true
   },
   "outputs": [],
   "source": [
    "BestMotifs = []\n",
    "for i in range(0, 1000):\n",
    "    BestMotifs = RandomizedMotifSearch(k,t,Dna, BestMotifs)\n",
    "for motif in BestMotifs:\n",
    "    print(motif)"
   ]
  },
  {
   "cell_type": "code",
   "execution_count": null,
   "metadata": {
    "collapsed": true
   },
   "outputs": [],
   "source": [
    "def DistanceBetweenPatternAndStrings(pattern, Dna):\n",
    "    k = len(pattern)\n",
    "    distance = 0\n",
    "    for i in range(0, len(Dna)):\n",
    "        hammingDistance = float(\"inf\")\n",
    "        for j in range(0, len(Dna[0])-k+1):\n",
    "            pattern_2 = Dna[i][j: j+k]\n",
    "            newDistance = HammingDistance(pattern, pattern_2)\n",
    "            if hammingDistance > newDistance:\n",
    "                hammingDistance = newDistance\n",
    "        distance = distance + hammingDistance\n",
    "    return distance\n",
    "        "
   ]
  },
  {
   "cell_type": "code",
   "execution_count": null,
   "metadata": {
    "collapsed": true
   },
   "outputs": [],
   "source": [
    "def HammingDistance(pattern_1, pattern_2):\n",
    "    count = 0\n",
    "    for i in range(0, len(pattern_1)):\n",
    "        if pattern_1[i] != pattern_2[i]:\n",
    "            count = count + 1\n",
    "    return count"
   ]
  },
  {
   "cell_type": "code",
   "execution_count": null,
   "metadata": {
    "collapsed": true
   },
   "outputs": [],
   "source": [
    "dna= [\"TTACCTTAAC\", \"GATATCTGTC\", \"ACGGCGTTCG\", \"CCCTAAAGAG\", \"CGTCAGAGGT\"]"
   ]
  },
  {
   "cell_type": "code",
   "execution_count": null,
   "metadata": {
    "collapsed": true
   },
   "outputs": [],
   "source": [
    "DistanceBetweenPatternAndStrings(\"AAA\", dna)"
   ]
  },
  {
   "cell_type": "code",
   "execution_count": null,
   "metadata": {
    "collapsed": true
   },
   "outputs": [],
   "source": [
    "with open(\"./Desktop/test_9.txt\", \"r\") as file:\n",
    "    count = 0\n",
    "    Dna = []\n",
    "    for line in file:\n",
    "        count = count + 1\n",
    "        if count == 1:\n",
    "            pattern = line.rstrip('\\n')\n",
    "        else:\n",
    "            for row in line.split( ):\n",
    "                Dna.append(row)"
   ]
  },
  {
   "cell_type": "code",
   "execution_count": null,
   "metadata": {
    "collapsed": true
   },
   "outputs": [],
   "source": [
    "pattern"
   ]
  },
  {
   "cell_type": "code",
   "execution_count": null,
   "metadata": {
    "collapsed": true
   },
   "outputs": [],
   "source": [
    "DistanceBetweenPatternAndStrings(pattern, Dna)"
   ]
  },
  {
   "cell_type": "code",
   "execution_count": null,
   "metadata": {
    "collapsed": true
   },
   "outputs": [],
   "source": [
    "for i in range(0,100):\n",
    "    print(randint(1,3), end=\" \")"
   ]
  },
  {
   "cell_type": "code",
   "execution_count": 12,
   "metadata": {
    "collapsed": true
   },
   "outputs": [],
   "source": [
    "def PseudocountProfile(Motifs):\n",
    "    lenM = len(Motifs[0])\n",
    "    profile = []\n",
    "    for i in range(0, 4):\n",
    "        profile.append([0]*lenM)\n",
    "    for j in range(0, lenM):\n",
    "        countA = 0\n",
    "        countC = 0\n",
    "        countG = 0\n",
    "        countT = 0\n",
    "        for i in range(0, len(Motifs)):\n",
    "            if Motifs[i][j] == \"A\":\n",
    "                countA = countA + 1\n",
    "            elif Motifs[i][j] == \"C\":\n",
    "                countC = countC + 1\n",
    "            elif Motifs[i][j] == \"G\":\n",
    "                countG = countG + 1\n",
    "            elif Motifs[i][j] == \"T\":\n",
    "                countT = countT + 1\n",
    "        profile[0][j] = (countA+1)/(lenM+4)\n",
    "        profile[1][j] = (countC+1)/(lenM+4)\n",
    "        profile[2][j] = (countG+1)/(lenM+4)\n",
    "        profile[3][j] = (countT+1)/(lenM+4)\n",
    "    return profile   "
   ]
  },
  {
   "cell_type": "code",
   "execution_count": null,
   "metadata": {
    "collapsed": true
   },
   "outputs": [],
   "source": [
    "import random"
   ]
  },
  {
   "cell_type": "code",
   "execution_count": null,
   "metadata": {
    "collapsed": true
   },
   "outputs": [],
   "source": [
    "def ProfileRandomlyGeneratedKmer(Text, k, Profile):\n",
    "    probs = []\n",
    "    for i in range(0, len(Text)-k+1):\n",
    "        pattern = Text[i: i+k]\n",
    "        probs.append(Probability(pattern, Profile))\n",
    "    probSum = sum(probs)\n",
    "    for i in range(0, len(probs)):\n",
    "        probs[i] = probs[i]/probSum\n",
    "    r = random.uniform(0,1)\n",
    "    accumulate = 0\n",
    "    for i in range(0, len(probs)):\n",
    "        if r >= accumulate and r < accumulate + probs[i]:\n",
    "            index = i\n",
    "        else: \n",
    "            accumulate = accumulate + probs[i]\n",
    "    return Text[index: index+k]\n",
    "    \n",
    "        "
   ]
  },
  {
   "cell_type": "code",
   "execution_count": null,
   "metadata": {
    "collapsed": true
   },
   "outputs": [],
   "source": [
    "def Random(probs):\n",
    "    probSum = sum(probs)\n",
    "  \n",
    "    for i in range(0, len(probs)):\n",
    "        probs[i] = probs[i]/probSum\n",
    "    r = uniform(0,1)\n",
    "   \n",
    "    accumulate = 0\n",
    "    for i in range(0, len(probs)):\n",
    "        if r >= accumulate and r < accumulate + probs[i]:\n",
    "            return i\n",
    "        else: \n",
    "            accumulate = accumulate + probs[i]\n",
    "        "
   ]
  },
  {
   "cell_type": "code",
   "execution_count": null,
   "metadata": {
    "collapsed": true
   },
   "outputs": [],
   "source": [
    "Random([4.4653063557384533e-07, 3.721088629782044e-08, 7.442177259564088e-08, 7.442177259564088e-08, 5.5816329446730666e-08, 1.67448988340192e-07, 2.2326531778692266e-06, 2.7908164723365333e-08, 3.7210886297820443e-07, 1.67448988340192e-07, 4.465306355738453e-06, 2.7908164723365333e-08, 1.1163265889346133e-06, 3.721088629782044e-08, 2.2326531778692266e-07, 7.535204475308642e-07, 1.6744898834019202e-06, 5.5816329446730666e-08, 4.4653063557384533e-07, 3.721088629782044e-08, 2.2326531778692266e-07, 3.721088629782044e-08, 3.34897976680384e-07, 3.0140817901234566e-06, 8.372449417009601e-07])"
   ]
  },
  {
   "cell_type": "code",
   "execution_count": null,
   "metadata": {
    "collapsed": true
   },
   "outputs": [],
   "source": [
    "ppp=[\"CGCCCCTCTCGGGGGTGTTCAGTAAACGGCCA\",\n",
    "\"GGGCGAGGTATGTGTAAGTGCCAAGGTGCCAG\",\n",
    "\"TAGTACCGAGACCGAAAGAAGTATACAGGCGT\",\n",
    "\"TAGATCAAGTTTCAGGTGCACGTCGGTGAACC\",\n",
    "\"AATCCACCAGCTCCACGTGCAATGTTGGCCTA\"]"
   ]
  },
  {
   "cell_type": "code",
   "execution_count": null,
   "metadata": {
    "collapsed": true
   },
   "outputs": [],
   "source": [
    "len(ppp)"
   ]
  },
  {
   "cell_type": "code",
   "execution_count": 11,
   "metadata": {
    "collapsed": true
   },
   "outputs": [],
   "source": [
    "def DistanceBetweenPatternAndStrings(pattern, Dna):\n",
    "    k = len(pattern)\n",
    "    distance = 0\n",
    "    for i in range(0, len(Dna)):\n",
    "        hammingDistance = float(\"inf\")\n",
    "        for j in range(0, len(Dna[0])-k+1):\n",
    "            pattern_2 = Dna[i][j: j+k]\n",
    "            newDistance = HammingDistance(pattern, pattern_2)\n",
    "            if hammingDistance > newDistance:\n",
    "                hammingDistance = newDistance\n",
    "        distance = distance + hammingDistance\n",
    "    return distance"
   ]
  },
  {
   "cell_type": "code",
   "execution_count": 10,
   "metadata": {
    "collapsed": true
   },
   "outputs": [],
   "source": [
    "def Score(Motifs):\n",
    "    result = 0\n",
    "    for j in range(0, len(Motifs[0])):\n",
    "        countA = 0\n",
    "        countC = 0\n",
    "        countG = 0\n",
    "        countT = 0\n",
    "        for i in range(0, len(Motifs)):\n",
    "            if Motifs[i][j] == \"A\":\n",
    "                countA = countA + 1\n",
    "            elif Motifs[i][j] == \"C\":\n",
    "                countC = countC + 1\n",
    "            elif Motifs[i][j] == \"G\":\n",
    "                countG = countG + 1\n",
    "            elif Motifs[i][j] == \"T\":\n",
    "                countT = countT + 1\n",
    "        maxCount = max(countA, countC, countG, countT)\n",
    "        unpopularSum = 0\n",
    "        ties = 0\n",
    "        for count in [countA, countC, countG, countT]:\n",
    "            if count != maxCount or ties == 1:\n",
    "                unpopularSum = unpopularSum + count\n",
    "            else:\n",
    "                ties = 1\n",
    "        result = result + unpopularSum\n",
    "    return result"
   ]
  },
  {
   "cell_type": "code",
   "execution_count": 8,
   "metadata": {
    "collapsed": true
   },
   "outputs": [],
   "source": [
    "def PseudocountProfile(Motifs):\n",
    "    lenM = len(Motifs[0])\n",
    "    profile = []\n",
    "    for i in range(0, 4):\n",
    "        profile.append([0]*lenM)\n",
    "    for j in range(0, lenM):\n",
    "        countA = 0\n",
    "        countC = 0\n",
    "        countG = 0\n",
    "        countT = 0\n",
    "        for i in range(0, len(Motifs)):\n",
    "            if Motifs[i][j] == \"A\":\n",
    "                countA = countA + 1\n",
    "            elif Motifs[i][j] == \"C\":\n",
    "                countC = countC + 1\n",
    "            elif Motifs[i][j] == \"G\":\n",
    "                countG = countG + 1\n",
    "            elif Motifs[i][j] == \"T\":\n",
    "                countT = countT + 1\n",
    "        profile[0][j] = (countA+1)/(lenM+4)\n",
    "        profile[1][j] = (countC+1)/(lenM+4)\n",
    "        profile[2][j] = (countG+1)/(lenM+4)\n",
    "        profile[3][j] = (countT+1)/(lenM+4)\n",
    "    return profile   "
   ]
  },
  {
   "cell_type": "code",
   "execution_count": 13,
   "metadata": {
    "collapsed": true
   },
   "outputs": [],
   "source": [
    "def Motifs(Profile, Dna):\n",
    "    k = len(Profile[0])\n",
    "    motifs = []\n",
    "    for i in range(0, len(Dna)):\n",
    "        motifs.append(ProfileMostProbableKmer(Dna[i], k, Profile))\n",
    "    return motifs"
   ]
  },
  {
   "cell_type": "code",
   "execution_count": 4,
   "metadata": {
    "collapsed": true
   },
   "outputs": [],
   "source": [
    "import random"
   ]
  },
  {
   "cell_type": "code",
   "execution_count": 128,
   "metadata": {
    "collapsed": true
   },
   "outputs": [],
   "source": [
    "\n",
    "def GibbsSampler(k, t, N, Dna):\n",
    "    motifs = []\n",
    "    for i in range(0, t):\n",
    "        index = random.randint(0, len(Dna[i])-k)\n",
    "        motifs.append(Dna[i][index: index+k])\n",
    "    BestMotifs = motifs[:]\n",
    "    #print(\"motifs is \",motifs)\n",
    "    #print(\"best is \",BestMotifs)\n",
    "    for j in range(0, N):\n",
    "        i = random.randint(0, t-1)\n",
    "        newMotifs = []\n",
    "        for l in range(0, t):\n",
    "            if l != i:\n",
    "                newMotifs.append(motifs[l])\n",
    "        profile = PseudocountProfile(newMotifs)\n",
    "        #print(\"old motif is \", motifs[i])\n",
    "        #print(\"old motifs is \", motifs)\n",
    "        motifs[i] = ProfileRandomlyGeneratedKmer(Dna[i], k, profile)\n",
    "        #print(\"new motif is \", motifs[i])\n",
    "        #print(\"new motif is \", motifs)\n",
    "        if Score(motifs) < Score(BestMotifs):\n",
    "            BestMotifs = motifs[:]\n",
    "    return BestMotifs"
   ]
  },
  {
   "cell_type": "code",
   "execution_count": null,
   "metadata": {
    "collapsed": true
   },
   "outputs": [],
   "source": []
  },
  {
   "cell_type": "code",
   "execution_count": 123,
   "metadata": {
    "collapsed": true
   },
   "outputs": [],
   "source": [
    "\n",
    "def ProfileRandomlyGeneratedKmer(Text, k, Profile):\n",
    "    probs = []\n",
    "    for i in range(0, len(Text)-k+1):\n",
    "        pattern = Text[i: i+k]\n",
    "        probs.append(Probability(pattern, Profile))\n",
    "    probSum = sum(probs)\n",
    "    for i in range(0, len(probs)):\n",
    "        probs[i] = probs[i]/probSum\n",
    "    r = random.uniform(0,1)\n",
    "    accumulate = 0\n",
    "    for i in range(0, len(probs)):\n",
    "        if r >= accumulate and r < accumulate + probs[i]:\n",
    "            index = i\n",
    "        accumulate = accumulate + probs[i]\n",
    "    return Text[index: index+k]\n",
    "\n"
   ]
  },
  {
   "cell_type": "code",
   "execution_count": 119,
   "metadata": {
    "collapsed": true
   },
   "outputs": [],
   "source": [
    "def Random(probs):\n",
    "    probSum = sum(probs)\n",
    "    for i in range(0, len(probs)):\n",
    "        probs[i] = probs[i]/probSum\n",
    "    r = random.uniform(0,1)\n",
    "    accumulate = 0\n",
    "    for i in range(0, len(probs)):\n",
    "        if r >= accumulate and r < accumulate + probs[i]:\n",
    "            index = i\n",
    "        accumulate = accumulate + probs[i]\n",
    "    return index\n",
    "    "
   ]
  },
  {
   "cell_type": "code",
   "execution_count": 122,
   "metadata": {},
   "outputs": [
    {
     "name": "stdout",
     "output_type": "stream",
     "text": [
      "1003\n"
     ]
    }
   ],
   "source": [
    "test_random = []\n",
    "for i in range(0, 10000):\n",
    "    test_random.append(Random([9, 1]))\n",
    "print(sum(test_random))\n"
   ]
  },
  {
   "cell_type": "code",
   "execution_count": 71,
   "metadata": {},
   "outputs": [
    {
     "data": {
      "text/plain": [
       "4"
      ]
     },
     "execution_count": 71,
     "metadata": {},
     "output_type": "execute_result"
    }
   ],
   "source": [
    "random.randint(0,5)"
   ]
  },
  {
   "cell_type": "code",
   "execution_count": 1,
   "metadata": {
    "collapsed": true
   },
   "outputs": [],
   "source": [
    "ppp =[\"CGCCCCTCTCGGGGGTGTTCAGTAAACGGCCA\",\n",
    "\"GGGCGAGGTATGTGTAAGTGCCAAGGTGCCAG\",\n",
    "\"TAGTACCGAGACCGAAAGAAGTATACAGGCGT\",\n",
    "\"TAGATCAAGTTTCAGGTGCACGTCGGTGAACC\",\n",
    "\"AATCCACCAGCTCCACGTGCAATGTTGGCCTA\"]"
   ]
  },
  {
   "cell_type": "code",
   "execution_count": 130,
   "metadata": {},
   "outputs": [
    {
     "name": "stdout",
     "output_type": "stream",
     "text": [
      "['TCTCGGGG', 'CCAAGGTG', 'TACAGGCG', 'TTCAGGTG', 'TCCACGTG']\n",
      "9\n"
     ]
    }
   ],
   "source": [
    "results = []\n",
    "scores = []\n",
    "for i in range(0, 20):\n",
    "    result = GibbsSampler(8,5,100,ppp)\n",
    "    results.append(result)\n",
    "    scores.append(Score(result))\n",
    "\n",
    "indexmin = min(scores)\n",
    "first = 0\n",
    "for i in range(0, 20):\n",
    "    if scores[i] == indexmin and first ==0:\n",
    "        print(results[i])\n",
    "        print(Score(results[i]))\n",
    "        first = 1"
   ]
  },
  {
   "cell_type": "code",
   "execution_count": 20,
   "metadata": {},
   "outputs": [
    {
     "data": {
      "text/plain": [
       "12"
      ]
     },
     "execution_count": 20,
     "metadata": {},
     "output_type": "execute_result"
    }
   ],
   "source": [
    "Score(['AACGGCCA', 'AGGTGCCA', 'ACAGGCGT', 'AGGTGCAC', 'ACGTGCAA'])"
   ]
  },
  {
   "cell_type": "code",
   "execution_count": 32,
   "metadata": {},
   "outputs": [],
   "source": [
    "patterns =[\"TCTCGGGG\",\n",
    "\"CCAAGGTG\",\n",
    "\"TACAGGCG\",\n",
    "\"TTCAGGTG\",\n",
    "\"TCCACGTG\"]"
   ]
  },
  {
   "cell_type": "code",
   "execution_count": 30,
   "metadata": {
    "collapsed": true
   },
   "outputs": [],
   "source": [
    "def findIndex(pattern, text):\n",
    "    for i in range(0, len(text)-len(pattern)+1):\n",
    "        if pattern == text[i: i+len(pattern)]:\n",
    "            return i"
   ]
  },
  {
   "cell_type": "code",
   "execution_count": 31,
   "metadata": {},
   "outputs": [
    {
     "data": {
      "text/plain": [
       "6"
      ]
     },
     "execution_count": 31,
     "metadata": {},
     "output_type": "execute_result"
    }
   ],
   "source": [
    "findIndex(\"TCTCGGGG\", ppp[0])"
   ]
  },
  {
   "cell_type": "code",
   "execution_count": 34,
   "metadata": {},
   "outputs": [
    {
     "data": {
      "text/plain": [
       "20"
      ]
     },
     "execution_count": 34,
     "metadata": {},
     "output_type": "execute_result"
    }
   ],
   "source": [
    "findIndex(patterns[1], ppp[1])"
   ]
  },
  {
   "cell_type": "code",
   "execution_count": 36,
   "metadata": {},
   "outputs": [
    {
     "name": "stdout",
     "output_type": "stream",
     "text": [
      "6\n",
      "20\n",
      "23\n",
      "10\n",
      "11\n"
     ]
    }
   ],
   "source": [
    "for i in range(0, len(patterns)):\n",
    "    print(findIndex(patterns[i], ppp[i]))"
   ]
  },
  {
   "cell_type": "code",
   "execution_count": 69,
   "metadata": {
    "collapsed": true
   },
   "outputs": [],
   "source": [
    "def TestGibbsSampler(k, t, N, Dna, motifs):\n",
    "    BestMotifs = motifs[:]\n",
    "    print(\"start\", end=\" \")\n",
    "    print(motifs)\n",
    "    print(BestMotifs)\n",
    "    for j in range(0, N):\n",
    "        i = random.randint(0, t-1)\n",
    "        newMotifs = []\n",
    "        for l in range(0, t):\n",
    "            if l != i:\n",
    "                newMotifs.append(motifs[l])   \n",
    "        profile = PseudocountProfile(newMotifs)\n",
    "        motifs[i] = ProfileRandomlyGeneratedKmer(Dna[i], k, profile)\n",
    "        if Score(motifs) < Score(BestMotifs):\n",
    "            print(motifs)\n",
    "            print(BestMotifs)\n",
    "            BestMotifs = motifs[:]\n",
    "    return BestMotifs"
   ]
  },
  {
   "cell_type": "code",
   "execution_count": 74,
   "metadata": {
    "collapsed": true
   },
   "outputs": [],
   "source": [
    "zzz =[\"TCTCGGGG\",\n",
    "\"CCAAGGTG\",\n",
    "\"TACAGGCG\",\n",
    "\"TTCAGGTG\",\n",
    "\"TCCACGTG\"]"
   ]
  },
  {
   "cell_type": "code",
   "execution_count": 86,
   "metadata": {},
   "outputs": [
    {
     "name": "stdout",
     "output_type": "stream",
     "text": [
      "start ['TCTCGGGG', 'CCAAGGTG', 'TACAGGCG', 'TTCAGGTG', 'TCCACGTG']\n",
      "['TCTCGGGG', 'CCAAGGTG', 'TACAGGCG', 'TTCAGGTG', 'TCCACGTG']\n"
     ]
    },
    {
     "data": {
      "text/plain": [
       "['TCTCGGGG', 'CCAAGGTG', 'TACAGGCG', 'TTCAGGTG', 'TCCACGTG']"
      ]
     },
     "execution_count": 86,
     "metadata": {},
     "output_type": "execute_result"
    }
   ],
   "source": [
    "zzz =[\"TCTCGGGG\",\n",
    "\"CCAAGGTG\",\n",
    "\"TACAGGCG\",\n",
    "\"TTCAGGTG\",\n",
    "\"TCCACGTG\"]\n",
    "TestGibbsSampler(8,5,200,ppp, zzz)\n"
   ]
  },
  {
   "cell_type": "code",
   "execution_count": 68,
   "metadata": {},
   "outputs": [
    {
     "data": {
      "text/plain": [
       "13"
      ]
     },
     "execution_count": 68,
     "metadata": {},
     "output_type": "execute_result"
    }
   ],
   "source": [
    "Score(['AACGGCCA', 'AGGTGCCA', 'ACAGGCGT', 'TCGGTGAA', 'ACGTGCAA'])"
   ]
  },
  {
   "cell_type": "code",
   "execution_count": 65,
   "metadata": {},
   "outputs": [
    {
     "data": {
      "text/plain": [
       "['AACGGCCA', 'AGGTGCCA', 'ACAGGCGT', 'AGGTGCAC', 'ACGTGCAA']"
      ]
     },
     "execution_count": 65,
     "metadata": {},
     "output_type": "execute_result"
    }
   ],
   "source": [
    "TestGibbsSampler(8,5,200,ppp, patterns)"
   ]
  },
  {
   "cell_type": "code",
   "execution_count": 136,
   "metadata": {
    "collapsed": true
   },
   "outputs": [],
   "source": [
    "with open(\"./Desktop/test_8.txt\", \"r\") as file:\n",
    "    count = 0\n",
    "    Dna = []\n",
    "    for line in file:\n",
    "        count = count + 1\n",
    "        if count == 1:\n",
    "            ncount = 0\n",
    "            numbers = line.split( )\n",
    "            k = int(numbers[0])       \n",
    "            t = int(numbers[1])    \n",
    "            N = int(numbers[2])\n",
    "        else:\n",
    "             Dna.append(line.rstrip('\\n'))"
   ]
  },
  {
   "cell_type": "code",
   "execution_count": 140,
   "metadata": {},
   "outputs": [
    {
     "data": {
      "text/plain": [
       "'AACCACGGCAAATGACCCCCTTAACGTCTTGGTAATTCTGATGTAACCCTCTCATGCAATTTGCTGTATACCGCGATGACGTATACCAGGACCAATCTTCACCGCCTGGAACTTGTCTACGACCCGATAATGTGGCTGAATATCATGCATGCAGCGCCGGCGCGCTGCTGTGCCGTGTGGAGTCCGCACCGTGCTCTTGTATCGGTCATGCGCCGCGTCAGCTCTAGAAACACGAGGTGCCCGAGCTGACTCGATCTGGCAACTTATCCGACAGTAACGACGCCCAGCGGGAACTAGCATGTGACGGTACATAACCACGGCAAATGA'"
      ]
     },
     "execution_count": 140,
     "metadata": {},
     "output_type": "execute_result"
    }
   ],
   "source": [
    "Dna[0]\n"
   ]
  },
  {
   "cell_type": "code",
   "execution_count": 155,
   "metadata": {},
   "outputs": [],
   "source": [
    "def RandomStart(n, k, t, N, Dna):\n",
    "    results = []\n",
    "    scores = []\n",
    "    for i in range(0, n):\n",
    "        result = GibbsSampler(k,t,N,Dna)\n",
    "        results.append(result)\n",
    "        scores.append(Score(result))\n",
    "    indexmin = min(scores)\n",
    "    for i in range(0, n):\n",
    "        if scores[i] == indexmin:\n",
    "            for result in results[i]:\n",
    "                print(result)\n",
    "            return results[i]\n",
    "            \n"
   ]
  },
  {
   "cell_type": "code",
   "execution_count": 156,
   "metadata": {},
   "outputs": [
    {
     "name": "stdout",
     "output_type": "stream",
     "text": [
      "AGGGGAGAGACGTGC\n",
      "AGGCCGGGGATGCGC\n",
      "CGGTATGGGATGCCG\n",
      "AGGTGAAGGATGCGC\n",
      "AGGTGCTGGATGCGC\n",
      "AGGTATGGGCGACGC\n",
      "AAAAATGGGATGCGC\n",
      "AGGTATACAATGCGC\n",
      "AGGTATGGGATCAAC\n",
      "AGGTATTCCATGCGC\n",
      "AGGTATGGGAATAGC\n",
      "AGGTATGTTCTGCGC\n",
      "AGGTATGGGATGATA\n",
      "GCGTATGGGATGCGT\n",
      "TCTTATGGGATGCGC\n",
      "AGGTATGGAGCGCGC\n",
      "AGGCCAGGGATGCGC\n",
      "AGGTAACCGATGCGC\n",
      "AGGTACCCGATGCGC\n",
      "AGTCTTGGGATGCGC\n",
      "63\n"
     ]
    }
   ],
   "source": [
    "with open(\"./Desktop/test_8.txt\", \"r\") as file:\n",
    "    count = 0\n",
    "    Dna = []\n",
    "    for line in file:\n",
    "        count = count + 1\n",
    "        if count == 1:\n",
    "            ncount = 0\n",
    "            numbers = line.split( )\n",
    "            k = int(numbers[0])       \n",
    "            t = int(numbers[1])    \n",
    "            N = int(numbers[2])\n",
    "        else:\n",
    "             Dna.append(line.rstrip('\\n'))\n",
    "                \n",
    "a = RandomStart(20, k, t, N, Dna)\n",
    "print(Score(a))"
   ]
  },
  {
   "cell_type": "code",
   "execution_count": 143,
   "metadata": {},
   "outputs": [
    {
     "name": "stdout",
     "output_type": "stream",
     "text": [
      "72\n"
     ]
    }
   ],
   "source": [
    "print(min(scores))"
   ]
  },
  {
   "cell_type": "code",
   "execution_count": 118,
   "metadata": {},
   "outputs": [
    {
     "data": {
      "text/plain": [
       "20"
      ]
     },
     "execution_count": 118,
     "metadata": {},
     "output_type": "execute_result"
    }
   ],
   "source": [
    "len(scores)"
   ]
  },
  {
   "cell_type": "code",
   "execution_count": 121,
   "metadata": {},
   "outputs": [
    {
     "data": {
      "text/plain": [
       "320"
      ]
     },
     "execution_count": 121,
     "metadata": {},
     "output_type": "execute_result"
    }
   ],
   "source": [
    "len(Dna[1])\n"
   ]
  },
  {
   "cell_type": "code",
   "execution_count": 14,
   "metadata": {
    "collapsed": true
   },
   "outputs": [],
   "source": [
    "def Probability(pattern, Profile):\n",
    "    probability = 1\n",
    "    for i in range (0, len(pattern)):\n",
    "        if pattern[i] == \"A\":\n",
    "            probability = probability * Profile[0][i]\n",
    "        elif pattern[i] == \"C\":\n",
    "            probability = probability * Profile[1][i]\n",
    "        elif pattern[i] == \"G\":\n",
    "            probability = probability * Profile[2][i]\n",
    "        elif pattern[i] == \"T\":\n",
    "            probability = probability * Profile[3][i]\n",
    "    return probability"
   ]
  },
  {
   "cell_type": "code",
   "execution_count": null,
   "metadata": {
    "collapsed": true
   },
   "outputs": [],
   "source": []
  }
 ],
 "metadata": {
  "kernelspec": {
   "display_name": "Python 3",
   "language": "python",
   "name": "python3"
  },
  "language_info": {
   "codemirror_mode": {
    "name": "ipython",
    "version": 3
   },
   "file_extension": ".py",
   "mimetype": "text/x-python",
   "name": "python",
   "nbconvert_exporter": "python",
   "pygments_lexer": "ipython3",
   "version": "3.6.2"
  }
 },
 "nbformat": 4,
 "nbformat_minor": 2
}
