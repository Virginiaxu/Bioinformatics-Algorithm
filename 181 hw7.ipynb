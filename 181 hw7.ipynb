{
 "cells": [
  {
   "cell_type": "code",
   "execution_count": 134,
   "metadata": {},
   "outputs": [],
   "source": [
    "def TrieConstruction(Patterns):\n",
    "    Trie = {}\n",
    "    newNode = 0\n",
    "    Trie[0] = []\n",
    "    for pattern in Patterns:\n",
    "        currentNode = 0\n",
    "        for i in range(len(pattern)):\n",
    "            addNode = True\n",
    "            for pair in Trie[currentNode]:\n",
    "                if pattern[i] == pair[1]:\n",
    "                    currentNode = pair[0]\n",
    "                    addNode = False\n",
    "            if addNode:\n",
    "                newNode += 1\n",
    "                Trie[currentNode].append((newNode, pattern[i]))\n",
    "                Trie[newNode] = []\n",
    "                currentNode = newNode\n",
    "    return Trie\n",
    "                \n",
    "        "
   ]
  },
  {
   "cell_type": "code",
   "execution_count": 135,
   "metadata": {
    "collapsed": true
   },
   "outputs": [],
   "source": [
    "patterns = [\"ATAGA\",\"ATC\",\"GAT\"]"
   ]
  },
  {
   "cell_type": "code",
   "execution_count": 137,
   "metadata": {
    "scrolled": true
   },
   "outputs": [
    {
     "name": "stdout",
     "output_type": "stream",
     "text": [
      "{0: [(1, 'A'), (7, 'G')], 1: [(2, 'T')], 2: [(3, 'A'), (6, 'C')], 3: [(4, 'G')], 4: [(5, 'A')], 5: [], 6: [], 7: [(8, 'A')], 8: [(9, 'T')], 9: []}\n",
      "0->1:A\n",
      "0->7:G\n",
      "1->2:T\n",
      "2->3:A\n",
      "2->6:C\n",
      "3->4:G\n",
      "4->5:A\n",
      "7->8:A\n",
      "8->9:T\n"
     ]
    }
   ],
   "source": [
    "Trie = TrieConstruction(patterns)\n",
    "print(Trie)\n",
    "for key in Trie.keys():\n",
    "    for pair in Trie[key]:\n",
    "        print(str(key) + \"->\" + str(pair[0]) + \":\" + pair[1])"
   ]
  },
  {
   "cell_type": "code",
   "execution_count": 5,
   "metadata": {
    "collapsed": true
   },
   "outputs": [],
   "source": [
    "a = {}\n",
    "a[1] = []\n",
    "a[1].append((2,\"A\"))\n",
    "a[1].append((3, \"B\"))"
   ]
  },
  {
   "cell_type": "code",
   "execution_count": 17,
   "metadata": {},
   "outputs": [
    {
     "name": "stdout",
     "output_type": "stream",
     "text": [
      "ha\n"
     ]
    }
   ],
   "source": [
    "if \"A\" in (pair[1] for pair in a[1]):\n",
    "    print(\"ha\")"
   ]
  },
  {
   "cell_type": "code",
   "execution_count": 62,
   "metadata": {},
   "outputs": [],
   "source": [
    "file = open(\"./Desktop/61_test.txt\", \"r\")\n",
    "Patterns = []\n",
    "for line in file:\n",
    "    Patterns.append(line.rstrip(\"\\n\"))\n",
    "Trie = TrieConstruction(Patterns)\n",
    "writefile = open(\"./Desktop/61_result.txt\", \"w\")\n",
    "for key in Trie.keys():\n",
    "    for pair in Trie[key]:\n",
    "        writefile.write(str(key) + \"->\" + str(pair[0]) + \":\" + pair[1] + \"\\n\")\n",
    "writefile.close()\n",
    "file.close()\n"
   ]
  },
  {
   "cell_type": "code",
   "execution_count": 147,
   "metadata": {},
   "outputs": [],
   "source": [
    "def PrefixTrieMatching(Text, Trie):\n",
    "    symbol_index = 0\n",
    "    v = 0\n",
    "    while True:\n",
    "        if Trie[v] == []:\n",
    "            print(v)\n",
    "            return True\n",
    "        else:\n",
    "            nomatches = True\n",
    "            for pair in Trie[v]:\n",
    "                if symbol_index >= len(Text):\n",
    "                    return False\n",
    "                elif pair[1] == Text[symbol_index]:\n",
    "                    symbol_index += 1\n",
    "                    v = pair[0]\n",
    "                    nomatches = False\n",
    "            if nomatches:\n",
    "                return False"
   ]
  },
  {
   "cell_type": "code",
   "execution_count": 96,
   "metadata": {
    "collapsed": true
   },
   "outputs": [],
   "source": [
    "def TrieMathching(Text, Trie):\n",
    "    index = 0\n",
    "    result = []\n",
    "    while len(Text) > 0:\n",
    "        found = PrefixTrieMatching(Text, Trie)\n",
    "        if found:\n",
    "            result.append(index)\n",
    "        Text = Text[1:]\n",
    "        index += 1\n",
    "    return result"
   ]
  },
  {
   "cell_type": "code",
   "execution_count": 127,
   "metadata": {},
   "outputs": [
    {
     "name": "stdout",
     "output_type": "stream",
     "text": [
      "1 4 11 15\n"
     ]
    }
   ],
   "source": [
    "text=\"AATCGGGTTCAATCGGGGT\"\n",
    "patterns=[\"ATCG\",\"GGGT\"]\n",
    "trie = TrieConstruction(patterns)\n",
    "res = TrieMathching(text, trie)\n",
    "print(*res, sep=\" \")"
   ]
  },
  {
   "cell_type": "code",
   "execution_count": 148,
   "metadata": {},
   "outputs": [
    {
     "name": "stdout",
     "output_type": "stream",
     "text": [
      "44\n",
      "44\n",
      "44\n",
      "44\n",
      "44\n",
      "44\n",
      "44\n",
      "44\n",
      "44\n",
      "44\n",
      "44\n",
      "17\n",
      "44\n",
      "44\n",
      "59\n",
      "17\n",
      "17\n",
      "17\n",
      "17\n",
      "44\n",
      "44\n",
      "52\n",
      "35\n",
      "35\n",
      "35\n",
      "35\n",
      "35\n",
      "35\n",
      "35\n",
      "381 382 383 389 390 668 669 675 676 1934 1935 2065 3124 3125 3625 3937 3944 4088 4095 5984 5985 6658 7092 7111 7118 7612 7613 7620 8079\n"
     ]
    }
   ],
   "source": [
    "file = open(\"./Desktop/62_test.txt\", \"r\")\n",
    "count = 0\n",
    "Text = \"\"\n",
    "Patterns = []\n",
    "for line in file:\n",
    "    count += 1\n",
    "    if count == 1:\n",
    "        Text = line.rstrip(\"\\n\")\n",
    "    else:\n",
    "        Patterns.append(line.rstrip(\"\\n\"))\n",
    "Trie = TrieConstruction(Patterns)\n",
    "res = TrieMathching(Text, Trie)\n",
    "print(*res, sep=\" \")"
   ]
  },
  {
   "cell_type": "code",
   "execution_count": 144,
   "metadata": {},
   "outputs": [
    {
     "data": {
      "text/plain": [
       "'TACTGCTG'"
      ]
     },
     "execution_count": 144,
     "metadata": {},
     "output_type": "execute_result"
    }
   ],
   "source": [
    "Text[382: 390]"
   ]
  },
  {
   "cell_type": "code",
   "execution_count": 150,
   "metadata": {},
   "outputs": [
    {
     "data": {
      "text/plain": [
       "{0: [(1, 'G'), (18, 'T'), (27, 'C'), (36, 'A')],\n",
       " 1: [(2, 'T'), (10, 'G'), (45, 'C')],\n",
       " 2: [(3, 'A')],\n",
       " 3: [(4, 'G')],\n",
       " 4: [(5, 'T')],\n",
       " 5: [(6, 'A')],\n",
       " 6: [(7, 'A')],\n",
       " 7: [(8, 'G')],\n",
       " 8: [(9, 'T')],\n",
       " 9: [],\n",
       " 10: [(11, 'T')],\n",
       " 11: [(12, 'C')],\n",
       " 12: [(13, 'G')],\n",
       " 13: [(14, 'G')],\n",
       " 14: [(15, 'G')],\n",
       " 15: [(16, 'G')],\n",
       " 16: [(17, 'G')],\n",
       " 17: [],\n",
       " 18: [(19, 'C')],\n",
       " 19: [(20, 'C')],\n",
       " 20: [(21, 'T')],\n",
       " 21: [(22, 'T')],\n",
       " 22: [(23, 'A')],\n",
       " 23: [(24, 'C')],\n",
       " 24: [(25, 'T')],\n",
       " 25: [(26, 'C')],\n",
       " 26: [],\n",
       " 27: [(28, 'T')],\n",
       " 28: [(29, 'C')],\n",
       " 29: [(30, 'T')],\n",
       " 30: [(31, 'T')],\n",
       " 31: [(32, 'C')],\n",
       " 32: [(33, 'C')],\n",
       " 33: [(34, 'C')],\n",
       " 34: [(35, 'T')],\n",
       " 35: [],\n",
       " 36: [(37, 'C')],\n",
       " 37: [(38, 'T')],\n",
       " 38: [(39, 'G')],\n",
       " 39: [(40, 'C')],\n",
       " 40: [(41, 'T')],\n",
       " 41: [(42, 'G')],\n",
       " 42: [(43, 'A')],\n",
       " 43: [(44, 'C')],\n",
       " 44: [],\n",
       " 45: [(46, 'G'), (53, 'T')],\n",
       " 46: [(47, 'C')],\n",
       " 47: [(48, 'C')],\n",
       " 48: [(49, 'A')],\n",
       " 49: [(50, 'C')],\n",
       " 50: [(51, 'G')],\n",
       " 51: [(52, 'C')],\n",
       " 52: [],\n",
       " 53: [(54, 'G')],\n",
       " 54: [(55, 'C')],\n",
       " 55: [(56, 'G')],\n",
       " 56: [(57, 'C')],\n",
       " 57: [(58, 'G')],\n",
       " 58: [(59, 'C')],\n",
       " 59: []}"
      ]
     },
     "execution_count": 150,
     "metadata": {},
     "output_type": "execute_result"
    }
   ],
   "source": [
    "Trie"
   ]
  },
  {
   "cell_type": "code",
   "execution_count": null,
   "metadata": {
    "collapsed": true
   },
   "outputs": [],
   "source": []
  }
 ],
 "metadata": {
  "kernelspec": {
   "display_name": "Python 3",
   "language": "python",
   "name": "python3"
  },
  "language_info": {
   "codemirror_mode": {
    "name": "ipython",
    "version": 3
   },
   "file_extension": ".py",
   "mimetype": "text/x-python",
   "name": "python",
   "nbconvert_exporter": "python",
   "pygments_lexer": "ipython3",
   "version": "3.6.2"
  }
 },
 "nbformat": 4,
 "nbformat_minor": 2
}
